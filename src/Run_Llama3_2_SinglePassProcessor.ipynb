{
 "cells": [
  {
   "cell_type": "code",
   "execution_count": 1,
   "id": "c89ef1dc-24c2-4a52-9614-4fa886b36f45",
   "metadata": {},
   "outputs": [
    {
     "name": "stderr",
     "output_type": "stream",
     "text": [
      "/home/leeh65@ds.vumc.io/.local/lib/python3.11/site-packages/tqdm/auto.py:21: TqdmWarning: IProgress not found. Please update jupyter and ipywidgets. See https://ipywidgets.readthedocs.io/en/stable/user_install.html\n",
      "  from .autonotebook import tqdm as notebook_tqdm\n"
     ]
    },
    {
     "name": "stdout",
     "output_type": "stream",
     "text": [
      "🦥 Unsloth: Will patch your computer to enable 2x faster free finetuning.\n",
      "==((====))==  Unsloth 2024.10.7: Fast Llama patching. Transformers = 4.44.2.\n",
      "   \\\\   /|    GPU: NVIDIA A100-PCIE-40GB. Max memory: 39.431 GB. Platform = Linux.\n",
      "O^O/ \\_/ \\    Pytorch: 2.4.0+cu121. CUDA = 8.0. CUDA Toolkit = 12.1.\n",
      "\\        /    Bfloat16 = TRUE. FA [Xformers = 0.0.27.post2. FA2 = False]\n",
      " \"-____-\"     Free Apache license: http://github.com/unslothai/unsloth\n"
     ]
    },
    {
     "name": "stderr",
     "output_type": "stream",
     "text": [
      "Loading checkpoint shards: 100%|██████████████████| 2/2 [00:02<00:00,  1.33s/it]\n",
      "../Llama3_2_3B/ does not have a padding token! Will use pad_token = <|finetune_right_pad_id|>.\n",
      "Unsloth: We fixed a gradient accumulation bug, but it seems like you don't have the latest transformers version!\n",
      "Please update transformers, TRL and unsloth via:\n",
      "`pip install --upgrade --no-cache-dir unsloth git+https://github.com/huggingface/transformers.git git+https://github.com/huggingface/trl.git`\n"
     ]
    },
    {
     "name": "stdout",
     "output_type": "stream",
     "text": [
      "Initializing processor...\n",
      "Processor initialized\n"
     ]
    },
    {
     "name": "stderr",
     "output_type": "stream",
     "text": [
      "Processing notes:   0%|                                 | 0/363 [00:00<?, ?it/s]The attention mask is not set and cannot be inferred from input because pad token is same as eos token. As a consequence, you may observe unexpected behavior. Please pass your input's `attention_mask` to obtain reliable results.\n"
     ]
    },
    {
     "name": "stdout",
     "output_type": "stream",
     "text": [
      "\n",
      "Processing note 1/363\n",
      "Creating prompt...\n",
      "{\n",
      "    \"person_id\": 5088320, \n",
      "    \"note_date\": \"2017-11-13\", \n",
      "    \"CLASSIFICATION\": 1\n",
      "}\n",
      "Note processed in 5.33 seconds\n"
     ]
    },
    {
     "name": "stderr",
     "output_type": "stream",
     "text": [
      "Processing notes:   0%|                         | 1/363 [00:05<33:37,  5.57s/it]"
     ]
    },
    {
     "name": "stdout",
     "output_type": "stream",
     "text": [
      "Memory cleaned\n",
      "\n",
      "Processing note 2/363\n",
      "Creating prompt...\n",
      "{\n",
      "    \"person_id\": 5097357, \n",
      "    \"note_date\": \"2002-01-21\", \n",
      "    \"CLASSIFICATION\": 1\n",
      "}\n",
      "Note processed in 2.24 seconds\n"
     ]
    },
    {
     "name": "stderr",
     "output_type": "stream",
     "text": [
      "Processing notes:   1%|▏                        | 2/363 [00:08<22:43,  3.78s/it]"
     ]
    },
    {
     "name": "stdout",
     "output_type": "stream",
     "text": [
      "Memory cleaned\n",
      "\n",
      "Processing note 3/363\n",
      "Creating prompt...\n",
      "{\n",
      "    \"person_id\": 5108857, \n",
      "    \"note_date\": \"2012-03-26\", \n",
      "    \"CLASSIFICATION\": 1\n",
      "}\n",
      "Note processed in 2.57 seconds\n"
     ]
    },
    {
     "name": "stderr",
     "output_type": "stream",
     "text": [
      "Processing notes:   1%|▏                        | 3/363 [00:10<19:55,  3.32s/it]"
     ]
    },
    {
     "name": "stdout",
     "output_type": "stream",
     "text": [
      "Memory cleaned\n",
      "\n",
      "Processing note 4/363\n",
      "Creating prompt...\n",
      "{\n",
      "    \"person_id\": 5120992, \n",
      "    \"note_date\": \"2003-10-10\", \n",
      "    \"CLASSIFICATION\": 1\n",
      "}\n",
      "Note processed in 3.46 seconds\n"
     ]
    },
    {
     "name": "stderr",
     "output_type": "stream",
     "text": [
      "Processing notes:   1%|▎                        | 4/363 [00:14<20:50,  3.48s/it]"
     ]
    },
    {
     "name": "stdout",
     "output_type": "stream",
     "text": [
      "Memory cleaned\n",
      "\n",
      "Processing note 5/363\n",
      "Creating prompt...\n",
      "{\n",
      "    \"person_id\": 5147903, \n",
      "    \"note_date\": \"2016-04-06\", \n",
      "    \"CLASSIFICATION\": 1\n",
      "}\n",
      "Note processed in 2.88 seconds\n"
     ]
    },
    {
     "name": "stderr",
     "output_type": "stream",
     "text": [
      "Processing notes:   1%|▎                        | 5/363 [00:17<19:56,  3.34s/it]"
     ]
    },
    {
     "name": "stdout",
     "output_type": "stream",
     "text": [
      "Memory cleaned\n",
      "\n",
      "Processing note 6/363\n",
      "Creating prompt...\n",
      "{\"person_id\": 5156770, \"note_date\": \"2018-07-11\", \"CLASSIFICATION\": 1}\n",
      "Note processed in 3.10 seconds\n"
     ]
    },
    {
     "name": "stderr",
     "output_type": "stream",
     "text": [
      "Processing notes:   2%|▍                        | 6/363 [00:21<19:49,  3.33s/it]"
     ]
    },
    {
     "name": "stdout",
     "output_type": "stream",
     "text": [
      "Memory cleaned\n",
      "\n",
      "Processing note 7/363\n",
      "Creating prompt...\n",
      "{\n",
      "  \"person_id\": 5166699, \n",
      "  \"note_date\": \"2020-10-31\", \n",
      "  \"CLASSIFICATION\": 1\n",
      "}\n",
      "Note processed in 3.86 seconds\n"
     ]
    },
    {
     "name": "stderr",
     "output_type": "stream",
     "text": [
      "Processing notes:   2%|▍                        | 7/363 [00:25<21:13,  3.58s/it]"
     ]
    },
    {
     "name": "stdout",
     "output_type": "stream",
     "text": [
      "Memory cleaned\n",
      "\n",
      "Processing note 8/363\n",
      "Creating prompt...\n",
      "{\"person_id\": 5180707, \"note_date\": \"2020-06-22\", \"CLASSIFICATION\": 1}\n",
      "Note processed in 2.75 seconds\n"
     ]
    },
    {
     "name": "stderr",
     "output_type": "stream",
     "text": [
      "Processing notes:   2%|▌                        | 8/363 [00:28<20:08,  3.40s/it]"
     ]
    },
    {
     "name": "stdout",
     "output_type": "stream",
     "text": [
      "Memory cleaned\n",
      "\n",
      "Processing note 9/363\n",
      "Creating prompt...\n",
      "{\"person_id\": 5198459, \"note_date\": \"2010-09-08\", \"CLASSIFICATION\": 0}\n",
      "Note processed in 3.17 seconds\n"
     ]
    },
    {
     "name": "stderr",
     "output_type": "stream",
     "text": [
      "Processing notes:   2%|▌                        | 9/363 [00:31<20:02,  3.40s/it]"
     ]
    },
    {
     "name": "stdout",
     "output_type": "stream",
     "text": [
      "Memory cleaned\n",
      "\n",
      "Processing note 10/363\n",
      "Creating prompt...\n",
      "{\n",
      "    \"person_id\": 5249239, \n",
      "    \"note_date\": \"2020-07-07\", \n",
      "    \"CLASSIFICATION\": 1\n",
      "}\n",
      "Note processed in 2.74 seconds\n"
     ]
    },
    {
     "name": "stderr",
     "output_type": "stream",
     "text": [
      "Processing notes:   3%|▋                       | 10/363 [00:34<19:11,  3.26s/it]"
     ]
    },
    {
     "name": "stdout",
     "output_type": "stream",
     "text": [
      "Memory cleaned\n",
      "\n",
      "Processing note 11/363\n",
      "Creating prompt...\n",
      "{\n",
      "    \"person_id\": 5259563, \n",
      "    \"note_date\": \"2003-05-03\", \n",
      "    \"CLASSIFICATION\": 1\n",
      "}\n",
      "Note processed in 2.22 seconds\n"
     ]
    },
    {
     "name": "stderr",
     "output_type": "stream",
     "text": [
      "Processing notes:   3%|▋                       | 11/363 [00:36<17:38,  3.01s/it]"
     ]
    },
    {
     "name": "stdout",
     "output_type": "stream",
     "text": [
      "Memory cleaned\n",
      "\n",
      "Processing note 12/363\n",
      "Creating prompt...\n",
      "{\n",
      "  \"person_id\": 5318058, \n",
      "  \"note_date\": \"2019-09-05\", \n",
      "  \"CLASSIFICATION\": 1\n",
      "}\n",
      "Note processed in 2.88 seconds\n"
     ]
    },
    {
     "name": "stderr",
     "output_type": "stream",
     "text": [
      "Processing notes:   3%|▊                       | 12/363 [00:39<17:45,  3.03s/it]"
     ]
    },
    {
     "name": "stdout",
     "output_type": "stream",
     "text": [
      "Memory cleaned\n",
      "\n",
      "Processing note 13/363\n",
      "Creating prompt...\n",
      "{\n",
      "    \"person_id\": 5318340, \n",
      "    \"note_date\": \"2010-12-01\", \n",
      "    \"CLASSIFICATION\": 1\n",
      "}\n",
      "Note processed in 2.31 seconds\n"
     ]
    },
    {
     "name": "stderr",
     "output_type": "stream",
     "text": [
      "Processing notes:   4%|▊                       | 13/363 [00:42<16:52,  2.89s/it]"
     ]
    },
    {
     "name": "stdout",
     "output_type": "stream",
     "text": [
      "Memory cleaned\n",
      "\n",
      "Processing note 14/363\n",
      "Creating prompt...\n",
      "{\n",
      "    \"person_id\": 5410021, \n",
      "    \"note_date\": \"2003-10-24\", \n",
      "    \"CLASSIFICATION\": 1\n",
      "}\n",
      "Note processed in 6.60 seconds\n"
     ]
    },
    {
     "name": "stderr",
     "output_type": "stream",
     "text": [
      "Processing notes:   4%|▉                       | 14/363 [00:49<23:46,  4.09s/it]"
     ]
    },
    {
     "name": "stdout",
     "output_type": "stream",
     "text": [
      "Memory cleaned\n",
      "\n",
      "Processing note 15/363\n",
      "Creating prompt...\n",
      "{\n",
      "  \"person_id\": 5427603, \n",
      "  \"note_date\": \"2019-12-08\", \n",
      "  \"CLASSIFICATION\": 1\n",
      "}\n",
      "Note processed in 3.78 seconds\n"
     ]
    },
    {
     "name": "stderr",
     "output_type": "stream",
     "text": [
      "Processing notes:   4%|▉                       | 15/363 [00:53<23:33,  4.06s/it]"
     ]
    },
    {
     "name": "stdout",
     "output_type": "stream",
     "text": [
      "Memory cleaned\n",
      "\n",
      "Processing note 16/363\n",
      "Creating prompt...\n",
      "{\n",
      "    \"person_id\": 5558653, \n",
      "    \"note_date\": \"2019-11-14\", \n",
      "    \"CLASSIFICATION\": 0\n",
      "}\n",
      "Note processed in 8.57 seconds\n"
     ]
    },
    {
     "name": "stderr",
     "output_type": "stream",
     "text": [
      "Processing notes:   4%|█                       | 16/363 [01:02<31:48,  5.50s/it]"
     ]
    },
    {
     "name": "stdout",
     "output_type": "stream",
     "text": [
      "Memory cleaned\n",
      "\n",
      "Processing note 17/363\n",
      "Creating prompt...\n",
      "{\n",
      "    \"person_id\": 5626597,\n",
      "    \"note_date\": \"2019-09-08\",\n",
      "    \"CLASSIFICATION\": 1\n",
      "}\n",
      "Note processed in 4.81 seconds\n"
     ]
    },
    {
     "name": "stderr",
     "output_type": "stream",
     "text": [
      "Processing notes:   5%|█                       | 17/363 [01:07<30:55,  5.36s/it]"
     ]
    },
    {
     "name": "stdout",
     "output_type": "stream",
     "text": [
      "Memory cleaned\n",
      "\n",
      "Processing note 18/363\n",
      "Creating prompt...\n",
      "{\n",
      "    \"person_id\": 5628738, \n",
      "    \"note_date\": \"2002-08-20\", \n",
      "    \"CLASSIFICATION\": 0\n",
      "}\n",
      "Note processed in 2.35 seconds\n"
     ]
    },
    {
     "name": "stderr",
     "output_type": "stream",
     "text": [
      "Processing notes:   5%|█▏                      | 18/363 [01:09<26:02,  4.53s/it]"
     ]
    },
    {
     "name": "stdout",
     "output_type": "stream",
     "text": [
      "Memory cleaned\n",
      "\n",
      "Processing note 19/363\n",
      "Creating prompt...\n",
      "{\"person_id\": 5629435, \"note_date\": \"2019-10-08\", \"CLASSIFICATION\": 1}\n",
      "Note processed in 3.25 seconds\n"
     ]
    },
    {
     "name": "stderr",
     "output_type": "stream",
     "text": [
      "Processing notes:   5%|█▎                      | 19/363 [01:13<24:09,  4.21s/it]"
     ]
    },
    {
     "name": "stdout",
     "output_type": "stream",
     "text": [
      "Memory cleaned\n",
      "\n",
      "Processing note 20/363\n",
      "Creating prompt...\n",
      "{\"person_id\": 5646466, \"note_date\": \"2019-08-28\", \"CLASSIFICATION\": 1}\n",
      "Note processed in 3.99 seconds\n"
     ]
    },
    {
     "name": "stderr",
     "output_type": "stream",
     "text": [
      "Processing notes:   6%|█▎                      | 20/363 [01:17<24:04,  4.21s/it]"
     ]
    },
    {
     "name": "stdout",
     "output_type": "stream",
     "text": [
      "Memory cleaned\n",
      "\n",
      "Processing note 21/363\n",
      "Creating prompt...\n",
      "{\n",
      "  \"person_id\": 5697237, \n",
      "  \"note_date\": \"2020-09-22\", \n",
      "  \"CLASSIFICATION\": 1\n",
      "}\n",
      "Note processed in 3.10 seconds\n"
     ]
    },
    {
     "name": "stderr",
     "output_type": "stream",
     "text": [
      "Processing notes:   6%|█▍                      | 21/363 [01:20<22:28,  3.94s/it]"
     ]
    },
    {
     "name": "stdout",
     "output_type": "stream",
     "text": [
      "Memory cleaned\n",
      "\n",
      "Processing note 22/363\n",
      "Creating prompt...\n",
      "{\"person_id\": 5700331, \"note_date\": \"2018-09-05\", \"CLASSIFICATION\": 1}\n",
      "Note processed in 2.72 seconds\n"
     ]
    },
    {
     "name": "stderr",
     "output_type": "stream",
     "text": [
      "Processing notes:   6%|█▍                      | 22/363 [01:23<20:41,  3.64s/it]"
     ]
    },
    {
     "name": "stdout",
     "output_type": "stream",
     "text": [
      "Memory cleaned\n",
      "\n",
      "Processing note 23/363\n",
      "Creating prompt...\n",
      "{\n",
      "    \"person_id\": 5708109, \n",
      "    \"note_date\": \"2004-07-29\", \n",
      "    \"CLASSIFICATION\": 1\n",
      "}\n",
      "Note processed in 2.17 seconds\n"
     ]
    },
    {
     "name": "stderr",
     "output_type": "stream",
     "text": [
      "Processing notes:   6%|█▌                      | 23/363 [01:26<18:29,  3.26s/it]"
     ]
    },
    {
     "name": "stdout",
     "output_type": "stream",
     "text": [
      "Memory cleaned\n",
      "\n",
      "Processing note 24/363\n",
      "Creating prompt...\n",
      "{\n",
      "    \"person_id\": 5756101, \n",
      "    \"note_date\": \"2019-05-13\", \n",
      "    \"CLASSIFICATION\": 1\n",
      "}\n",
      "Note processed in 2.69 seconds\n"
     ]
    },
    {
     "name": "stderr",
     "output_type": "stream",
     "text": [
      "Processing notes:   7%|█▌                      | 24/363 [01:29<17:50,  3.16s/it]"
     ]
    },
    {
     "name": "stdout",
     "output_type": "stream",
     "text": [
      "Memory cleaned\n",
      "\n",
      "Processing note 25/363\n",
      "Creating prompt...\n",
      "{\"person_id\": 5810462, \"note_date\": \"2020-06-29\", \"CLASSIFICATION\": 0}\n",
      "Note processed in 6.81 seconds\n"
     ]
    },
    {
     "name": "stderr",
     "output_type": "stream",
     "text": [
      "Processing notes:   7%|█▋                      | 25/363 [01:36<24:22,  4.33s/it]"
     ]
    },
    {
     "name": "stdout",
     "output_type": "stream",
     "text": [
      "Memory cleaned\n",
      "\n",
      "Processing note 26/363\n",
      "Creating prompt...\n",
      "{\n",
      "    \"person_id\": 5857161, \n",
      "    \"note_date\": \"2018-05-16\", \n",
      "    \"CLASSIFICATION\": 1\n",
      "}\n",
      "Note processed in 3.37 seconds\n"
     ]
    },
    {
     "name": "stderr",
     "output_type": "stream",
     "text": [
      "Processing notes:   7%|█▋                      | 26/363 [01:39<23:07,  4.12s/it]"
     ]
    },
    {
     "name": "stdout",
     "output_type": "stream",
     "text": [
      "Memory cleaned\n",
      "\n",
      "Processing note 27/363\n",
      "Creating prompt...\n",
      "{\n",
      "  \"person_id\": 5878251, \n",
      "  \"note_date\": \"2018-04-26\", \n",
      "  \"CLASSIFICATION\": 1\n",
      "}\n",
      "Note processed in 4.66 seconds\n"
     ]
    },
    {
     "name": "stderr",
     "output_type": "stream",
     "text": [
      "Processing notes:   7%|█▊                      | 27/363 [01:44<24:21,  4.35s/it]"
     ]
    },
    {
     "name": "stdout",
     "output_type": "stream",
     "text": [
      "Memory cleaned\n",
      "\n",
      "Processing note 28/363\n",
      "Creating prompt...\n",
      "{\n",
      "    \"person_id\": 5879382, \n",
      "    \"note_date\": \"2016-02-02\", \n",
      "    \"CLASSIFICATION\": 1\n",
      "}\n",
      "Note processed in 2.26 seconds\n"
     ]
    },
    {
     "name": "stderr",
     "output_type": "stream",
     "text": [
      "Processing notes:   8%|█▊                      | 28/363 [01:47<21:09,  3.79s/it]"
     ]
    },
    {
     "name": "stdout",
     "output_type": "stream",
     "text": [
      "Memory cleaned\n",
      "\n",
      "Processing note 29/363\n",
      "Creating prompt...\n",
      "{\n",
      "    \"person_id\": 5880719, \n",
      "    \"note_date\": \"2009-02-23\", \n",
      "    \"CLASSIFICATION\": 1\n",
      "}\n",
      "Note processed in 2.20 seconds\n"
     ]
    },
    {
     "name": "stderr",
     "output_type": "stream",
     "text": [
      "Processing notes:   8%|█▉                      | 29/363 [01:49<18:48,  3.38s/it]"
     ]
    },
    {
     "name": "stdout",
     "output_type": "stream",
     "text": [
      "Memory cleaned\n",
      "\n",
      "Processing note 30/363\n",
      "Creating prompt...\n",
      "{\n",
      "    \"person_id\": 5906435, \n",
      "    \"note_date\": \"2017-03-29\", \n",
      "    \"CLASSIFICATION\": 1\n",
      "}\n",
      "Note processed in 2.21 seconds\n"
     ]
    },
    {
     "name": "stderr",
     "output_type": "stream",
     "text": [
      "Processing notes:   8%|█▉                      | 30/363 [01:52<17:12,  3.10s/it]"
     ]
    },
    {
     "name": "stdout",
     "output_type": "stream",
     "text": [
      "Memory cleaned\n",
      "\n",
      "Processing note 31/363\n",
      "Creating prompt...\n",
      "{\"person_id\": 5910423, \"note_date\": \"2018-11-08\", \"CLASSIFICATION\": 1}\n",
      "Note processed in 3.84 seconds\n"
     ]
    },
    {
     "name": "stderr",
     "output_type": "stream",
     "text": [
      "Processing notes:   9%|██                      | 31/363 [01:56<18:45,  3.39s/it]"
     ]
    },
    {
     "name": "stdout",
     "output_type": "stream",
     "text": [
      "Memory cleaned\n",
      "\n",
      "Processing note 32/363\n",
      "Creating prompt...\n",
      "{\n",
      "    \"person_id\": 5989400, \n",
      "    \"note_date\": \"2004-04-24\", \n",
      "    \"CLASSIFICATION\": 1\n",
      "}\n",
      "Note processed in 2.61 seconds\n"
     ]
    },
    {
     "name": "stderr",
     "output_type": "stream",
     "text": [
      "Processing notes:   9%|██                      | 32/363 [01:58<17:45,  3.22s/it]"
     ]
    },
    {
     "name": "stdout",
     "output_type": "stream",
     "text": [
      "Memory cleaned\n",
      "\n",
      "Processing note 33/363\n",
      "Creating prompt...\n",
      "{\n",
      "\"person_id\": 6018150, \n",
      "\"note_date\": \"2018-07-31\", \n",
      "\"CLASSIFICATION\": 1\n",
      "}\n",
      "Note processed in 2.71 seconds\n"
     ]
    },
    {
     "name": "stderr",
     "output_type": "stream",
     "text": [
      "Processing notes:   9%|██▏                     | 33/363 [02:01<17:14,  3.13s/it]"
     ]
    },
    {
     "name": "stdout",
     "output_type": "stream",
     "text": [
      "Memory cleaned\n",
      "\n",
      "Processing note 34/363\n",
      "Creating prompt...\n",
      "{\n",
      "    \"person_id\": 6036521, \n",
      "    \"note_date\": \"2019-02-03\", \n",
      "    \"CLASSIFICATION\": 1\n",
      "}\n",
      "Note processed in 2.46 seconds\n"
     ]
    },
    {
     "name": "stderr",
     "output_type": "stream",
     "text": [
      "Processing notes:   9%|██▏                     | 34/363 [02:04<16:26,  3.00s/it]"
     ]
    },
    {
     "name": "stdout",
     "output_type": "stream",
     "text": [
      "Memory cleaned\n",
      "\n",
      "Processing note 35/363\n",
      "Creating prompt...\n",
      "{\"person_id\": 6057650, \"note_date\": \"2019-05-31\", \"CLASSIFICATION\": 1}\n",
      "Note processed in 2.56 seconds\n"
     ]
    },
    {
     "name": "stderr",
     "output_type": "stream",
     "text": [
      "Processing notes:  10%|██▎                     | 35/363 [02:07<16:02,  2.93s/it]"
     ]
    },
    {
     "name": "stdout",
     "output_type": "stream",
     "text": [
      "Memory cleaned\n",
      "\n",
      "Processing note 36/363\n",
      "Creating prompt...\n",
      "{\n",
      "    \"person_id\": 6070071, \n",
      "    \"note_date\": \"1999-09-03\", \n",
      "    \"CLASSIFICATION\": 1\n",
      "}\n",
      "Note processed in 2.19 seconds\n"
     ]
    },
    {
     "name": "stderr",
     "output_type": "stream",
     "text": [
      "Processing notes:  10%|██▍                     | 36/363 [02:09<15:07,  2.78s/it]"
     ]
    },
    {
     "name": "stdout",
     "output_type": "stream",
     "text": [
      "Memory cleaned\n",
      "\n",
      "Processing note 37/363\n",
      "Creating prompt...\n",
      "{\n",
      "    \"person_id\": 6090138, \n",
      "    \"note_date\": \"2004-11-06\", \n",
      "    \"CLASSIFICATION\": 1\n",
      "}\n",
      "Note processed in 3.07 seconds\n"
     ]
    },
    {
     "name": "stderr",
     "output_type": "stream",
     "text": [
      "Processing notes:  10%|██▍                     | 37/363 [02:13<15:55,  2.93s/it]"
     ]
    },
    {
     "name": "stdout",
     "output_type": "stream",
     "text": [
      "Memory cleaned\n",
      "\n",
      "Processing note 38/363\n",
      "Creating prompt...\n",
      "{\n",
      "  \"person_id\": 6098992, \n",
      "  \"note_date\": \"2003-06-18\", \n",
      "  \"CLASSIFICATION\": 0\n",
      "}\n",
      "Note processed in 4.95 seconds\n"
     ]
    },
    {
     "name": "stderr",
     "output_type": "stream",
     "text": [
      "Processing notes:  10%|██▌                     | 38/363 [02:18<19:48,  3.66s/it]"
     ]
    },
    {
     "name": "stdout",
     "output_type": "stream",
     "text": [
      "Memory cleaned\n",
      "\n",
      "Processing note 39/363\n",
      "Creating prompt...\n",
      "{\n",
      "    \"person_id\": 6146795, \n",
      "    \"note_date\": \"2007-10-17\", \n",
      "    \"CLASSIFICATION\": 1\n",
      "}\n",
      "Note processed in 2.31 seconds\n"
     ]
    },
    {
     "name": "stderr",
     "output_type": "stream",
     "text": [
      "Processing notes:  11%|██▌                     | 39/363 [02:20<17:59,  3.33s/it]"
     ]
    },
    {
     "name": "stdout",
     "output_type": "stream",
     "text": [
      "Memory cleaned\n",
      "\n",
      "Processing note 40/363\n",
      "Creating prompt...\n",
      "{\"person_id\": 6167594, \"note_date\": \"2018-05-23\", \"CLASSIFICATION\": 1}\n",
      "Note processed in 3.43 seconds\n"
     ]
    },
    {
     "name": "stderr",
     "output_type": "stream",
     "text": [
      "Processing notes:  11%|██▋                     | 40/363 [02:24<18:40,  3.47s/it]"
     ]
    },
    {
     "name": "stdout",
     "output_type": "stream",
     "text": [
      "Memory cleaned\n",
      "\n",
      "Processing note 41/363\n",
      "Creating prompt...\n",
      "{\n",
      "    \"person_id\": 6170659, \n",
      "    \"note_date\": \"2018-05-27\", \n",
      "    \"CLASSIFICATION\": 1\n",
      "}\n",
      "Note processed in 2.89 seconds\n"
     ]
    },
    {
     "name": "stderr",
     "output_type": "stream",
     "text": [
      "Processing notes:  11%|██▋                     | 41/363 [02:27<18:08,  3.38s/it]"
     ]
    },
    {
     "name": "stdout",
     "output_type": "stream",
     "text": [
      "Memory cleaned\n",
      "\n",
      "Processing note 42/363\n",
      "Creating prompt...\n",
      "{\n",
      "    \"person_id\": 6228476, \n",
      "    \"note_date\": \"2017-11-10\", \n",
      "    \"CLASSIFICATION\": 0\n",
      "}\n",
      "Note processed in 2.28 seconds\n"
     ]
    },
    {
     "name": "stderr",
     "output_type": "stream",
     "text": [
      "Processing notes:  12%|██▊                     | 42/363 [02:30<16:40,  3.12s/it]"
     ]
    },
    {
     "name": "stdout",
     "output_type": "stream",
     "text": [
      "Memory cleaned\n",
      "\n",
      "Processing note 43/363\n",
      "Creating prompt...\n",
      "{\n",
      "    \"person_id\": 6246710, \n",
      "    \"note_date\": \"2020-04-28\", \n",
      "    \"CLASSIFICATION\": 1\n",
      "}\n",
      "Note processed in 2.75 seconds\n"
     ]
    },
    {
     "name": "stderr",
     "output_type": "stream",
     "text": [
      "Processing notes:  12%|██▊                     | 43/363 [02:33<16:23,  3.07s/it]"
     ]
    },
    {
     "name": "stdout",
     "output_type": "stream",
     "text": [
      "Memory cleaned\n",
      "\n",
      "Processing note 44/363\n",
      "Creating prompt...\n",
      "{\n",
      "  \"person_id\": 6248551, \n",
      "  \"note_date\": \"2008-01-22\", \n",
      "  \"CLASSIFICATION\": 1\n",
      "}\n",
      "Note processed in 3.02 seconds\n"
     ]
    },
    {
     "name": "stderr",
     "output_type": "stream",
     "text": [
      "Processing notes:  12%|██▉                     | 44/363 [02:36<16:36,  3.12s/it]"
     ]
    },
    {
     "name": "stdout",
     "output_type": "stream",
     "text": [
      "Memory cleaned\n",
      "\n",
      "Processing note 45/363\n",
      "Creating prompt...\n",
      "{\n",
      "  \"person_id\": 6250293, \n",
      "  \"note_date\": \"2020-01-09\", \n",
      "  \"CLASSIFICATION\": 0\n",
      "}\n",
      "Note processed in 4.95 seconds\n"
     ]
    },
    {
     "name": "stderr",
     "output_type": "stream",
     "text": [
      "Processing notes:  12%|██▉                     | 45/363 [02:41<19:57,  3.76s/it]"
     ]
    },
    {
     "name": "stdout",
     "output_type": "stream",
     "text": [
      "Memory cleaned\n",
      "\n",
      "Processing note 46/363\n",
      "Creating prompt...\n",
      "{\"person_id\": 6259250, \"note_date\": \"2020-09-14\", \"CLASSIFICATION\": 1}\n",
      "Note processed in 2.99 seconds\n"
     ]
    },
    {
     "name": "stderr",
     "output_type": "stream",
     "text": [
      "Processing notes:  13%|███                     | 46/363 [02:45<19:07,  3.62s/it]"
     ]
    },
    {
     "name": "stdout",
     "output_type": "stream",
     "text": [
      "Memory cleaned\n",
      "\n",
      "Processing note 47/363\n",
      "Creating prompt...\n",
      "{\n",
      "  \"person_id\": 6278535, \n",
      "  \"note_date\": \"2020-11-09\", \n",
      "  \"CLASSIFICATION\": 1\n",
      "}\n",
      "Note processed in 3.81 seconds\n"
     ]
    },
    {
     "name": "stderr",
     "output_type": "stream",
     "text": [
      "Processing notes:  13%|███                     | 47/363 [02:49<19:46,  3.76s/it]"
     ]
    },
    {
     "name": "stdout",
     "output_type": "stream",
     "text": [
      "Memory cleaned\n",
      "\n",
      "Processing note 48/363\n",
      "Creating prompt...\n",
      "{\n",
      "    \"person_id\": 6280539,\n",
      "    \"note_date\": \"2018-05-07\",\n",
      "    \"CLASSIFICATION\": 1\n",
      "}\n",
      "Note processed in 3.87 seconds\n"
     ]
    },
    {
     "name": "stderr",
     "output_type": "stream",
     "text": [
      "Processing notes:  13%|███▏                    | 48/363 [02:53<20:15,  3.86s/it]"
     ]
    },
    {
     "name": "stdout",
     "output_type": "stream",
     "text": [
      "Memory cleaned\n",
      "\n",
      "Processing note 49/363\n",
      "Creating prompt...\n",
      "{\n",
      "    \"person_id\": 6286897, \n",
      "    \"note_date\": \"2012-10-24\", \n",
      "    \"CLASSIFICATION\": 1\n",
      "}\n",
      "Note processed in 3.00 seconds\n"
     ]
    },
    {
     "name": "stderr",
     "output_type": "stream",
     "text": [
      "Processing notes:  13%|███▏                    | 49/363 [02:56<19:11,  3.67s/it]"
     ]
    },
    {
     "name": "stdout",
     "output_type": "stream",
     "text": [
      "Memory cleaned\n",
      "\n",
      "Processing note 50/363\n",
      "Creating prompt...\n",
      "{\n",
      "    \"person_id\": 6317976, \n",
      "    \"note_date\": \"2016-06-12\", \n",
      "    \"CLASSIFICATION\": 1\n",
      "}\n",
      "Note processed in 2.20 seconds\n"
     ]
    },
    {
     "name": "stderr",
     "output_type": "stream",
     "text": [
      "Processing notes:  14%|███▎                    | 50/363 [02:59<17:13,  3.30s/it]"
     ]
    },
    {
     "name": "stdout",
     "output_type": "stream",
     "text": [
      "Memory cleaned\n",
      "\n",
      "Processing note 51/363\n",
      "Creating prompt...\n",
      "{\n",
      "    \"person_id\": 6320404, \n",
      "    \"note_date\": \"2020-11-05\", \n",
      "    \"CLASSIFICATION\": 1\n",
      "}\n",
      "Note processed in 3.53 seconds\n"
     ]
    },
    {
     "name": "stderr",
     "output_type": "stream",
     "text": [
      "Processing notes:  14%|███▎                    | 51/363 [03:02<17:56,  3.45s/it]"
     ]
    },
    {
     "name": "stdout",
     "output_type": "stream",
     "text": [
      "Memory cleaned\n",
      "\n",
      "Processing note 52/363\n",
      "Creating prompt...\n",
      "{\n",
      "    \"person_id\": 6380351, \n",
      "    \"note_date\": \"2015-09-02\", \n",
      "    \"CLASSIFICATION\": 1\n",
      "}\n",
      "Note processed in 2.24 seconds\n"
     ]
    },
    {
     "name": "stderr",
     "output_type": "stream",
     "text": [
      "Processing notes:  14%|███▍                    | 52/363 [03:05<16:20,  3.15s/it]"
     ]
    },
    {
     "name": "stdout",
     "output_type": "stream",
     "text": [
      "Memory cleaned\n",
      "\n",
      "Processing note 53/363\n",
      "Creating prompt...\n",
      "{\n",
      "    \"person_id\": 6396495, \n",
      "    \"note_date\": \"2018-01-21\", \n",
      "    \"CLASSIFICATION\": 1\n",
      "}\n",
      "Note processed in 2.36 seconds\n"
     ]
    },
    {
     "name": "stderr",
     "output_type": "stream",
     "text": [
      "Processing notes:  15%|███▌                    | 53/363 [03:08<15:40,  3.03s/it]"
     ]
    },
    {
     "name": "stdout",
     "output_type": "stream",
     "text": [
      "Memory cleaned\n",
      "\n",
      "Processing note 54/363\n",
      "Creating prompt...\n",
      "{\n",
      "    \"person_id\": 6457725, \n",
      "    \"note_date\": \"2002-09-29\", \n",
      "    \"CLASSIFICATION\": 1\n",
      "}\n",
      "Note processed in 2.34 seconds\n"
     ]
    },
    {
     "name": "stderr",
     "output_type": "stream",
     "text": [
      "Processing notes:  15%|███▌                    | 54/363 [03:10<14:57,  2.91s/it]"
     ]
    },
    {
     "name": "stdout",
     "output_type": "stream",
     "text": [
      "Memory cleaned\n",
      "\n",
      "Processing note 55/363\n",
      "Creating prompt...\n",
      "{\"person_id\": 6467461, \"note_date\": \"2018-01-02\", \"CLASSIFICATION\": 1}\n",
      "Note processed in 4.38 seconds\n"
     ]
    },
    {
     "name": "stderr",
     "output_type": "stream",
     "text": [
      "Processing notes:  15%|███▋                    | 55/363 [03:15<17:32,  3.42s/it]"
     ]
    },
    {
     "name": "stdout",
     "output_type": "stream",
     "text": [
      "Memory cleaned\n",
      "\n",
      "Processing note 56/363\n",
      "Creating prompt...\n",
      "{\n",
      "    \"person_id\": 6489016,\n",
      "    \"note_date\": \"2020-05-27\",\n",
      "    \"CLASSIFICATION\": 1\n",
      "}\n",
      "Note processed in 7.42 seconds\n"
     ]
    },
    {
     "name": "stderr",
     "output_type": "stream",
     "text": [
      "Processing notes:  15%|███▋                    | 56/363 [03:22<24:04,  4.71s/it]"
     ]
    },
    {
     "name": "stdout",
     "output_type": "stream",
     "text": [
      "Memory cleaned\n",
      "\n",
      "Processing note 57/363\n",
      "Creating prompt...\n",
      "{\n",
      "    \"person_id\": 6505989, \n",
      "    \"note_date\": \"2020-01-09\", \n",
      "    \"CLASSIFICATION\": 1\n",
      "}\n",
      "Note processed in 3.57 seconds\n"
     ]
    },
    {
     "name": "stderr",
     "output_type": "stream",
     "text": [
      "Processing notes:  16%|███▊                    | 57/363 [03:26<22:36,  4.43s/it]"
     ]
    },
    {
     "name": "stdout",
     "output_type": "stream",
     "text": [
      "Memory cleaned\n",
      "\n",
      "Processing note 58/363\n",
      "Creating prompt...\n",
      "{\n",
      "  \"person_id\": 6506687, \n",
      "  \"note_date\": \"2021-03-02\", \n",
      "  \"CLASSIFICATION\": 1\n",
      "}\n",
      "Note processed in 5.02 seconds\n"
     ]
    },
    {
     "name": "stderr",
     "output_type": "stream",
     "text": [
      "Processing notes:  16%|███▊                    | 58/363 [03:32<23:46,  4.68s/it]"
     ]
    },
    {
     "name": "stdout",
     "output_type": "stream",
     "text": [
      "Memory cleaned\n",
      "\n",
      "Processing note 59/363\n",
      "Creating prompt...\n",
      "{\n",
      "    \"person_id\": 6550676, \n",
      "    \"note_date\": \"2018-06-30\", \n",
      "    \"CLASSIFICATION\": 1\n",
      "}\n",
      "Note processed in 3.37 seconds\n"
     ]
    },
    {
     "name": "stderr",
     "output_type": "stream",
     "text": [
      "Processing notes:  16%|███▉                    | 59/363 [03:35<22:09,  4.37s/it]"
     ]
    },
    {
     "name": "stdout",
     "output_type": "stream",
     "text": [
      "Memory cleaned\n",
      "\n",
      "Processing note 60/363\n",
      "Creating prompt...\n",
      "{\n",
      "    \"person_id\": 6569267, \n",
      "    \"note_date\": \"2003-11-13\", \n",
      "    \"CLASSIFICATION\": 1\n",
      "}\n",
      "Note processed in 3.51 seconds\n"
     ]
    },
    {
     "name": "stderr",
     "output_type": "stream",
     "text": [
      "Processing notes:  17%|███▉                    | 60/363 [03:39<21:07,  4.18s/it]"
     ]
    },
    {
     "name": "stdout",
     "output_type": "stream",
     "text": [
      "Memory cleaned\n",
      "\n",
      "Processing note 61/363\n",
      "Creating prompt...\n",
      "{\"person_id\": 6578574, \"note_date\": \"2019-06-17\", \"CLASSIFICATION\": 1}\n",
      "Note processed in 3.71 seconds\n"
     ]
    },
    {
     "name": "stderr",
     "output_type": "stream",
     "text": [
      "Processing notes:  17%|████                    | 61/363 [03:43<20:40,  4.11s/it]"
     ]
    },
    {
     "name": "stdout",
     "output_type": "stream",
     "text": [
      "Memory cleaned\n",
      "\n",
      "Processing note 62/363\n",
      "Creating prompt...\n",
      "{\n",
      "    \"person_id\": 6587906, \n",
      "    \"note_date\": \"2019-04-10\", \n",
      "    \"CLASSIFICATION\": 1\n",
      "}\n",
      "Note processed in 2.83 seconds\n"
     ]
    },
    {
     "name": "stderr",
     "output_type": "stream",
     "text": [
      "Processing notes:  17%|████                    | 62/363 [03:46<19:01,  3.79s/it]"
     ]
    },
    {
     "name": "stdout",
     "output_type": "stream",
     "text": [
      "Memory cleaned\n",
      "\n",
      "Processing note 63/363\n",
      "Creating prompt...\n",
      "{\"person_id\": 6618585, \"note_date\": \"2019-01-15\", \"CLASSIFICATION\": 1}\n",
      "Note processed in 3.74 seconds\n"
     ]
    },
    {
     "name": "stderr",
     "output_type": "stream",
     "text": [
      "Processing notes:  17%|████▏                   | 63/363 [03:50<19:17,  3.86s/it]"
     ]
    },
    {
     "name": "stdout",
     "output_type": "stream",
     "text": [
      "Memory cleaned\n",
      "\n",
      "Processing note 64/363\n",
      "Creating prompt...\n",
      "{\n",
      "    \"person_id\": 6657138, \n",
      "    \"note_date\": \"2019-12-15\", \n",
      "    \"CLASSIFICATION\": 1\n",
      "}\n",
      "Note processed in 2.86 seconds\n"
     ]
    },
    {
     "name": "stderr",
     "output_type": "stream",
     "text": [
      "Processing notes:  18%|████▏                   | 64/363 [03:53<18:03,  3.62s/it]"
     ]
    },
    {
     "name": "stdout",
     "output_type": "stream",
     "text": [
      "Memory cleaned\n",
      "\n",
      "Processing note 65/363\n",
      "Creating prompt...\n",
      "{\n",
      "    \"person_id\": 6657138, \n",
      "    \"note_date\": \"2019-12-17\", \n",
      "    \"CLASSIFICATION\": 1\n",
      "}\n",
      "Note processed in 2.64 seconds\n"
     ]
    },
    {
     "name": "stderr",
     "output_type": "stream",
     "text": [
      "Processing notes:  18%|████▎                   | 65/363 [03:56<16:51,  3.40s/it]"
     ]
    },
    {
     "name": "stdout",
     "output_type": "stream",
     "text": [
      "Memory cleaned\n",
      "\n",
      "Processing note 66/363\n",
      "Creating prompt...\n",
      "{\n",
      "    \"person_id\": 6718288, \n",
      "    \"note_date\": \"2008-12-19\", \n",
      "    \"CLASSIFICATION\": 1\n",
      "}\n",
      "Note processed in 2.30 seconds\n"
     ]
    },
    {
     "name": "stderr",
     "output_type": "stream",
     "text": [
      "Processing notes:  18%|████▎                   | 66/363 [03:58<15:30,  3.13s/it]"
     ]
    },
    {
     "name": "stdout",
     "output_type": "stream",
     "text": [
      "Memory cleaned\n",
      "\n",
      "Processing note 67/363\n",
      "Creating prompt...\n",
      "{\"person_id\": 6747148, \"note_date\": \"2010-05-18\", \"CLASSIFICATION\": 1}\n",
      "Note processed in 3.13 seconds\n"
     ]
    },
    {
     "name": "stderr",
     "output_type": "stream",
     "text": [
      "Processing notes:  18%|████▍                   | 67/363 [04:02<15:48,  3.20s/it]"
     ]
    },
    {
     "name": "stdout",
     "output_type": "stream",
     "text": [
      "Memory cleaned\n",
      "\n",
      "Processing note 68/363\n",
      "Creating prompt...\n",
      "{\n",
      "    \"person_id\": 6780264, \n",
      "    \"note_date\": \"2017-01-12\", \n",
      "    \"CLASSIFICATION\": 0\n",
      "}\n",
      "Note processed in 3.03 seconds\n"
     ]
    },
    {
     "name": "stderr",
     "output_type": "stream",
     "text": [
      "Processing notes:  19%|████▍                   | 68/363 [04:05<15:53,  3.23s/it]"
     ]
    },
    {
     "name": "stdout",
     "output_type": "stream",
     "text": [
      "Memory cleaned\n",
      "\n",
      "Processing note 69/363\n",
      "Creating prompt...\n",
      "{\n",
      "  \"person_id\": 6819340, \n",
      "  \"note_date\": \"2003-04-29\", \n",
      "  \"CLASSIFICATION\": 1\n",
      "}\n",
      "Note processed in 3.95 seconds\n"
     ]
    },
    {
     "name": "stderr",
     "output_type": "stream",
     "text": [
      "Processing notes:  19%|████▌                   | 69/363 [04:09<17:13,  3.52s/it]"
     ]
    },
    {
     "name": "stdout",
     "output_type": "stream",
     "text": [
      "Memory cleaned\n",
      "\n",
      "Processing note 70/363\n",
      "Creating prompt...\n",
      "{\n",
      "    \"person_id\": 6830353, \n",
      "    \"note_date\": \"2016-12-29\", \n",
      "    \"CLASSIFICATION\": 1\n",
      "}\n",
      "Note processed in 2.52 seconds\n"
     ]
    },
    {
     "name": "stderr",
     "output_type": "stream",
     "text": [
      "Processing notes:  19%|████▋                   | 70/363 [04:12<16:01,  3.28s/it]"
     ]
    },
    {
     "name": "stdout",
     "output_type": "stream",
     "text": [
      "Memory cleaned\n",
      "\n",
      "Processing note 71/363\n",
      "Creating prompt...\n",
      "{\"person_id\": 6858075, \"note_date\": \"2017-05-17\", \"CLASSIFICATION\": 0}\n",
      "Note processed in 2.62 seconds\n"
     ]
    },
    {
     "name": "stderr",
     "output_type": "stream",
     "text": [
      "Processing notes:  20%|████▋                   | 71/363 [04:15<15:19,  3.15s/it]"
     ]
    },
    {
     "name": "stdout",
     "output_type": "stream",
     "text": [
      "Memory cleaned\n",
      "\n",
      "Processing note 72/363\n",
      "Creating prompt...\n",
      "{\n",
      "    \"person_id\": 6866548, \n",
      "    \"note_date\": \"2008-01-07\", \n",
      "    \"CLASSIFICATION\": 1\n",
      "}\n",
      "Note processed in 2.38 seconds\n"
     ]
    },
    {
     "name": "stderr",
     "output_type": "stream",
     "text": [
      "Processing notes:  20%|████▊                   | 72/363 [04:17<14:27,  2.98s/it]"
     ]
    },
    {
     "name": "stdout",
     "output_type": "stream",
     "text": [
      "Memory cleaned\n",
      "\n",
      "Processing note 73/363\n",
      "Creating prompt...\n",
      "{\n",
      "    \"person_id\": 6870524, \n",
      "    \"note_date\": \"2006-03-24\", \n",
      "    \"CLASSIFICATION\": 1\n",
      "}\n",
      "Note processed in 2.21 seconds\n"
     ]
    },
    {
     "name": "stderr",
     "output_type": "stream",
     "text": [
      "Processing notes:  20%|████▊                   | 73/363 [04:20<13:36,  2.82s/it]"
     ]
    },
    {
     "name": "stdout",
     "output_type": "stream",
     "text": [
      "Memory cleaned\n",
      "\n",
      "Processing note 74/363\n",
      "Creating prompt...\n",
      "{\n",
      "    \"person_id\": 6876308, \n",
      "    \"note_date\": \"2011-02-28\", \n",
      "    \"CLASSIFICATION\": 1\n",
      "}\n",
      "Note processed in 2.23 seconds\n"
     ]
    },
    {
     "name": "stderr",
     "output_type": "stream",
     "text": [
      "Processing notes:  20%|████▉                   | 74/363 [04:22<13:02,  2.71s/it]"
     ]
    },
    {
     "name": "stdout",
     "output_type": "stream",
     "text": [
      "Memory cleaned\n",
      "\n",
      "Processing note 75/363\n",
      "Creating prompt...\n",
      "{\n",
      "    \"person_id\": 6910236, \n",
      "    \"note_date\": \"2006-08-21\", \n",
      "    \"CLASSIFICATION\": 1\n",
      "}\n",
      "Note processed in 2.25 seconds\n"
     ]
    },
    {
     "name": "stderr",
     "output_type": "stream",
     "text": [
      "Processing notes:  21%|████▉                   | 75/363 [04:25<12:38,  2.63s/it]"
     ]
    },
    {
     "name": "stdout",
     "output_type": "stream",
     "text": [
      "Memory cleaned\n",
      "\n",
      "Processing note 76/363\n",
      "Creating prompt...\n",
      "{\n",
      "    \"person_id\": 6956622, \n",
      "    \"note_date\": \"2004-11-28\", \n",
      "    \"CLASSIFICATION\": 1\n",
      "}\n",
      "Note processed in 2.26 seconds\n"
     ]
    },
    {
     "name": "stderr",
     "output_type": "stream",
     "text": [
      "Processing notes:  21%|█████                   | 76/363 [04:27<12:22,  2.59s/it]"
     ]
    },
    {
     "name": "stdout",
     "output_type": "stream",
     "text": [
      "Memory cleaned\n",
      "\n",
      "Processing note 77/363\n",
      "Creating prompt...\n",
      "{\n",
      "    \"person_id\": 6957681, \n",
      "    \"note_date\": \"2018-10-03\", \n",
      "    \"CLASSIFICATION\": 1\n",
      "}\n",
      "Note processed in 2.33 seconds\n"
     ]
    },
    {
     "name": "stderr",
     "output_type": "stream",
     "text": [
      "Processing notes:  21%|█████                   | 77/363 [04:30<12:19,  2.59s/it]"
     ]
    },
    {
     "name": "stdout",
     "output_type": "stream",
     "text": [
      "Memory cleaned\n",
      "\n",
      "Processing note 78/363\n",
      "Creating prompt...\n",
      "{\n",
      "  \"person_id\": 7007213, \n",
      "  \"note_date\": \"2019-06-26\", \n",
      "  \"CLASSIFICATION\": 0\n",
      "}\n",
      "Note processed in 4.89 seconds\n"
     ]
    },
    {
     "name": "stderr",
     "output_type": "stream",
     "text": [
      "Processing notes:  21%|█████▏                  | 78/363 [04:35<15:53,  3.35s/it]"
     ]
    },
    {
     "name": "stdout",
     "output_type": "stream",
     "text": [
      "Memory cleaned\n",
      "\n",
      "Processing note 79/363\n",
      "Creating prompt...\n",
      "{\n",
      "    \"person_id\": 7047657, \n",
      "    \"note_date\": \"2018-12-08\", \n",
      "    \"CLASSIFICATION\": 1\n",
      "}\n",
      "Note processed in 3.52 seconds\n"
     ]
    },
    {
     "name": "stderr",
     "output_type": "stream",
     "text": [
      "Processing notes:  22%|█████▏                  | 79/363 [04:39<16:24,  3.47s/it]"
     ]
    },
    {
     "name": "stdout",
     "output_type": "stream",
     "text": [
      "Memory cleaned\n",
      "\n",
      "Processing note 80/363\n",
      "Creating prompt...\n",
      "{\n",
      "    \"person_id\": 7047941, \n",
      "    \"note_date\": \"2020-10-13\", \n",
      "    \"CLASSIFICATION\": 1\n",
      "}\n",
      "Note processed in 2.55 seconds\n"
     ]
    },
    {
     "name": "stderr",
     "output_type": "stream",
     "text": [
      "Processing notes:  22%|█████▎                  | 80/363 [04:41<15:21,  3.26s/it]"
     ]
    },
    {
     "name": "stdout",
     "output_type": "stream",
     "text": [
      "Memory cleaned\n",
      "\n",
      "Processing note 81/363\n",
      "Creating prompt...\n",
      "{\n",
      "    \"person_id\": 7050139, \n",
      "    \"note_date\": \"2019-08-27\", \n",
      "    \"CLASSIFICATION\": 1\n",
      "}\n",
      "Note processed in 2.76 seconds\n"
     ]
    },
    {
     "name": "stderr",
     "output_type": "stream",
     "text": [
      "Processing notes:  22%|█████▎                  | 81/363 [04:44<14:54,  3.17s/it]"
     ]
    },
    {
     "name": "stdout",
     "output_type": "stream",
     "text": [
      "Memory cleaned\n",
      "\n",
      "Processing note 82/363\n",
      "Creating prompt...\n",
      "{\n",
      "    \"person_id\": 7096497, \n",
      "    \"note_date\": \"2008-12-19\", \n",
      "    \"CLASSIFICATION\": 1\n",
      "}\n",
      "Note processed in 2.26 seconds\n"
     ]
    },
    {
     "name": "stderr",
     "output_type": "stream",
     "text": [
      "Processing notes:  23%|█████▍                  | 82/363 [04:47<13:52,  2.96s/it]"
     ]
    },
    {
     "name": "stdout",
     "output_type": "stream",
     "text": [
      "Memory cleaned\n",
      "\n",
      "Processing note 83/363\n",
      "Creating prompt...\n",
      "{\n",
      "    \"person_id\": 7118591,\n",
      "    \"note_date\": \"2003-03-03\",\n",
      "    \"CLASSIFICATION\": 1\n",
      "}\n",
      "Note processed in 4.06 seconds\n"
     ]
    },
    {
     "name": "stderr",
     "output_type": "stream",
     "text": [
      "Processing notes:  23%|█████▍                  | 83/363 [04:51<15:41,  3.36s/it]"
     ]
    },
    {
     "name": "stdout",
     "output_type": "stream",
     "text": [
      "Memory cleaned\n",
      "\n",
      "Processing note 84/363\n",
      "Creating prompt...\n",
      "{\n",
      "  \"person_id\": 7169752, \n",
      "  \"note_date\": \"2018-06-13\", \n",
      "  \"CLASSIFICATION\": 1\n",
      "}\n",
      "Note processed in 3.60 seconds\n"
     ]
    },
    {
     "name": "stderr",
     "output_type": "stream",
     "text": [
      "Processing notes:  23%|█████▌                  | 84/363 [04:55<16:16,  3.50s/it]"
     ]
    },
    {
     "name": "stdout",
     "output_type": "stream",
     "text": [
      "Memory cleaned\n",
      "\n",
      "Processing note 85/363\n",
      "Creating prompt...\n",
      "{\"person_id\": 7198667, \"note_date\": \"2019-02-20\", \"CLASSIFICATION\": 1}\n",
      "Note processed in 6.08 seconds\n"
     ]
    },
    {
     "name": "stderr",
     "output_type": "stream",
     "text": [
      "Processing notes:  23%|█████▌                  | 85/363 [05:01<20:06,  4.34s/it]"
     ]
    },
    {
     "name": "stdout",
     "output_type": "stream",
     "text": [
      "Memory cleaned\n",
      "\n",
      "Processing note 86/363\n",
      "Creating prompt...\n",
      "{\"person_id\": 7208073, \"note_date\": \"2020-06-28\", \"CLASSIFICATION\": 1}\n",
      "Note processed in 2.96 seconds\n"
     ]
    },
    {
     "name": "stderr",
     "output_type": "stream",
     "text": [
      "Processing notes:  24%|█████▋                  | 86/363 [05:04<18:24,  3.99s/it]"
     ]
    },
    {
     "name": "stdout",
     "output_type": "stream",
     "text": [
      "Memory cleaned\n",
      "\n",
      "Processing note 87/363\n",
      "Creating prompt...\n",
      "{\"person_id\": 7217168, \"note_date\": \"2010-09-16\", \"CLASSIFICATION\": 1}\n",
      "Note processed in 2.80 seconds\n"
     ]
    },
    {
     "name": "stderr",
     "output_type": "stream",
     "text": [
      "Processing notes:  24%|█████▊                  | 87/363 [05:07<17:00,  3.70s/it]"
     ]
    },
    {
     "name": "stdout",
     "output_type": "stream",
     "text": [
      "Memory cleaned\n",
      "\n",
      "Processing note 88/363\n",
      "Creating prompt...\n",
      "{\"person_id\": 7257689, \"note_date\": \"2016-03-02\", \"CLASSIFICATION\": 1}\n",
      "Note processed in 2.19 seconds\n"
     ]
    },
    {
     "name": "stderr",
     "output_type": "stream",
     "text": [
      "Processing notes:  24%|█████▊                  | 88/363 [05:10<15:12,  3.32s/it]"
     ]
    },
    {
     "name": "stdout",
     "output_type": "stream",
     "text": [
      "Memory cleaned\n",
      "\n",
      "Processing note 89/363\n",
      "Creating prompt...\n",
      "{\"person_id\": 7260351, \"note_date\": \"2019-07-05\", \"CLASSIFICATION\": 0}\n",
      "Note processed in 4.96 seconds\n"
     ]
    },
    {
     "name": "stderr",
     "output_type": "stream",
     "text": [
      "Processing notes:  25%|█████▉                  | 89/363 [05:15<17:42,  3.88s/it]"
     ]
    },
    {
     "name": "stdout",
     "output_type": "stream",
     "text": [
      "Memory cleaned\n",
      "\n",
      "Processing note 90/363\n",
      "Creating prompt...\n",
      "{\n",
      "    \"person_id\": 7297716, \n",
      "    \"note_date\": \"2001-08-08\", \n",
      "    \"CLASSIFICATION\": 1\n",
      "}\n",
      "Note processed in 2.20 seconds\n"
     ]
    },
    {
     "name": "stderr",
     "output_type": "stream",
     "text": [
      "Processing notes:  25%|█████▉                  | 90/363 [05:18<15:39,  3.44s/it]"
     ]
    },
    {
     "name": "stdout",
     "output_type": "stream",
     "text": [
      "Memory cleaned\n",
      "\n",
      "Processing note 91/363\n",
      "Creating prompt...\n",
      "{\"person_id\": 7306806, \"note_date\": \"2012-06-19\", \"CLASSIFICATION\": 1}\n",
      "Note processed in 2.03 seconds\n"
     ]
    },
    {
     "name": "stderr",
     "output_type": "stream",
     "text": [
      "Processing notes:  25%|██████                  | 91/363 [05:20<13:57,  3.08s/it]"
     ]
    },
    {
     "name": "stdout",
     "output_type": "stream",
     "text": [
      "Memory cleaned\n",
      "\n",
      "Processing note 92/363\n",
      "Creating prompt...\n",
      "{\n",
      "    \"person_id\": 7317558, \n",
      "    \"note_date\": \"2003-04-21\", \n",
      "    \"CLASSIFICATION\": 1\n",
      "}\n",
      "Note processed in 3.19 seconds\n"
     ]
    },
    {
     "name": "stderr",
     "output_type": "stream",
     "text": [
      "Processing notes:  25%|██████                  | 92/363 [05:23<14:21,  3.18s/it]"
     ]
    },
    {
     "name": "stdout",
     "output_type": "stream",
     "text": [
      "Memory cleaned\n",
      "\n",
      "Processing note 93/363\n",
      "Creating prompt...\n",
      "{\n",
      "  \"person_id\": 7318265, \n",
      "  \"note_date\": \"2019-03-18\", \n",
      "  \"CLASSIFICATION\": 1\n",
      "}\n",
      "Note processed in 2.91 seconds\n"
     ]
    },
    {
     "name": "stderr",
     "output_type": "stream",
     "text": [
      "Processing notes:  26%|██████▏                 | 93/363 [05:26<14:13,  3.16s/it]"
     ]
    },
    {
     "name": "stdout",
     "output_type": "stream",
     "text": [
      "Memory cleaned\n",
      "\n",
      "Processing note 94/363\n",
      "Creating prompt...\n",
      "{\n",
      "    \"person_id\": 7358358, \n",
      "    \"note_date\": \"2020-07-16\", \n",
      "    \"CLASSIFICATION\": 0\n",
      "}\n",
      "Note processed in 2.22 seconds\n"
     ]
    },
    {
     "name": "stderr",
     "output_type": "stream",
     "text": [
      "Processing notes:  26%|██████▏                 | 94/363 [05:29<13:12,  2.95s/it]"
     ]
    },
    {
     "name": "stdout",
     "output_type": "stream",
     "text": [
      "Memory cleaned\n",
      "\n",
      "Processing note 95/363\n",
      "Creating prompt...\n",
      "{\"person_id\": 7369650, \"note_date\": \"2018-11-22\", \"CLASSIFICATION\": 1}\n",
      "Note processed in 5.19 seconds\n"
     ]
    },
    {
     "name": "stderr",
     "output_type": "stream",
     "text": [
      "Processing notes:  26%|██████▎                 | 95/363 [05:34<16:29,  3.69s/it]"
     ]
    },
    {
     "name": "stdout",
     "output_type": "stream",
     "text": [
      "Memory cleaned\n",
      "\n",
      "Processing note 96/363\n",
      "Creating prompt...\n",
      "{\"person_id\": 7386486, \"note_date\": \"2019-09-25\", \"CLASSIFICATION\": 1}\n",
      "Note processed in 4.27 seconds\n"
     ]
    },
    {
     "name": "stderr",
     "output_type": "stream",
     "text": [
      "Processing notes:  26%|██████▎                 | 96/363 [05:39<17:30,  3.93s/it]"
     ]
    },
    {
     "name": "stdout",
     "output_type": "stream",
     "text": [
      "Memory cleaned\n",
      "\n",
      "Processing note 97/363\n",
      "Creating prompt...\n",
      "{\n",
      "    \"person_id\": 7397397, \n",
      "    \"note_date\": \"2020-08-04\", \n",
      "    \"CLASSIFICATION\": 1\n",
      "}\n",
      "Note processed in 3.95 seconds\n"
     ]
    },
    {
     "name": "stderr",
     "output_type": "stream",
     "text": [
      "Processing notes:  27%|██████▍                 | 97/363 [05:43<17:45,  4.01s/it]"
     ]
    },
    {
     "name": "stdout",
     "output_type": "stream",
     "text": [
      "Memory cleaned\n",
      "\n",
      "Processing note 98/363\n",
      "Creating prompt...\n",
      "{\n",
      "    \"person_id\": 7477094, \n",
      "    \"note_date\": \"2018-10-13\", \n",
      "    \"CLASSIFICATION\": 1\n",
      "}\n",
      "Note processed in 3.13 seconds\n"
     ]
    },
    {
     "name": "stderr",
     "output_type": "stream",
     "text": [
      "Processing notes:  27%|██████▍                 | 98/363 [05:46<16:49,  3.81s/it]"
     ]
    },
    {
     "name": "stdout",
     "output_type": "stream",
     "text": [
      "Memory cleaned\n",
      "\n",
      "Processing note 99/363\n",
      "Creating prompt...\n",
      "{\"person_id\": 7508954, \"note_date\": \"2014-03-31\", \"CLASSIFICATION\": 1}\n",
      "Note processed in 2.39 seconds\n"
     ]
    },
    {
     "name": "stderr",
     "output_type": "stream",
     "text": [
      "Processing notes:  27%|██████▌                 | 99/363 [05:49<15:09,  3.45s/it]"
     ]
    },
    {
     "name": "stdout",
     "output_type": "stream",
     "text": [
      "Memory cleaned\n",
      "\n",
      "Processing note 100/363\n",
      "Creating prompt...\n",
      "{\n",
      "    \"person_id\": 7549527, \n",
      "    \"note_date\": \"2015-08-31\", \n",
      "    \"CLASSIFICATION\": 1\n",
      "}\n",
      "Note processed in 2.22 seconds\n"
     ]
    },
    {
     "name": "stderr",
     "output_type": "stream",
     "text": [
      "Processing notes:  28%|██████▎                | 100/363 [05:51<13:46,  3.14s/it]"
     ]
    },
    {
     "name": "stdout",
     "output_type": "stream",
     "text": [
      "Memory cleaned\n",
      "\n",
      "Processing note 101/363\n",
      "Creating prompt...\n",
      "{\n",
      "    \"person_id\": 7560287, \n",
      "    \"note_date\": \"2018-04-18\", \n",
      "    \"CLASSIFICATION\": 0\n",
      "}\n",
      "Note processed in 2.22 seconds\n"
     ]
    },
    {
     "name": "stderr",
     "output_type": "stream",
     "text": [
      "Processing notes:  28%|██████▍                | 101/363 [05:54<12:47,  2.93s/it]"
     ]
    },
    {
     "name": "stdout",
     "output_type": "stream",
     "text": [
      "Memory cleaned\n",
      "\n",
      "Processing note 102/363\n",
      "Creating prompt...\n",
      "{\n",
      "    \"person_id\": 7566540, \n",
      "    \"note_date\": \"2016-07-08\", \n",
      "    \"CLASSIFICATION\": 0\n",
      "}\n",
      "Note processed in 2.54 seconds\n"
     ]
    },
    {
     "name": "stderr",
     "output_type": "stream",
     "text": [
      "Processing notes:  28%|██████▍                | 102/363 [05:56<12:30,  2.88s/it]"
     ]
    },
    {
     "name": "stdout",
     "output_type": "stream",
     "text": [
      "Memory cleaned\n",
      "\n",
      "Processing note 103/363\n",
      "Creating prompt...\n",
      "{\n",
      "    \"person_id\": 7578219, \n",
      "    \"note_date\": \"2020-04-13\", \n",
      "    \"CLASSIFICATION\": 1\n",
      "}\n",
      "Note processed in 4.12 seconds\n"
     ]
    },
    {
     "name": "stderr",
     "output_type": "stream",
     "text": [
      "Processing notes:  28%|██████▌                | 103/363 [06:01<14:22,  3.32s/it]"
     ]
    },
    {
     "name": "stdout",
     "output_type": "stream",
     "text": [
      "Memory cleaned\n",
      "\n",
      "Processing note 104/363\n",
      "Creating prompt...\n",
      "{\n",
      "\"person_id\": 7578219, \n",
      "\"note_date\": \"2020-06-15\", \n",
      "\"CLASSIFICATION\": 1\n",
      "}\n",
      "Note processed in 6.30 seconds\n"
     ]
    },
    {
     "name": "stderr",
     "output_type": "stream",
     "text": [
      "Processing notes:  29%|██████▌                | 104/363 [06:07<18:27,  4.28s/it]"
     ]
    },
    {
     "name": "stdout",
     "output_type": "stream",
     "text": [
      "Memory cleaned\n",
      "\n",
      "Processing note 105/363\n",
      "Creating prompt...\n",
      "{\n",
      "  \"person_id\": 7607926, \n",
      "  \"note_date\": \"2019-05-26\", \n",
      "  \"CLASSIFICATION\": 1\n",
      "}\n",
      "Note processed in 4.49 seconds\n"
     ]
    },
    {
     "name": "stderr",
     "output_type": "stream",
     "text": [
      "Processing notes:  29%|██████▋                | 105/363 [06:12<18:57,  4.41s/it]"
     ]
    },
    {
     "name": "stdout",
     "output_type": "stream",
     "text": [
      "Memory cleaned\n",
      "\n",
      "Processing note 106/363\n",
      "Creating prompt...\n",
      "{\"person_id\": 7726979, \"note_date\": \"2019-09-02\", \"CLASSIFICATION\": 1}\n",
      "Note processed in 6.27 seconds\n"
     ]
    },
    {
     "name": "stderr",
     "output_type": "stream",
     "text": [
      "Processing notes:  29%|██████▋                | 106/363 [06:18<21:36,  5.04s/it]"
     ]
    },
    {
     "name": "stdout",
     "output_type": "stream",
     "text": [
      "Memory cleaned\n",
      "\n",
      "Processing note 107/363\n",
      "Creating prompt...\n",
      "{\n",
      "    \"person_id\": 7736903, \n",
      "    \"note_date\": \"2003-03-24\", \n",
      "    \"CLASSIFICATION\": 1\n",
      "}\n",
      "Note processed in 7.58 seconds\n"
     ]
    },
    {
     "name": "stderr",
     "output_type": "stream",
     "text": [
      "Processing notes:  29%|██████▊                | 107/363 [06:26<25:03,  5.87s/it]"
     ]
    },
    {
     "name": "stdout",
     "output_type": "stream",
     "text": [
      "Memory cleaned\n",
      "\n",
      "Processing note 108/363\n",
      "Creating prompt...\n",
      "{\"person_id\": 7750193, \"note_date\": \"2015-07-17\", \"CLASSIFICATION\": 0}\n",
      "Note processed in 2.32 seconds\n"
     ]
    },
    {
     "name": "stderr",
     "output_type": "stream",
     "text": [
      "Processing notes:  30%|██████▊                | 108/363 [06:29<20:42,  4.87s/it]"
     ]
    },
    {
     "name": "stdout",
     "output_type": "stream",
     "text": [
      "Memory cleaned\n",
      "\n",
      "Processing note 109/363\n",
      "Creating prompt...\n",
      "{\"person_id\": 7760425, \"note_date\": \"2000-04-15\", \"CLASSIFICATION\": 1}\n",
      "Note processed in 2.50 seconds\n"
     ]
    },
    {
     "name": "stderr",
     "output_type": "stream",
     "text": [
      "Processing notes:  30%|██████▉                | 109/363 [06:32<18:07,  4.28s/it]"
     ]
    },
    {
     "name": "stdout",
     "output_type": "stream",
     "text": [
      "Memory cleaned\n",
      "\n",
      "Processing note 110/363\n",
      "Creating prompt...\n",
      "{\n",
      "  \"person_id\": 7787593,\n",
      "  \"note_date\": \"2020-01-07\",\n",
      "  \"CLASSIFICATION\": 0\n",
      "}\n",
      "Note processed in 5.70 seconds\n"
     ]
    },
    {
     "name": "stderr",
     "output_type": "stream",
     "text": [
      "Processing notes:  30%|██████▉                | 110/363 [06:38<20:24,  4.84s/it]"
     ]
    },
    {
     "name": "stdout",
     "output_type": "stream",
     "text": [
      "Memory cleaned\n",
      "\n",
      "Processing note 111/363\n",
      "Creating prompt...\n",
      "{\n",
      "    \"person_id\": 7790521, \n",
      "    \"note_date\": \"2020-11-16\", \n",
      "    \"CLASSIFICATION\": 1\n",
      "}\n",
      "Note processed in 3.05 seconds\n"
     ]
    },
    {
     "name": "stderr",
     "output_type": "stream",
     "text": [
      "Processing notes:  31%|███████                | 111/363 [06:41<18:26,  4.39s/it]"
     ]
    },
    {
     "name": "stdout",
     "output_type": "stream",
     "text": [
      "Memory cleaned\n",
      "\n",
      "Processing note 112/363\n",
      "Creating prompt...\n",
      "{\"person_id\": 7810989, \"note_date\": \"2004-05-04\", \"CLASSIFICATION\": 1}\n",
      "Note processed in 1.82 seconds\n"
     ]
    },
    {
     "name": "stderr",
     "output_type": "stream",
     "text": [
      "Processing notes:  31%|███████                | 112/363 [06:43<15:24,  3.68s/it]"
     ]
    },
    {
     "name": "stdout",
     "output_type": "stream",
     "text": [
      "Memory cleaned\n",
      "\n",
      "Processing note 113/363\n",
      "Creating prompt...\n",
      "{\"person_id\": 7870251, \"note_date\": \"2017-07-19\", \"CLASSIFICATION\": 0}\n",
      "Note processed in 3.18 seconds\n"
     ]
    },
    {
     "name": "stderr",
     "output_type": "stream",
     "text": [
      "Processing notes:  31%|███████▏               | 113/363 [06:47<15:00,  3.60s/it]"
     ]
    },
    {
     "name": "stdout",
     "output_type": "stream",
     "text": [
      "Memory cleaned\n",
      "\n",
      "Processing note 114/363\n",
      "Creating prompt...\n",
      "{\"person_id\": 7896478, \"note_date\": \"2017-12-07\", \"CLASSIFICATION\": 1}\n",
      "Note processed in 7.13 seconds\n"
     ]
    },
    {
     "name": "stderr",
     "output_type": "stream",
     "text": [
      "Processing notes:  31%|███████▏               | 114/363 [06:54<19:42,  4.75s/it]"
     ]
    },
    {
     "name": "stdout",
     "output_type": "stream",
     "text": [
      "Memory cleaned\n",
      "\n",
      "Processing note 115/363\n",
      "Creating prompt...\n",
      "{\"person_id\": 7906528, \"note_date\": \"2017-07-21\", \"CLASSIFICATION\": 1}\n",
      "Note processed in 3.41 seconds\n"
     ]
    },
    {
     "name": "stderr",
     "output_type": "stream",
     "text": [
      "Processing notes:  32%|███████▎               | 115/363 [06:58<18:14,  4.41s/it]"
     ]
    },
    {
     "name": "stdout",
     "output_type": "stream",
     "text": [
      "Memory cleaned\n",
      "\n",
      "Processing note 116/363\n",
      "Creating prompt...\n",
      "{\n",
      "    \"person_id\": 7920908, \n",
      "    \"note_date\": \"2018-09-20\", \n",
      "    \"CLASSIFICATION\": 1\n",
      "}\n",
      "Note processed in 2.82 seconds\n"
     ]
    },
    {
     "name": "stderr",
     "output_type": "stream",
     "text": [
      "Processing notes:  32%|███████▎               | 116/363 [07:01<16:28,  4.00s/it]"
     ]
    },
    {
     "name": "stdout",
     "output_type": "stream",
     "text": [
      "Memory cleaned\n",
      "\n",
      "Processing note 117/363\n",
      "Creating prompt...\n",
      "{\"person_id\": 7989944, \"note_date\": \"2003-01-28\", \"CLASSIFICATION\": 0}\n",
      "Note processed in 1.94 seconds\n"
     ]
    },
    {
     "name": "stderr",
     "output_type": "stream",
     "text": [
      "Processing notes:  32%|███████▍               | 117/363 [07:03<14:07,  3.45s/it]"
     ]
    },
    {
     "name": "stdout",
     "output_type": "stream",
     "text": [
      "Memory cleaned\n",
      "\n",
      "Processing note 118/363\n",
      "Creating prompt...\n",
      "{\n",
      "    \"person_id\": 7998518, \n",
      "    \"note_date\": \"2019-05-22\", \n",
      "    \"CLASSIFICATION\": 1\n",
      "}\n",
      "Note processed in 3.44 seconds\n"
     ]
    },
    {
     "name": "stderr",
     "output_type": "stream",
     "text": [
      "Processing notes:  33%|███████▍               | 118/363 [07:07<14:24,  3.53s/it]"
     ]
    },
    {
     "name": "stdout",
     "output_type": "stream",
     "text": [
      "Memory cleaned\n",
      "\n",
      "Processing note 119/363\n",
      "Creating prompt...\n",
      "{\n",
      "    \"person_id\": 8006536, \n",
      "    \"note_date\": \"2002-11-07\", \n",
      "    \"CLASSIFICATION\": 1\n",
      "}\n",
      "Note processed in 2.18 seconds\n"
     ]
    },
    {
     "name": "stderr",
     "output_type": "stream",
     "text": [
      "Processing notes:  33%|███████▌               | 119/363 [07:09<12:58,  3.19s/it]"
     ]
    },
    {
     "name": "stdout",
     "output_type": "stream",
     "text": [
      "Memory cleaned\n",
      "\n",
      "Processing note 120/363\n",
      "Creating prompt...\n",
      "{\n",
      "    \"person_id\": 8038604, \n",
      "    \"note_date\": \"2019-12-07\", \n",
      "    \"CLASSIFICATION\": 1\n",
      "}\n",
      "Note processed in 2.78 seconds\n"
     ]
    },
    {
     "name": "stderr",
     "output_type": "stream",
     "text": [
      "Processing notes:  33%|███████▌               | 120/363 [07:12<12:44,  3.14s/it]"
     ]
    },
    {
     "name": "stdout",
     "output_type": "stream",
     "text": [
      "Memory cleaned\n",
      "\n",
      "Processing note 121/363\n",
      "Creating prompt...\n",
      "{\n",
      "    \"person_id\": 8047992, \n",
      "    \"note_date\": \"2012-06-20\", \n",
      "    \"CLASSIFICATION\": 1\n",
      "}\n",
      "Note processed in 2.69 seconds\n"
     ]
    },
    {
     "name": "stderr",
     "output_type": "stream",
     "text": [
      "Processing notes:  33%|███████▋               | 121/363 [07:15<12:23,  3.07s/it]"
     ]
    },
    {
     "name": "stdout",
     "output_type": "stream",
     "text": [
      "Memory cleaned\n",
      "\n",
      "Processing note 122/363\n",
      "Creating prompt...\n",
      "{\"person_id\": 8058805, \"note_date\": \"2017-06-21\", \"CLASSIFICATION\": 0}\n",
      "Note processed in 5.28 seconds\n"
     ]
    },
    {
     "name": "stderr",
     "output_type": "stream",
     "text": [
      "Processing notes:  34%|███████▋               | 122/363 [07:21<15:19,  3.81s/it]"
     ]
    },
    {
     "name": "stdout",
     "output_type": "stream",
     "text": [
      "Memory cleaned\n",
      "\n",
      "Processing note 123/363\n",
      "Creating prompt...\n",
      "{\n",
      "    \"person_id\": 8077213, \n",
      "    \"note_date\": \"2006-04-12\", \n",
      "    \"CLASSIFICATION\": 1\n",
      "}\n",
      "Note processed in 2.23 seconds\n"
     ]
    },
    {
     "name": "stderr",
     "output_type": "stream",
     "text": [
      "Processing notes:  34%|███████▊               | 123/363 [07:23<13:37,  3.40s/it]"
     ]
    },
    {
     "name": "stdout",
     "output_type": "stream",
     "text": [
      "Memory cleaned\n",
      "\n",
      "Processing note 124/363\n",
      "Creating prompt...\n",
      "{\n",
      "    \"person_id\": 8100397, \n",
      "    \"note_date\": \"2019-05-03\", \n",
      "    \"CLASSIFICATION\": 1\n",
      "}\n",
      "Note processed in 2.67 seconds\n"
     ]
    },
    {
     "name": "stderr",
     "output_type": "stream",
     "text": [
      "Processing notes:  34%|███████▊               | 124/363 [07:26<12:56,  3.25s/it]"
     ]
    },
    {
     "name": "stdout",
     "output_type": "stream",
     "text": [
      "Memory cleaned\n",
      "\n",
      "Processing note 125/363\n",
      "Creating prompt...\n",
      "{\n",
      "  \"person_id\": 8209601, \n",
      "  \"note_date\": \"2020-10-29\", \n",
      "  \"CLASSIFICATION\": 1\n",
      "}\n",
      "Note processed in 5.69 seconds\n"
     ]
    },
    {
     "name": "stderr",
     "output_type": "stream",
     "text": [
      "Processing notes:  34%|███████▉               | 125/363 [07:32<16:05,  4.06s/it]"
     ]
    },
    {
     "name": "stdout",
     "output_type": "stream",
     "text": [
      "Memory cleaned\n",
      "\n",
      "Processing note 126/363\n",
      "Creating prompt...\n",
      "{\n",
      "    \"person_id\": 8238921, \n",
      "    \"note_date\": \"2012-12-19\", \n",
      "    \"CLASSIFICATION\": 1\n",
      "}\n",
      "Note processed in 2.28 seconds\n"
     ]
    },
    {
     "name": "stderr",
     "output_type": "stream",
     "text": [
      "Processing notes:  35%|███████▉               | 126/363 [07:34<14:13,  3.60s/it]"
     ]
    },
    {
     "name": "stdout",
     "output_type": "stream",
     "text": [
      "Memory cleaned\n",
      "\n",
      "Processing note 127/363\n",
      "Creating prompt...\n",
      "{\n",
      "    \"person_id\": 8287202, \n",
      "    \"note_date\": \"2019-05-03\", \n",
      "    \"CLASSIFICATION\": 1\n",
      "}\n",
      "Note processed in 3.03 seconds\n"
     ]
    },
    {
     "name": "stderr",
     "output_type": "stream",
     "text": [
      "Processing notes:  35%|████████               | 127/363 [07:38<13:47,  3.51s/it]"
     ]
    },
    {
     "name": "stdout",
     "output_type": "stream",
     "text": [
      "Memory cleaned\n",
      "\n",
      "Processing note 128/363\n",
      "Creating prompt...\n",
      "{\n",
      "    \"person_id\": 8298762, \n",
      "    \"note_date\": \"2013-02-03\", \n",
      "    \"CLASSIFICATION\": 1\n",
      "}\n",
      "Note processed in 2.27 seconds\n"
     ]
    },
    {
     "name": "stderr",
     "output_type": "stream",
     "text": [
      "Processing notes:  35%|████████               | 128/363 [07:40<12:31,  3.20s/it]"
     ]
    },
    {
     "name": "stdout",
     "output_type": "stream",
     "text": [
      "Memory cleaned\n",
      "\n",
      "Processing note 129/363\n",
      "Creating prompt...\n",
      "{\"person_id\": 8300317, \"note_date\": \"2010-03-25\", \"CLASSIFICATION\": 1}\n",
      "Note processed in 2.04 seconds\n"
     ]
    },
    {
     "name": "stderr",
     "output_type": "stream",
     "text": [
      "Processing notes:  36%|████████▏              | 129/363 [07:42<11:22,  2.92s/it]"
     ]
    },
    {
     "name": "stdout",
     "output_type": "stream",
     "text": [
      "Memory cleaned\n",
      "\n",
      "Processing note 130/363\n",
      "Creating prompt...\n",
      "{\n",
      "    \"person_id\": 8330961, \n",
      "    \"note_date\": \"2010-12-07\", \n",
      "    \"CLASSIFICATION\": 1\n",
      "}\n",
      "Note processed in 2.48 seconds\n"
     ]
    },
    {
     "name": "stderr",
     "output_type": "stream",
     "text": [
      "Processing notes:  36%|████████▏              | 130/363 [07:45<11:04,  2.85s/it]"
     ]
    },
    {
     "name": "stdout",
     "output_type": "stream",
     "text": [
      "Memory cleaned\n",
      "\n",
      "Processing note 131/363\n",
      "Creating prompt...\n",
      "{\n",
      "    \"person_id\": 8348096, \n",
      "    \"note_date\": \"2011-01-31\", \n",
      "    \"CLASSIFICATION\": 1\n",
      "}\n",
      "Note processed in 3.35 seconds\n"
     ]
    },
    {
     "name": "stderr",
     "output_type": "stream",
     "text": [
      "Processing notes:  36%|████████▎              | 131/363 [07:49<11:52,  3.07s/it]"
     ]
    },
    {
     "name": "stdout",
     "output_type": "stream",
     "text": [
      "Memory cleaned\n",
      "\n",
      "Processing note 132/363\n",
      "Creating prompt...\n",
      "{\n",
      "    \"person_id\": 8379894, \n",
      "    \"note_date\": \"2008-04-21\", \n",
      "    \"CLASSIFICATION\": 1\n",
      "}\n",
      "Note processed in 2.50 seconds\n"
     ]
    },
    {
     "name": "stderr",
     "output_type": "stream",
     "text": [
      "Processing notes:  36%|████████▎              | 132/363 [07:51<11:24,  2.97s/it]"
     ]
    },
    {
     "name": "stdout",
     "output_type": "stream",
     "text": [
      "Memory cleaned\n",
      "\n",
      "Processing note 133/363\n",
      "Creating prompt...\n",
      "{\n",
      "    \"person_id\": 8418915, \n",
      "    \"note_date\": \"2005-06-13\", \n",
      "    \"CLASSIFICATION\": 1\n",
      "}\n",
      "Note processed in 2.15 seconds\n"
     ]
    },
    {
     "name": "stderr",
     "output_type": "stream",
     "text": [
      "Processing notes:  37%|████████▍              | 133/363 [07:54<10:40,  2.79s/it]"
     ]
    },
    {
     "name": "stdout",
     "output_type": "stream",
     "text": [
      "Memory cleaned\n",
      "\n",
      "Processing note 134/363\n",
      "Creating prompt...\n",
      "{\n",
      "  \"person_id\": 8466219, \n",
      "  \"note_date\": \"2018-02-04\", \n",
      "  \"CLASSIFICATION\": 1\n",
      "}\n",
      "Note processed in 2.91 seconds\n"
     ]
    },
    {
     "name": "stderr",
     "output_type": "stream",
     "text": [
      "Processing notes:  37%|████████▍              | 134/363 [07:57<11:03,  2.90s/it]"
     ]
    },
    {
     "name": "stdout",
     "output_type": "stream",
     "text": [
      "Memory cleaned\n",
      "\n",
      "Processing note 135/363\n",
      "Creating prompt...\n",
      "{\"person_id\": 8559014, \"note_date\": \"2020-12-30\", \"CLASSIFICATION\": 1}\n",
      "Note processed in 3.18 seconds\n"
     ]
    },
    {
     "name": "stderr",
     "output_type": "stream",
     "text": [
      "Processing notes:  37%|████████▌              | 135/363 [08:00<11:35,  3.05s/it]"
     ]
    },
    {
     "name": "stdout",
     "output_type": "stream",
     "text": [
      "Memory cleaned\n",
      "\n",
      "Processing note 136/363\n",
      "Creating prompt...\n",
      "{\n",
      "\"person_id\": 8566475, \n",
      "\"note_date\": \"2018-12-10\", \n",
      "\"CLASSIFICATION\": 1\n",
      "}\n",
      "Note processed in 10.00 seconds\n"
     ]
    },
    {
     "name": "stderr",
     "output_type": "stream",
     "text": [
      "Processing notes:  37%|████████▌              | 136/363 [08:11<19:42,  5.21s/it]"
     ]
    },
    {
     "name": "stdout",
     "output_type": "stream",
     "text": [
      "Memory cleaned\n",
      "\n",
      "Processing note 137/363\n",
      "Creating prompt...\n",
      "{\n",
      "    \"person_id\": 8589024, \n",
      "    \"note_date\": \"2005-03-23\", \n",
      "    \"CLASSIFICATION\": 1\n",
      "}\n",
      "Note processed in 2.71 seconds\n"
     ]
    },
    {
     "name": "stderr",
     "output_type": "stream",
     "text": [
      "Processing notes:  38%|████████▋              | 137/363 [08:13<17:04,  4.53s/it]"
     ]
    },
    {
     "name": "stdout",
     "output_type": "stream",
     "text": [
      "Memory cleaned\n",
      "\n",
      "Processing note 138/363\n",
      "Creating prompt...\n",
      "{\n",
      "    \"person_id\": 8598155, \n",
      "    \"note_date\": \"2019-02-10\", \n",
      "    \"CLASSIFICATION\": 1\n",
      "}\n",
      "Note processed in 2.77 seconds\n"
     ]
    },
    {
     "name": "stderr",
     "output_type": "stream",
     "text": [
      "Processing notes:  38%|████████▋              | 138/363 [08:16<15:16,  4.07s/it]"
     ]
    },
    {
     "name": "stdout",
     "output_type": "stream",
     "text": [
      "Memory cleaned\n",
      "\n",
      "Processing note 139/363\n",
      "Creating prompt...\n",
      "{\n",
      "  \"person_id\": 8639474, \n",
      "  \"note_date\": \"2018-12-11\", \n",
      "  \"CLASSIFICATION\": 1\n",
      "}\n",
      "Note processed in 3.09 seconds\n"
     ]
    },
    {
     "name": "stderr",
     "output_type": "stream",
     "text": [
      "Processing notes:  38%|████████▊              | 139/363 [08:20<14:21,  3.84s/it]"
     ]
    },
    {
     "name": "stdout",
     "output_type": "stream",
     "text": [
      "Memory cleaned\n",
      "\n",
      "Processing note 141/363\n",
      "Creating prompt...\n",
      "{\n",
      "    \"person_id\": 8688427, \n",
      "    \"note_date\": \"2003-03-31\", \n",
      "    \"CLASSIFICATION\": 1\n",
      "}\n",
      "Note processed in 4.37 seconds\n"
     ]
    },
    {
     "name": "stderr",
     "output_type": "stream",
     "text": [
      "Processing notes:  39%|████████▉              | 141/363 [08:24<11:34,  3.13s/it]"
     ]
    },
    {
     "name": "stdout",
     "output_type": "stream",
     "text": [
      "Memory cleaned\n",
      "\n",
      "Processing note 142/363\n",
      "Creating prompt...\n",
      "{\n",
      "    \"person_id\": 8706365, \n",
      "    \"note_date\": \"2018-05-12\", \n",
      "    \"CLASSIFICATION\": 1\n",
      "}\n",
      "Note processed in 2.77 seconds\n"
     ]
    },
    {
     "name": "stderr",
     "output_type": "stream",
     "text": [
      "Processing notes:  39%|████████▉              | 142/363 [08:27<11:24,  3.10s/it]"
     ]
    },
    {
     "name": "stdout",
     "output_type": "stream",
     "text": [
      "Memory cleaned\n",
      "\n",
      "Processing note 143/363\n",
      "Creating prompt...\n",
      "{\n",
      "\"person_id\": 8707733, \n",
      "\"note_date\": \"2014-10-31\", \n",
      "\"CLASSIFICATION\": 1\n",
      "}\n",
      "Note processed in 2.56 seconds\n"
     ]
    },
    {
     "name": "stderr",
     "output_type": "stream",
     "text": [
      "Processing notes:  39%|█████████              | 143/363 [08:30<11:05,  3.02s/it]"
     ]
    },
    {
     "name": "stdout",
     "output_type": "stream",
     "text": [
      "Memory cleaned\n",
      "\n",
      "Processing note 144/363\n",
      "Creating prompt...\n",
      "{\n",
      "  \"person_id\": 8728660, \n",
      "  \"note_date\": \"2018-11-18\", \n",
      "  \"CLASSIFICATION\": 1\n",
      "}\n",
      "Note processed in 3.62 seconds\n"
     ]
    },
    {
     "name": "stderr",
     "output_type": "stream",
     "text": [
      "Processing notes:  40%|█████████              | 144/363 [08:34<11:51,  3.25s/it]"
     ]
    },
    {
     "name": "stdout",
     "output_type": "stream",
     "text": [
      "Memory cleaned\n",
      "\n",
      "Processing note 145/363\n",
      "Creating prompt...\n",
      "{\n",
      "  \"person_id\": 8729130, \n",
      "  \"note_date\": \"2018-03-12\", \n",
      "  \"CLASSIFICATION\": 1\n",
      "}\n",
      "Note processed in 3.27 seconds\n"
     ]
    },
    {
     "name": "stderr",
     "output_type": "stream",
     "text": [
      "Processing notes:  40%|█████████▏             | 145/363 [08:38<12:03,  3.32s/it]"
     ]
    },
    {
     "name": "stdout",
     "output_type": "stream",
     "text": [
      "Memory cleaned\n",
      "\n",
      "Processing note 146/363\n",
      "Creating prompt...\n",
      "{\n",
      "  \"person_id\": 8748876, \n",
      "  \"note_date\": \"2018-12-06\", \n",
      "  \"CLASSIFICATION\": 1\n",
      "}\n",
      "Note processed in 3.13 seconds\n"
     ]
    },
    {
     "name": "stderr",
     "output_type": "stream",
     "text": [
      "Processing notes:  40%|█████████▎             | 146/363 [08:41<12:02,  3.33s/it]"
     ]
    },
    {
     "name": "stdout",
     "output_type": "stream",
     "text": [
      "Memory cleaned\n",
      "\n",
      "Processing note 147/363\n",
      "Creating prompt...\n",
      "{\"person_id\": 8760418, \"note_date\": \"2020-02-03\", \"CLASSIFICATION\": 1}\n",
      "Note processed in 6.51 seconds\n"
     ]
    },
    {
     "name": "stderr",
     "output_type": "stream",
     "text": [
      "Processing notes:  40%|█████████▎             | 147/363 [08:48<15:32,  4.32s/it]"
     ]
    },
    {
     "name": "stdout",
     "output_type": "stream",
     "text": [
      "Memory cleaned\n",
      "\n",
      "Processing note 148/363\n",
      "Creating prompt...\n",
      "{\"person_id\": 8770179, \"note_date\": \"2005-09-09\", \"CLASSIFICATION\": 1}\n",
      "Note processed in 2.61 seconds\n"
     ]
    },
    {
     "name": "stderr",
     "output_type": "stream",
     "text": [
      "Processing notes:  41%|█████████▍             | 148/363 [08:50<13:54,  3.88s/it]"
     ]
    },
    {
     "name": "stdout",
     "output_type": "stream",
     "text": [
      "Memory cleaned\n",
      "\n",
      "Processing note 149/363\n",
      "Creating prompt...\n",
      "{\n",
      "    \"person_id\": 8776973, \n",
      "    \"note_date\": \"2020-01-23\", \n",
      "    \"CLASSIFICATION\": 1\n",
      "}\n",
      "Note processed in 2.24 seconds\n"
     ]
    },
    {
     "name": "stderr",
     "output_type": "stream",
     "text": [
      "Processing notes:  41%|█████████▍             | 149/363 [08:53<12:22,  3.47s/it]"
     ]
    },
    {
     "name": "stdout",
     "output_type": "stream",
     "text": [
      "Memory cleaned\n",
      "\n",
      "Processing note 150/363\n",
      "Creating prompt...\n",
      "{\n",
      "  \"person_id\": 8798307, \n",
      "  \"note_date\": \"2018-09-27\", \n",
      "  \"CLASSIFICATION\": 1\n",
      "}\n",
      "Note processed in 3.82 seconds\n"
     ]
    },
    {
     "name": "stderr",
     "output_type": "stream",
     "text": [
      "Processing notes:  41%|█████████▌             | 150/363 [08:57<12:54,  3.64s/it]"
     ]
    },
    {
     "name": "stdout",
     "output_type": "stream",
     "text": [
      "Memory cleaned\n",
      "\n",
      "Processing note 151/363\n",
      "Creating prompt...\n",
      "{\n",
      "\"person_id\": 8826255, \n",
      "\"note_date\": \"2018-03-27\", \n",
      "\"CLASSIFICATION\": 1\n",
      "}\n",
      "Note processed in 6.30 seconds\n"
     ]
    },
    {
     "name": "stderr",
     "output_type": "stream",
     "text": [
      "Processing notes:  42%|█████████▌             | 151/363 [09:04<15:53,  4.50s/it]"
     ]
    },
    {
     "name": "stdout",
     "output_type": "stream",
     "text": [
      "Memory cleaned\n",
      "\n",
      "Processing note 152/363\n",
      "Creating prompt...\n",
      "{\n",
      "    \"person_id\": 8840943, \n",
      "    \"note_date\": \"2019-10-30\", \n",
      "    \"CLASSIFICATION\": 1\n",
      "}\n",
      "Note processed in 2.43 seconds\n"
     ]
    },
    {
     "name": "stderr",
     "output_type": "stream",
     "text": [
      "Processing notes:  42%|█████████▋             | 152/363 [09:06<13:53,  3.95s/it]"
     ]
    },
    {
     "name": "stdout",
     "output_type": "stream",
     "text": [
      "Memory cleaned\n",
      "\n",
      "Processing note 153/363\n",
      "Creating prompt...\n",
      "{\n",
      "  \"person_id\": 8866607, \n",
      "  \"note_date\": \"2020-02-14\", \n",
      "  \"CLASSIFICATION\": 1\n",
      "}\n",
      "Note processed in 3.74 seconds\n"
     ]
    },
    {
     "name": "stderr",
     "output_type": "stream",
     "text": [
      "Processing notes:  42%|█████████▋             | 153/363 [09:10<13:50,  3.95s/it]"
     ]
    },
    {
     "name": "stdout",
     "output_type": "stream",
     "text": [
      "Memory cleaned\n",
      "\n",
      "Processing note 154/363\n",
      "Creating prompt...\n",
      "{\"person_id\": 8886328, \"note_date\": \"2018-09-24\", \"CLASSIFICATION\": 1}\n",
      "Note processed in 2.88 seconds\n"
     ]
    },
    {
     "name": "stderr",
     "output_type": "stream",
     "text": [
      "Processing notes:  42%|█████████▊             | 154/363 [09:13<12:52,  3.70s/it]"
     ]
    },
    {
     "name": "stdout",
     "output_type": "stream",
     "text": [
      "Memory cleaned\n",
      "\n",
      "Processing note 155/363\n",
      "Creating prompt...\n",
      "{\n",
      "    \"person_id\": 8909792, \n",
      "    \"note_date\": \"2004-01-06\", \n",
      "    \"CLASSIFICATION\": 1\n",
      "}\n",
      "Note processed in 2.35 seconds\n"
     ]
    },
    {
     "name": "stderr",
     "output_type": "stream",
     "text": [
      "Processing notes:  43%|█████████▊             | 155/363 [09:16<11:38,  3.36s/it]"
     ]
    },
    {
     "name": "stdout",
     "output_type": "stream",
     "text": [
      "Memory cleaned\n",
      "\n",
      "Processing note 156/363\n",
      "Creating prompt...\n",
      "{\n",
      "    \"person_id\": 8918558, \n",
      "    \"note_date\": \"2017-11-06\", \n",
      "    \"CLASSIFICATION\": 0\n",
      "}\n",
      "Note processed in 2.43 seconds\n"
     ]
    },
    {
     "name": "stderr",
     "output_type": "stream",
     "text": [
      "Processing notes:  43%|█████████▉             | 156/363 [09:18<10:51,  3.15s/it]"
     ]
    },
    {
     "name": "stdout",
     "output_type": "stream",
     "text": [
      "Memory cleaned\n",
      "\n",
      "Processing note 157/363\n",
      "Creating prompt...\n",
      "{\"person_id\": 8950386, \"note_date\": \"2010-04-05\", \"CLASSIFICATION\": 1}\n",
      "Note processed in 4.92 seconds\n"
     ]
    },
    {
     "name": "stderr",
     "output_type": "stream",
     "text": [
      "Processing notes:  43%|█████████▉             | 157/363 [09:24<12:51,  3.75s/it]"
     ]
    },
    {
     "name": "stdout",
     "output_type": "stream",
     "text": [
      "Memory cleaned\n",
      "\n",
      "Processing note 158/363\n",
      "Creating prompt...\n",
      "{\n",
      "    \"person_id\": 9016750, \n",
      "    \"note_date\": \"2020-08-04\", \n",
      "    \"CLASSIFICATION\": 1\n",
      "}\n",
      "Note processed in 2.53 seconds\n"
     ]
    },
    {
     "name": "stderr",
     "output_type": "stream",
     "text": [
      "Processing notes:  44%|██████████             | 158/363 [09:26<11:46,  3.45s/it]"
     ]
    },
    {
     "name": "stdout",
     "output_type": "stream",
     "text": [
      "Memory cleaned\n",
      "\n",
      "Processing note 159/363\n",
      "Creating prompt...\n",
      "{\n",
      "  \"person_id\": 9078523, \n",
      "  \"note_date\": \"2020-08-18\", \n",
      "  \"CLASSIFICATION\": 1\n",
      "}\n",
      "Note processed in 3.19 seconds\n"
     ]
    },
    {
     "name": "stderr",
     "output_type": "stream",
     "text": [
      "Processing notes:  44%|██████████             | 159/363 [09:30<11:43,  3.45s/it]"
     ]
    },
    {
     "name": "stdout",
     "output_type": "stream",
     "text": [
      "Memory cleaned\n",
      "\n",
      "Processing note 160/363\n",
      "Creating prompt...\n",
      "{\n",
      "    \"person_id\": 9110679, \n",
      "    \"note_date\": \"2016-12-15\", \n",
      "    \"CLASSIFICATION\": 1\n",
      "}\n",
      "Note processed in 2.84 seconds\n"
     ]
    },
    {
     "name": "stderr",
     "output_type": "stream",
     "text": [
      "Processing notes:  44%|██████████▏            | 160/363 [09:33<11:16,  3.33s/it]"
     ]
    },
    {
     "name": "stdout",
     "output_type": "stream",
     "text": [
      "Memory cleaned\n",
      "\n",
      "Processing note 161/363\n",
      "Creating prompt...\n",
      "{\n",
      "  \"person_id\": 9120148, \n",
      "  \"note_date\": \"2020-09-21\", \n",
      "  \"CLASSIFICATION\": 1\n",
      "}\n",
      "Note processed in 2.54 seconds\n"
     ]
    },
    {
     "name": "stderr",
     "output_type": "stream",
     "text": [
      "Processing notes:  44%|██████████▏            | 161/363 [09:36<10:38,  3.16s/it]"
     ]
    },
    {
     "name": "stdout",
     "output_type": "stream",
     "text": [
      "Memory cleaned\n",
      "\n",
      "Processing note 162/363\n",
      "Creating prompt...\n",
      "{\n",
      "  \"person_id\": 9120547,\n",
      "  \"note_date\": \"2019-12-13\",\n",
      "  \"CLASSIFICATION\": 1\n",
      "}\n",
      "Note processed in 4.46 seconds\n"
     ]
    },
    {
     "name": "stderr",
     "output_type": "stream",
     "text": [
      "Processing notes:  45%|██████████▎            | 162/363 [09:40<12:07,  3.62s/it]"
     ]
    },
    {
     "name": "stdout",
     "output_type": "stream",
     "text": [
      "Memory cleaned\n",
      "\n",
      "Processing note 163/363\n",
      "Creating prompt...\n",
      "{\n",
      "    \"person_id\": 9126566, \n",
      "    \"note_date\": \"2016-07-13\", \n",
      "    \"CLASSIFICATION\": 1\n",
      "}\n",
      "Note processed in 2.89 seconds\n"
     ]
    },
    {
     "name": "stderr",
     "output_type": "stream",
     "text": [
      "Processing notes:  45%|██████████▎            | 163/363 [09:43<11:33,  3.47s/it]"
     ]
    },
    {
     "name": "stdout",
     "output_type": "stream",
     "text": [
      "Memory cleaned\n",
      "\n",
      "Processing note 164/363\n",
      "Creating prompt...\n",
      "{\n",
      "  \"person_id\": 9149138, \n",
      "  \"note_date\": \"2020-03-06\", \n",
      "  \"CLASSIFICATION\": 1\n",
      "}\n",
      "Note processed in 2.88 seconds\n"
     ]
    },
    {
     "name": "stderr",
     "output_type": "stream",
     "text": [
      "Processing notes:  45%|██████████▍            | 164/363 [09:47<11:08,  3.36s/it]"
     ]
    },
    {
     "name": "stdout",
     "output_type": "stream",
     "text": [
      "Memory cleaned\n",
      "\n",
      "Processing note 165/363\n",
      "Creating prompt...\n",
      "{\n",
      "    \"person_id\": 9149200, \n",
      "    \"note_date\": \"2020-11-11\", \n",
      "    \"CLASSIFICATION\": 1\n",
      "}\n",
      "Note processed in 4.56 seconds\n"
     ]
    },
    {
     "name": "stderr",
     "output_type": "stream",
     "text": [
      "Processing notes:  45%|██████████▍            | 165/363 [09:51<12:29,  3.79s/it]"
     ]
    },
    {
     "name": "stdout",
     "output_type": "stream",
     "text": [
      "Memory cleaned\n",
      "\n",
      "Processing note 166/363\n",
      "Creating prompt...\n",
      "{\n",
      "  \"person_id\": 9179441, \n",
      "  \"note_date\": \"2018-07-02\", \n",
      "  \"CLASSIFICATION\": 1\n",
      "}\n",
      "Note processed in 3.15 seconds\n"
     ]
    },
    {
     "name": "stderr",
     "output_type": "stream",
     "text": [
      "Processing notes:  46%|██████████▌            | 166/363 [09:55<12:03,  3.67s/it]"
     ]
    },
    {
     "name": "stdout",
     "output_type": "stream",
     "text": [
      "Memory cleaned\n",
      "\n",
      "Processing note 167/363\n",
      "Creating prompt...\n",
      "{\n",
      "  \"person_id\": 9186987, \n",
      "  \"note_date\": \"2020-11-08\", \n",
      "  \"CLASSIFICATION\": 1\n",
      "}\n",
      "Note processed in 3.61 seconds\n"
     ]
    },
    {
     "name": "stderr",
     "output_type": "stream",
     "text": [
      "Processing notes:  46%|██████████▌            | 167/363 [09:59<12:09,  3.72s/it]"
     ]
    },
    {
     "name": "stdout",
     "output_type": "stream",
     "text": [
      "Memory cleaned\n",
      "\n",
      "Processing note 168/363\n",
      "Creating prompt...\n",
      "{\n",
      "    \"person_id\": 9187553, \n",
      "    \"note_date\": \"2020-08-19\", \n",
      "    \"CLASSIFICATION\": 1\n",
      "}\n",
      "Note processed in 2.75 seconds\n"
     ]
    },
    {
     "name": "stderr",
     "output_type": "stream",
     "text": [
      "Processing notes:  46%|██████████▋            | 168/363 [10:02<11:21,  3.50s/it]"
     ]
    },
    {
     "name": "stdout",
     "output_type": "stream",
     "text": [
      "Memory cleaned\n",
      "\n",
      "Processing note 169/363\n",
      "Creating prompt...\n",
      "{\n",
      "    \"person_id\": 9216606, \n",
      "    \"note_date\": \"2005-06-09\", \n",
      "    \"CLASSIFICATION\": 1\n",
      "}\n",
      "Note processed in 2.21 seconds\n"
     ]
    },
    {
     "name": "stderr",
     "output_type": "stream",
     "text": [
      "Processing notes:  47%|██████████▋            | 169/363 [10:04<10:16,  3.18s/it]"
     ]
    },
    {
     "name": "stdout",
     "output_type": "stream",
     "text": [
      "Memory cleaned\n",
      "\n",
      "Processing note 170/363\n",
      "Creating prompt...\n",
      "{\n",
      "  \"person_id\": 9219432, \n",
      "  \"note_date\": \"2009-06-25\", \n",
      "  \"CLASSIFICATION\": 1\n",
      "}\n",
      "Note processed in 2.25 seconds\n"
     ]
    },
    {
     "name": "stderr",
     "output_type": "stream",
     "text": [
      "Processing notes:  47%|██████████▊            | 170/363 [10:06<09:31,  2.96s/it]"
     ]
    },
    {
     "name": "stdout",
     "output_type": "stream",
     "text": [
      "Memory cleaned\n",
      "\n",
      "Processing note 171/363\n",
      "Creating prompt...\n",
      "{\n",
      "  \"person_id\": 9250340, \n",
      "  \"note_date\": \"2019-12-30\", \n",
      "  \"CLASSIFICATION\": 1\n",
      "}\n",
      "Note processed in 3.77 seconds\n"
     ]
    },
    {
     "name": "stderr",
     "output_type": "stream",
     "text": [
      "Processing notes:  47%|██████████▊            | 171/363 [10:10<10:28,  3.27s/it]"
     ]
    },
    {
     "name": "stdout",
     "output_type": "stream",
     "text": [
      "Memory cleaned\n",
      "\n",
      "Processing note 172/363\n",
      "Creating prompt...\n",
      "{\n",
      "    \"person_id\": 9329375, \n",
      "    \"note_date\": \"1998-02-19\", \n",
      "    \"CLASSIFICATION\": 1\n",
      "}\n",
      "Note processed in 2.93 seconds\n"
     ]
    },
    {
     "name": "stderr",
     "output_type": "stream",
     "text": [
      "Processing notes:  47%|██████████▉            | 172/363 [10:14<10:18,  3.24s/it]"
     ]
    },
    {
     "name": "stdout",
     "output_type": "stream",
     "text": [
      "Memory cleaned\n",
      "\n",
      "Processing note 173/363\n",
      "Creating prompt...\n"
     ]
    },
    {
     "name": "stderr",
     "output_type": "stream",
     "text": [
      "Processing notes:  48%|██████████▉            | 173/363 [10:42<34:37, 10.93s/it]"
     ]
    },
    {
     "name": "stdout",
     "output_type": "stream",
     "text": [
      "The patient is being evaluated by the following of the family. \n",
      "The patient is being evaluated by the family. \n",
      "The patient is being evaluated by the family. \n",
      "Patient:Patient is being evaluated by the family. \n",
      "Patient:Patient is being evaluated by the family. \n",
      "Patient:Patient \n",
      "Patient:Patient \n",
      "Patient:Patient \n",
      "Patient:Patient \n",
      "Patient:Patient \n",
      "Patient:Patient \n",
      "Patient:Patient \n",
      "Patient:Patient \n",
      "Patient:Patient \n",
      "Patient:Patient \n",
      "Patient:Patient \n",
      "Patient\n",
      "No valid JSON content found in response\n",
      "Note processed in 28.60 seconds\n",
      "Memory cleaned\n",
      "\n",
      "Processing note 174/363\n",
      "Creating prompt...\n",
      "{\n",
      "  \"person_id\": 9346870, \n",
      "  \"note_date\": \"2019-12-06\", \n",
      "  \"CLASSIFICATION\": 1\n",
      "}\n",
      "Note processed in 4.84 seconds\n"
     ]
    },
    {
     "name": "stderr",
     "output_type": "stream",
     "text": [
      "Processing notes:  48%|███████████            | 174/363 [10:48<28:55,  9.18s/it]"
     ]
    },
    {
     "name": "stdout",
     "output_type": "stream",
     "text": [
      "Memory cleaned\n",
      "\n",
      "Processing note 175/363\n",
      "Creating prompt...\n",
      "{\n",
      "    \"person_id\": 9370204, \n",
      "    \"note_date\": \"2018-05-22\", \n",
      "    \"CLASSIFICATION\": 1\n",
      "}\n",
      "Note processed in 2.46 seconds\n"
     ]
    },
    {
     "name": "stderr",
     "output_type": "stream",
     "text": [
      "Processing notes:  48%|███████████            | 175/363 [10:50<22:39,  7.23s/it]"
     ]
    },
    {
     "name": "stdout",
     "output_type": "stream",
     "text": [
      "Memory cleaned\n",
      "\n",
      "Processing note 176/363\n",
      "Creating prompt...\n",
      "{\n",
      "    \"person_id\": 9410338, \n",
      "    \"note_date\": \"2019-04-08\", \n",
      "    \"CLASSIFICATION\": 1\n",
      "}\n",
      "Note processed in 2.61 seconds\n"
     ]
    },
    {
     "name": "stderr",
     "output_type": "stream",
     "text": [
      "Processing notes:  48%|███████████▏           | 176/363 [10:53<18:26,  5.92s/it]"
     ]
    },
    {
     "name": "stdout",
     "output_type": "stream",
     "text": [
      "Memory cleaned\n",
      "\n",
      "Processing note 177/363\n",
      "Creating prompt...\n",
      "{\n",
      "  \"person_id\": 9439263, \n",
      "  \"note_date\": \"2003-08-22\", \n",
      "  \"CLASSIFICATION\": 1\n",
      "}\n",
      "Note processed in 3.08 seconds\n"
     ]
    },
    {
     "name": "stderr",
     "output_type": "stream",
     "text": [
      "Processing notes:  49%|███████████▏           | 177/363 [10:56<15:54,  5.13s/it]"
     ]
    },
    {
     "name": "stdout",
     "output_type": "stream",
     "text": [
      "Memory cleaned\n",
      "\n",
      "Processing note 178/363\n",
      "Creating prompt...\n",
      "{\n",
      "    \"person_id\": 9439557, \n",
      "    \"note_date\": \"2004-06-11\", \n",
      "    \"CLASSIFICATION\": 1\n",
      "}\n",
      "Note processed in 2.29 seconds\n"
     ]
    },
    {
     "name": "stderr",
     "output_type": "stream",
     "text": [
      "Processing notes:  49%|███████████▎           | 178/363 [10:59<13:24,  4.35s/it]"
     ]
    },
    {
     "name": "stdout",
     "output_type": "stream",
     "text": [
      "Memory cleaned\n",
      "\n",
      "Processing note 179/363\n",
      "Creating prompt...\n",
      "{\n",
      "    \"person_id\": 9440812, \n",
      "    \"note_date\": \"2020-07-06\", \n",
      "    \"CLASSIFICATION\": 1\n",
      "}\n",
      "Note processed in 4.00 seconds\n"
     ]
    },
    {
     "name": "stderr",
     "output_type": "stream",
     "text": [
      "Processing notes:  49%|███████████▎           | 179/363 [11:03<13:14,  4.32s/it]"
     ]
    },
    {
     "name": "stdout",
     "output_type": "stream",
     "text": [
      "Memory cleaned\n",
      "\n",
      "Processing note 180/363\n",
      "Creating prompt...\n",
      "{\n",
      "    \"person_id\": 9459615, \n",
      "    \"note_date\": \"2019-03-07\", \n",
      "    \"CLASSIFICATION\": 0\n",
      "}\n",
      "Note processed in 3.47 seconds\n"
     ]
    },
    {
     "name": "stderr",
     "output_type": "stream",
     "text": [
      "Processing notes:  50%|███████████▍           | 180/363 [11:07<12:35,  4.13s/it]"
     ]
    },
    {
     "name": "stdout",
     "output_type": "stream",
     "text": [
      "Memory cleaned\n",
      "\n",
      "Processing note 181/363\n",
      "Creating prompt...\n",
      "{\n",
      "    \"person_id\": 9480381, \n",
      "    \"note_date\": \"2005-12-15\", \n",
      "    \"CLASSIFICATION\": 1\n",
      "}\n",
      "Note processed in 2.67 seconds\n"
     ]
    },
    {
     "name": "stderr",
     "output_type": "stream",
     "text": [
      "Processing notes:  50%|███████████▍           | 181/363 [11:10<11:24,  3.76s/it]"
     ]
    },
    {
     "name": "stdout",
     "output_type": "stream",
     "text": [
      "Memory cleaned\n",
      "\n",
      "Processing note 182/363\n",
      "Creating prompt...\n",
      "{\"person_id\": 9496606, \"note_date\": \"2019-10-18\", \"CLASSIFICATION\": 1}\n",
      "Note processed in 3.56 seconds\n"
     ]
    },
    {
     "name": "stderr",
     "output_type": "stream",
     "text": [
      "Processing notes:  50%|███████████▌           | 182/363 [11:14<11:21,  3.77s/it]"
     ]
    },
    {
     "name": "stdout",
     "output_type": "stream",
     "text": [
      "Memory cleaned\n",
      "\n",
      "Processing note 183/363\n",
      "Creating prompt...\n",
      "{\n",
      "    \"person_id\": 9498829, \n",
      "    \"note_date\": \"2019-07-14\", \n",
      "    \"CLASSIFICATION\": 0\n",
      "}\n",
      "Note processed in 2.89 seconds\n"
     ]
    },
    {
     "name": "stderr",
     "output_type": "stream",
     "text": [
      "Processing notes:  50%|███████████▌           | 183/363 [11:17<10:42,  3.57s/it]"
     ]
    },
    {
     "name": "stdout",
     "output_type": "stream",
     "text": [
      "Memory cleaned\n",
      "\n",
      "Processing note 184/363\n",
      "Creating prompt...\n",
      "{\"person_id\": 9549169, \"note_date\": \"2019-05-18\", \"CLASSIFICATION\": 1}\n",
      "Note processed in 3.67 seconds\n"
     ]
    },
    {
     "name": "stderr",
     "output_type": "stream",
     "text": [
      "Processing notes:  51%|███████████▋           | 184/363 [11:21<10:57,  3.67s/it]"
     ]
    },
    {
     "name": "stdout",
     "output_type": "stream",
     "text": [
      "Memory cleaned\n",
      "\n",
      "Processing note 185/363\n",
      "Creating prompt...\n",
      "{\"person_id\": 9549169, \"note_date\": \"2019-10-10\", \"CLASSIFICATION\": 1}\n",
      "Note processed in 3.21 seconds\n"
     ]
    },
    {
     "name": "stderr",
     "output_type": "stream",
     "text": [
      "Processing notes:  51%|███████████▋           | 185/363 [11:24<10:41,  3.60s/it]"
     ]
    },
    {
     "name": "stdout",
     "output_type": "stream",
     "text": [
      "Memory cleaned\n",
      "\n",
      "Processing note 186/363\n",
      "Creating prompt...\n",
      "{\n",
      "    \"person_id\": 9578514, \n",
      "    \"note_date\": \"2018-03-02\", \n",
      "    \"CLASSIFICATION\": 1\n",
      "}\n",
      "Note processed in 2.65 seconds\n"
     ]
    },
    {
     "name": "stderr",
     "output_type": "stream",
     "text": [
      "Processing notes:  51%|███████████▊           | 186/363 [11:27<09:58,  3.38s/it]"
     ]
    },
    {
     "name": "stdout",
     "output_type": "stream",
     "text": [
      "Memory cleaned\n",
      "\n",
      "Processing note 187/363\n",
      "Creating prompt...\n",
      "{\n",
      "    \"person_id\": 9658496, \n",
      "    \"note_date\": \"2020-01-30\", \n",
      "    \"CLASSIFICATION\": 1\n",
      "}\n",
      "Note processed in 2.34 seconds\n"
     ]
    },
    {
     "name": "stderr",
     "output_type": "stream",
     "text": [
      "Processing notes:  52%|███████████▊           | 187/363 [11:29<09:11,  3.14s/it]"
     ]
    },
    {
     "name": "stdout",
     "output_type": "stream",
     "text": [
      "Memory cleaned\n",
      "\n",
      "Processing note 188/363\n",
      "Creating prompt...\n",
      "{\"person_id\": 9816920, \"note_date\": \"2018-09-13\", \"CLASSIFICATION\": 1}\n",
      "Note processed in 3.51 seconds\n"
     ]
    },
    {
     "name": "stderr",
     "output_type": "stream",
     "text": [
      "Processing notes:  52%|███████████▉           | 188/363 [11:33<09:40,  3.32s/it]"
     ]
    },
    {
     "name": "stdout",
     "output_type": "stream",
     "text": [
      "Memory cleaned\n",
      "\n",
      "Processing note 189/363\n",
      "Creating prompt...\n",
      "{\n",
      "    \"person_id\": 9838675, \n",
      "    \"note_date\": \"2001-03-30\", \n",
      "    \"CLASSIFICATION\": 1\n",
      "}\n",
      "Note processed in 3.87 seconds\n"
     ]
    },
    {
     "name": "stderr",
     "output_type": "stream",
     "text": [
      "Processing notes:  52%|███████████▉           | 189/363 [11:37<10:18,  3.55s/it]"
     ]
    },
    {
     "name": "stdout",
     "output_type": "stream",
     "text": [
      "Memory cleaned\n",
      "\n",
      "Processing note 190/363\n",
      "Creating prompt...\n",
      "{\n",
      "    \"person_id\": 9859590, \n",
      "    \"note_date\": \"2020-03-31\", \n",
      "    \"CLASSIFICATION\": 1\n",
      "}\n",
      "Note processed in 3.28 seconds\n"
     ]
    },
    {
     "name": "stderr",
     "output_type": "stream",
     "text": [
      "Processing notes:  52%|████████████           | 190/363 [11:41<10:12,  3.54s/it]"
     ]
    },
    {
     "name": "stdout",
     "output_type": "stream",
     "text": [
      "Memory cleaned\n",
      "\n",
      "Processing note 191/363\n",
      "Creating prompt...\n",
      "{\n",
      "    \"person_id\": 9872671, \n",
      "    \"note_date\": \"2002-09-17\", \n",
      "    \"CLASSIFICATION\": 1\n",
      "}\n",
      "Note processed in 3.58 seconds\n"
     ]
    },
    {
     "name": "stderr",
     "output_type": "stream",
     "text": [
      "Processing notes:  53%|████████████           | 191/363 [11:45<10:24,  3.63s/it]"
     ]
    },
    {
     "name": "stdout",
     "output_type": "stream",
     "text": [
      "Memory cleaned\n",
      "\n",
      "Processing note 192/363\n",
      "Creating prompt...\n",
      "{\n",
      "    \"person_id\": 9951624, \n",
      "    \"note_date\": \"2019-10-14\", \n",
      "    \"CLASSIFICATION\": 1\n",
      "}\n",
      "Note processed in 2.53 seconds\n"
     ]
    },
    {
     "name": "stderr",
     "output_type": "stream",
     "text": [
      "Processing notes:  53%|████████████▏          | 192/363 [11:47<09:35,  3.37s/it]"
     ]
    },
    {
     "name": "stdout",
     "output_type": "stream",
     "text": [
      "Memory cleaned\n",
      "\n",
      "Processing note 193/363\n",
      "Creating prompt...\n",
      "{\n",
      "    \"person_id\": 10073729, \n",
      "    \"note_date\": \"2005-06-28\", \n",
      "    \"CLASSIFICATION\": 1\n",
      "}\n",
      "Note processed in 2.25 seconds\n"
     ]
    },
    {
     "name": "stderr",
     "output_type": "stream",
     "text": [
      "Processing notes:  53%|████████████▏          | 193/363 [11:50<08:46,  3.10s/it]"
     ]
    },
    {
     "name": "stdout",
     "output_type": "stream",
     "text": [
      "Memory cleaned\n",
      "\n",
      "Processing note 194/363\n",
      "Creating prompt...\n",
      "{\"person_id\": 10111473, \"note_date\": \"2008-07-11\", \"CLASSIFICATION\": 1}\n",
      "Note processed in 2.23 seconds\n"
     ]
    },
    {
     "name": "stderr",
     "output_type": "stream",
     "text": [
      "Processing notes:  53%|████████████▎          | 194/363 [11:52<08:10,  2.90s/it]"
     ]
    },
    {
     "name": "stdout",
     "output_type": "stream",
     "text": [
      "Memory cleaned\n",
      "\n",
      "Processing note 195/363\n",
      "Creating prompt...\n",
      "{\n",
      "    \"person_id\": 10231352, \n",
      "    \"note_date\": \"2001-01-21\", \n",
      "    \"CLASSIFICATION\": 1\n",
      "}\n",
      "Note processed in 2.66 seconds\n"
     ]
    },
    {
     "name": "stderr",
     "output_type": "stream",
     "text": [
      "Processing notes:  54%|████████████▎          | 195/363 [11:55<08:07,  2.90s/it]"
     ]
    },
    {
     "name": "stdout",
     "output_type": "stream",
     "text": [
      "Memory cleaned\n",
      "\n",
      "Processing note 196/363\n",
      "Creating prompt...\n",
      "{\"person_id\": 10352672, \"note_date\": \"2009-04-30\", \"CLASSIFICATION\": 0}\n",
      "Note processed in 2.09 seconds\n"
     ]
    },
    {
     "name": "stderr",
     "output_type": "stream",
     "text": [
      "Processing notes:  54%|████████████▍          | 196/363 [11:57<07:34,  2.72s/it]"
     ]
    },
    {
     "name": "stdout",
     "output_type": "stream",
     "text": [
      "Memory cleaned\n",
      "\n",
      "Processing note 197/363\n",
      "Creating prompt...\n",
      "{\n",
      "  \"person_id\": 10363503, \n",
      "  \"note_date\": \"2018-08-12\", \n",
      "  \"CLASSIFICATION\": 1\n",
      "}\n",
      "Note processed in 3.07 seconds\n"
     ]
    },
    {
     "name": "stderr",
     "output_type": "stream",
     "text": [
      "Processing notes:  54%|████████████▍          | 197/363 [12:01<08:00,  2.89s/it]"
     ]
    },
    {
     "name": "stdout",
     "output_type": "stream",
     "text": [
      "Memory cleaned\n",
      "\n",
      "Processing note 198/363\n",
      "Creating prompt...\n",
      "{\n",
      "    \"person_id\": 10394010, \n",
      "    \"note_date\": \"2006-02-25\", \n",
      "    \"CLASSIFICATION\": 1\n",
      "}\n",
      "Note processed in 2.42 seconds\n"
     ]
    },
    {
     "name": "stderr",
     "output_type": "stream",
     "text": [
      "Processing notes:  55%|████████████▌          | 198/363 [12:03<07:45,  2.82s/it]"
     ]
    },
    {
     "name": "stdout",
     "output_type": "stream",
     "text": [
      "Memory cleaned\n",
      "\n",
      "Processing note 199/363\n",
      "Creating prompt...\n",
      "{\n",
      "    \"person_id\": 10462290, \n",
      "    \"note_date\": \"2016-11-30\", \n",
      "    \"CLASSIFICATION\": 1\n",
      "}\n",
      "Note processed in 2.24 seconds\n"
     ]
    },
    {
     "name": "stderr",
     "output_type": "stream",
     "text": [
      "Processing notes:  55%|████████████▌          | 199/363 [12:06<07:24,  2.71s/it]"
     ]
    },
    {
     "name": "stdout",
     "output_type": "stream",
     "text": [
      "Memory cleaned\n",
      "\n",
      "Processing note 200/363\n",
      "Creating prompt...\n",
      "{\"person_id\": 10463086, \"note_date\": \"1999-11-12\", \"CLASSIFICATION\": 1}\n",
      "Note processed in 3.12 seconds\n"
     ]
    },
    {
     "name": "stderr",
     "output_type": "stream",
     "text": [
      "Processing notes:  55%|████████████▋          | 200/363 [12:09<07:53,  2.90s/it]"
     ]
    },
    {
     "name": "stdout",
     "output_type": "stream",
     "text": [
      "Memory cleaned\n",
      "\n",
      "Processing note 201/363\n",
      "Creating prompt...\n",
      "{\n",
      "    \"person_id\": 10682569, \n",
      "    \"note_date\": \"2018-06-09\", \n",
      "    \"CLASSIFICATION\": 1\n",
      "}\n",
      "Note processed in 6.87 seconds\n"
     ]
    },
    {
     "name": "stderr",
     "output_type": "stream",
     "text": [
      "Processing notes:  55%|████████████▋          | 201/363 [12:16<11:15,  4.17s/it]"
     ]
    },
    {
     "name": "stdout",
     "output_type": "stream",
     "text": [
      "Memory cleaned\n",
      "\n",
      "Processing note 202/363\n",
      "Creating prompt...\n",
      "                {person_id: 10691752, \"note_date\": \"2003-04-03\", \"CLASSIFICATION\": 0}\n",
      "                {person_id: 10691752, \"note_date\": \"2003-04-03\", \"CLASSIFICATION\": 1}\n",
      "                {person_id: 10691752, \"note_date\": \"2003-04-03\", \"CLASSIFICATION\": 0}\n",
      "                {person_id: 10691752, \"note_date\n",
      "Error writing to file: Expecting property name enclosed in double quotes: line 1 column 2 (char 1)\n",
      "Note processed in 19.24 seconds\n"
     ]
    },
    {
     "name": "stderr",
     "output_type": "stream",
     "text": [
      "Processing notes:  56%|████████████▊          | 202/363 [12:36<23:30,  8.76s/it]"
     ]
    },
    {
     "name": "stdout",
     "output_type": "stream",
     "text": [
      "Memory cleaned\n",
      "\n",
      "Processing note 203/363\n",
      "Creating prompt...\n",
      "{\n",
      "    \"person_id\": 10693580, \n",
      "    \"note_date\": \"2015-04-24\", \n",
      "    \"CLASSIFICATION\": 1\n",
      "}\n",
      "Note processed in 2.33 seconds\n"
     ]
    },
    {
     "name": "stderr",
     "output_type": "stream",
     "text": [
      "Processing notes:  56%|████████████▊          | 203/363 [12:38<18:24,  6.90s/it]"
     ]
    },
    {
     "name": "stdout",
     "output_type": "stream",
     "text": [
      "Memory cleaned\n",
      "\n",
      "Processing note 204/363\n",
      "Creating prompt...\n",
      "{\n",
      "    \"person_id\": 10882667, \n",
      "    \"note_date\": \"2017-11-15\", \n",
      "    \"CLASSIFICATION\": 1\n",
      "}\n",
      "Note processed in 3.36 seconds\n"
     ]
    },
    {
     "name": "stderr",
     "output_type": "stream",
     "text": [
      "Processing notes:  56%|████████████▉          | 204/363 [12:42<15:39,  5.91s/it]"
     ]
    },
    {
     "name": "stdout",
     "output_type": "stream",
     "text": [
      "Memory cleaned\n",
      "\n",
      "Processing note 205/363\n",
      "Creating prompt...\n",
      "{\n",
      "  \"person_id\": 11021490, \n",
      "  \"note_date\": \"2020-03-26\", \n",
      "  \"CLASSIFICATION\": 1\n",
      "}\n",
      "Note processed in 5.43 seconds\n"
     ]
    },
    {
     "name": "stderr",
     "output_type": "stream",
     "text": [
      "Processing notes:  56%|████████████▉          | 205/363 [12:48<15:21,  5.83s/it]"
     ]
    },
    {
     "name": "stdout",
     "output_type": "stream",
     "text": [
      "Memory cleaned\n",
      "\n",
      "Processing note 206/363\n",
      "Creating prompt...\n",
      "{\"person_id\": 11124269, \"note_date\": \"2014-04-25\", \"CLASSIFICATION\": 1}\n",
      "Note processed in 2.10 seconds\n"
     ]
    },
    {
     "name": "stderr",
     "output_type": "stream",
     "text": [
      "Processing notes:  57%|█████████████          | 206/363 [12:50<12:30,  4.78s/it]"
     ]
    },
    {
     "name": "stdout",
     "output_type": "stream",
     "text": [
      "Memory cleaned\n",
      "\n",
      "Processing note 207/363\n",
      "Creating prompt...\n",
      "{\n",
      "  \"person_id\": 11124425, \n",
      "  \"note_date\": \"2018-05-27\", \n",
      "  \"CLASSIFICATION\": 1\n",
      "}\n",
      "Note processed in 2.94 seconds\n"
     ]
    },
    {
     "name": "stderr",
     "output_type": "stream",
     "text": [
      "Processing notes:  57%|█████████████          | 207/363 [12:53<11:11,  4.31s/it]"
     ]
    },
    {
     "name": "stdout",
     "output_type": "stream",
     "text": [
      "Memory cleaned\n",
      "\n",
      "Processing note 208/363\n",
      "Creating prompt...\n",
      "{\n",
      "    \"person_id\": 11163105, \n",
      "    \"note_date\": \"1998-09-17\", \n",
      "    \"CLASSIFICATION\": 1\n",
      "}\n",
      "Note processed in 2.22 seconds\n"
     ]
    },
    {
     "name": "stderr",
     "output_type": "stream",
     "text": [
      "Processing notes:  57%|█████████████▏         | 208/363 [12:56<09:41,  3.75s/it]"
     ]
    },
    {
     "name": "stdout",
     "output_type": "stream",
     "text": [
      "Memory cleaned\n",
      "\n",
      "Processing note 209/363\n",
      "Creating prompt...\n",
      "{\"person_id\": 11173176, \"note_date\": \"2016-03-04\", \"CLASSIFICATION\": 1}\n",
      "Note processed in 2.36 seconds\n"
     ]
    },
    {
     "name": "stderr",
     "output_type": "stream",
     "text": [
      "Processing notes:  58%|█████████████▏         | 209/363 [12:58<08:43,  3.40s/it]"
     ]
    },
    {
     "name": "stdout",
     "output_type": "stream",
     "text": [
      "Memory cleaned\n",
      "\n",
      "Processing note 210/363\n",
      "Creating prompt...\n",
      "{\n",
      "    \"person_id\": 11213276, \n",
      "    \"note_date\": \"2007-06-14\", \n",
      "    \"CLASSIFICATION\": 1\n",
      "}\n",
      "Note processed in 2.79 seconds\n"
     ]
    },
    {
     "name": "stderr",
     "output_type": "stream",
     "text": [
      "Processing notes:  58%|█████████████▎         | 210/363 [13:01<08:22,  3.28s/it]"
     ]
    },
    {
     "name": "stdout",
     "output_type": "stream",
     "text": [
      "Memory cleaned\n",
      "\n",
      "Processing note 211/363\n",
      "Creating prompt...\n",
      "{\n",
      "    \"person_id\": 11262132, \n",
      "    \"note_date\": \"2014-03-27\", \n",
      "    \"CLASSIFICATION\": 1\n",
      "}\n",
      "Note processed in 2.80 seconds\n"
     ]
    },
    {
     "name": "stderr",
     "output_type": "stream",
     "text": [
      "Processing notes:  58%|█████████████▎         | 211/363 [13:04<08:07,  3.21s/it]"
     ]
    },
    {
     "name": "stdout",
     "output_type": "stream",
     "text": [
      "Memory cleaned\n",
      "\n",
      "Processing note 212/363\n",
      "Creating prompt...\n",
      "{\n",
      "    \"person_id\": 11422210, \n",
      "    \"note_date\": \"2016-06-01\", \n",
      "    \"CLASSIFICATION\": 1\n",
      "}\n",
      "Note processed in 2.34 seconds\n"
     ]
    },
    {
     "name": "stderr",
     "output_type": "stream",
     "text": [
      "Processing notes:  58%|█████████████▍         | 212/363 [13:07<07:34,  3.01s/it]"
     ]
    },
    {
     "name": "stdout",
     "output_type": "stream",
     "text": [
      "Memory cleaned\n",
      "\n",
      "Processing note 213/363\n",
      "Creating prompt...\n",
      "{\"person_id\": 11483363, \"note_date\": \"2016-03-08\", \"CLASSIFICATION\": 1}\n",
      "Note processed in 2.46 seconds\n"
     ]
    },
    {
     "name": "stderr",
     "output_type": "stream",
     "text": [
      "Processing notes:  59%|█████████████▍         | 213/363 [13:09<07:16,  2.91s/it]"
     ]
    },
    {
     "name": "stdout",
     "output_type": "stream",
     "text": [
      "Memory cleaned\n",
      "\n",
      "Processing note 214/363\n",
      "Creating prompt...\n",
      "{\n",
      "    \"person_id\": 11593100, \n",
      "    \"note_date\": \"2020-10-01\", \n",
      "    \"CLASSIFICATION\": 1\n",
      "}\n",
      "Note processed in 3.84 seconds\n"
     ]
    },
    {
     "name": "stderr",
     "output_type": "stream",
     "text": [
      "Processing notes:  59%|█████████████▌         | 214/363 [13:14<08:05,  3.26s/it]"
     ]
    },
    {
     "name": "stdout",
     "output_type": "stream",
     "text": [
      "Memory cleaned\n",
      "\n",
      "Processing note 215/363\n",
      "Creating prompt...\n",
      "{\n",
      "    \"person_id\": 11602003, \n",
      "    \"note_date\": \"2018-01-10\", \n",
      "    \"CLASSIFICATION\": 1\n",
      "}\n",
      "Note processed in 3.48 seconds\n"
     ]
    },
    {
     "name": "stderr",
     "output_type": "stream",
     "text": [
      "Processing notes:  59%|█████████████▌         | 215/363 [13:17<08:22,  3.39s/it]"
     ]
    },
    {
     "name": "stdout",
     "output_type": "stream",
     "text": [
      "Memory cleaned\n",
      "\n",
      "Processing note 216/363\n",
      "Creating prompt...\n",
      "{\n",
      "    \"person_id\": 11612383, \n",
      "    \"note_date\": \"1999-02-28\", \n",
      "    \"CLASSIFICATION\": 0\n",
      "}\n",
      "Note processed in 2.23 seconds\n"
     ]
    },
    {
     "name": "stderr",
     "output_type": "stream",
     "text": [
      "Processing notes:  60%|█████████████▋         | 216/363 [13:20<07:37,  3.11s/it]"
     ]
    },
    {
     "name": "stdout",
     "output_type": "stream",
     "text": [
      "Memory cleaned\n",
      "\n",
      "Processing note 217/363\n",
      "Creating prompt...\n",
      "{\n",
      "  \"person_id\": 11632847, \n",
      "  \"note_date\": \"2018-11-01\", \n",
      "  \"CLASSIFICATION\": 1\n",
      "}\n",
      "Note processed in 4.49 seconds\n"
     ]
    },
    {
     "name": "stderr",
     "output_type": "stream",
     "text": [
      "Processing notes:  60%|█████████████▋         | 217/363 [13:24<08:44,  3.59s/it]"
     ]
    },
    {
     "name": "stdout",
     "output_type": "stream",
     "text": [
      "Memory cleaned\n",
      "\n",
      "Processing note 218/363\n",
      "Creating prompt...\n",
      "{\n",
      "  \"person_id\": 11781275, \n",
      "  \"note_date\": \"2019-11-12\", \n",
      "  \"CLASSIFICATION\": 1\n",
      "}\n",
      "Note processed in 3.29 seconds\n"
     ]
    },
    {
     "name": "stderr",
     "output_type": "stream",
     "text": [
      "Processing notes:  60%|█████████████▊         | 218/363 [13:28<08:38,  3.57s/it]"
     ]
    },
    {
     "name": "stdout",
     "output_type": "stream",
     "text": [
      "Memory cleaned\n",
      "\n",
      "Processing note 219/363\n",
      "Creating prompt...\n",
      "{\"person_id\": 11823037, \"note_date\": \"2019-11-08\", \"CLASSIFICATION\": 1}\n",
      "Note processed in 2.49 seconds\n"
     ]
    },
    {
     "name": "stderr",
     "output_type": "stream",
     "text": [
      "Processing notes:  60%|█████████████▉         | 219/363 [13:31<07:57,  3.32s/it]"
     ]
    },
    {
     "name": "stdout",
     "output_type": "stream",
     "text": [
      "Memory cleaned\n",
      "\n",
      "Processing note 220/363\n",
      "Creating prompt...\n",
      "{\n",
      "    \"person_id\": 11824594, \n",
      "    \"note_date\": \"2009-01-10\", \n",
      "    \"CLASSIFICATION\": 1\n",
      "}\n",
      "Note processed in 2.42 seconds\n"
     ]
    },
    {
     "name": "stderr",
     "output_type": "stream",
     "text": [
      "Processing notes:  61%|█████████████▉         | 220/363 [13:33<07:25,  3.11s/it]"
     ]
    },
    {
     "name": "stdout",
     "output_type": "stream",
     "text": [
      "Memory cleaned\n",
      "\n",
      "Processing note 221/363\n",
      "Creating prompt...\n",
      "{\n",
      "    \"person_id\": 11863456, \n",
      "    \"note_date\": \"2018-06-03\", \n",
      "    \"CLASSIFICATION\": 1\n",
      "}\n",
      "Note processed in 2.86 seconds\n"
     ]
    },
    {
     "name": "stderr",
     "output_type": "stream",
     "text": [
      "Processing notes:  61%|██████████████         | 221/363 [13:36<07:21,  3.11s/it]"
     ]
    },
    {
     "name": "stdout",
     "output_type": "stream",
     "text": [
      "Memory cleaned\n",
      "\n",
      "Processing note 222/363\n",
      "Creating prompt...\n",
      "{\"person_id\": 11881424, \"note_date\": \"2019-03-06\", \"CLASSIFICATION\": 1}\n",
      "Note processed in 2.69 seconds\n"
     ]
    },
    {
     "name": "stderr",
     "output_type": "stream",
     "text": [
      "Processing notes:  61%|██████████████         | 222/363 [13:39<07:09,  3.05s/it]"
     ]
    },
    {
     "name": "stdout",
     "output_type": "stream",
     "text": [
      "Memory cleaned\n",
      "\n",
      "Processing note 223/363\n",
      "Creating prompt...\n",
      "{\n",
      "    \"person_id\": 11903637, \n",
      "    \"note_date\": \"2019-12-05\", \n",
      "    \"CLASSIFICATION\": 1\n",
      "}\n",
      "Note processed in 2.57 seconds\n"
     ]
    },
    {
     "name": "stderr",
     "output_type": "stream",
     "text": [
      "Processing notes:  61%|██████████████▏        | 223/363 [13:42<06:56,  2.97s/it]"
     ]
    },
    {
     "name": "stdout",
     "output_type": "stream",
     "text": [
      "Memory cleaned\n",
      "\n",
      "Processing note 224/363\n",
      "Creating prompt...\n",
      "{\"person_id\": 11963732, \"note_date\": \"2003-04-22\", \"CLASSIFICATION\": 0}\n",
      "Note processed in 3.18 seconds\n"
     ]
    },
    {
     "name": "stderr",
     "output_type": "stream",
     "text": [
      "Processing notes:  62%|██████████████▏        | 224/363 [13:46<07:11,  3.10s/it]"
     ]
    },
    {
     "name": "stdout",
     "output_type": "stream",
     "text": [
      "Memory cleaned\n",
      "\n",
      "Processing note 225/363\n",
      "Creating prompt...\n",
      "{\n",
      "  \"person_id\": 12003506, \n",
      "  \"note_date\": \"2020-04-01\", \n",
      "  \"CLASSIFICATION\": 1\n",
      "}\n",
      "Note processed in 2.94 seconds\n"
     ]
    },
    {
     "name": "stderr",
     "output_type": "stream",
     "text": [
      "Processing notes:  62%|██████████████▎        | 225/363 [13:49<07:10,  3.12s/it]"
     ]
    },
    {
     "name": "stdout",
     "output_type": "stream",
     "text": [
      "Memory cleaned\n",
      "\n",
      "Processing note 226/363\n",
      "Creating prompt...\n",
      "{\"person_id\": 12022908, \"note_date\": \"2015-01-16\", \"CLASSIFICATION\": 1}\n",
      "Note processed in 2.07 seconds\n"
     ]
    },
    {
     "name": "stderr",
     "output_type": "stream",
     "text": [
      "Processing notes:  62%|██████████████▎        | 226/363 [13:51<06:33,  2.87s/it]"
     ]
    },
    {
     "name": "stdout",
     "output_type": "stream",
     "text": [
      "Memory cleaned\n",
      "\n",
      "Processing note 227/363\n",
      "Creating prompt...\n",
      "{\n",
      "    \"person_id\": 12091627, \n",
      "    \"note_date\": \"2000-11-28\", \n",
      "    \"CLASSIFICATION\": 1\n",
      "}\n",
      "Note processed in 2.49 seconds\n"
     ]
    },
    {
     "name": "stderr",
     "output_type": "stream",
     "text": [
      "Processing notes:  63%|██████████████▍        | 227/363 [13:54<06:23,  2.82s/it]"
     ]
    },
    {
     "name": "stdout",
     "output_type": "stream",
     "text": [
      "Memory cleaned\n",
      "\n",
      "Processing note 228/363\n",
      "Creating prompt...\n",
      "{\"person_id\": 12091693, \"note_date\": \"2015-03-10\", \"CLASSIFICATION\": 1}\n",
      "Note processed in 2.29 seconds\n"
     ]
    },
    {
     "name": "stderr",
     "output_type": "stream",
     "text": [
      "Processing notes:  63%|██████████████▍        | 228/363 [13:56<06:08,  2.73s/it]"
     ]
    },
    {
     "name": "stdout",
     "output_type": "stream",
     "text": [
      "Memory cleaned\n",
      "\n",
      "Processing note 229/363\n",
      "Creating prompt...\n",
      "{\n",
      "    \"person_id\": 12144191, \n",
      "    \"note_date\": \"2004-06-11\", \n",
      "    \"CLASSIFICATION\": 1\n",
      "}\n",
      "Note processed in 2.30 seconds\n"
     ]
    },
    {
     "name": "stderr",
     "output_type": "stream",
     "text": [
      "Processing notes:  63%|██████████████▌        | 229/363 [13:59<05:57,  2.67s/it]"
     ]
    },
    {
     "name": "stdout",
     "output_type": "stream",
     "text": [
      "Memory cleaned\n",
      "\n",
      "Processing note 230/363\n",
      "Creating prompt...\n",
      "{\n",
      "  \"person_id\": 12253365, \n",
      "  \"note_date\": \"2020-12-06\", \n",
      "  \"CLASSIFICATION\": 1\n",
      "}\n",
      "Note processed in 4.98 seconds\n"
     ]
    },
    {
     "name": "stderr",
     "output_type": "stream",
     "text": [
      "Processing notes:  63%|██████████████▌        | 230/363 [14:04<07:37,  3.44s/it]"
     ]
    },
    {
     "name": "stdout",
     "output_type": "stream",
     "text": [
      "Memory cleaned\n",
      "\n",
      "Processing note 231/363\n",
      "Creating prompt...\n",
      "{\"person_id\": 12341016, \"note_date\": \"2016-09-30\", \"CLASSIFICATION\": 1}\n",
      "Note processed in 3.29 seconds\n"
     ]
    },
    {
     "name": "stderr",
     "output_type": "stream",
     "text": [
      "Processing notes:  64%|██████████████▋        | 231/363 [14:07<07:37,  3.46s/it]"
     ]
    },
    {
     "name": "stdout",
     "output_type": "stream",
     "text": [
      "Memory cleaned\n",
      "\n",
      "Processing note 232/363\n",
      "Creating prompt...\n",
      "{\n",
      "  \"person_id\": 12342514, \n",
      "  \"note_date\": \"2018-05-24\", \n",
      "  \"CLASSIFICATION\": 1\n",
      "}\n",
      "Note processed in 4.37 seconds\n"
     ]
    },
    {
     "name": "stderr",
     "output_type": "stream",
     "text": [
      "Processing notes:  64%|██████████████▋        | 232/363 [14:12<08:18,  3.80s/it]"
     ]
    },
    {
     "name": "stdout",
     "output_type": "stream",
     "text": [
      "Memory cleaned\n",
      "\n",
      "Processing note 233/363\n",
      "Creating prompt...\n",
      "{\n",
      "\"person_id\": 12372178, \n",
      "\"note_date\": \"2016-02-05\", \n",
      "\"CLASSIFICATION\": 1\n",
      "}\n",
      "Note processed in 2.43 seconds\n"
     ]
    },
    {
     "name": "stderr",
     "output_type": "stream",
     "text": [
      "Processing notes:  64%|██████████████▊        | 233/363 [14:15<07:29,  3.46s/it]"
     ]
    },
    {
     "name": "stdout",
     "output_type": "stream",
     "text": [
      "Memory cleaned\n",
      "\n",
      "Processing note 234/363\n",
      "Creating prompt...\n",
      "{\"person_id\": 12391968, \"note_date\": \"2020-08-24\", \"CLASSIFICATION\": 0}\n",
      "Note processed in 2.93 seconds\n"
     ]
    },
    {
     "name": "stderr",
     "output_type": "stream",
     "text": [
      "Processing notes:  64%|██████████████▊        | 234/363 [14:18<07:14,  3.37s/it]"
     ]
    },
    {
     "name": "stdout",
     "output_type": "stream",
     "text": [
      "Memory cleaned\n",
      "\n",
      "Processing note 235/363\n",
      "Creating prompt...\n",
      "{\n",
      "  \"person_id\": 12432244, \n",
      "  \"note_date\": \"2020-09-07\", \n",
      "  \"CLASSIFICATION\": 1\n",
      "}\n",
      "Note processed in 3.18 seconds\n"
     ]
    },
    {
     "name": "stderr",
     "output_type": "stream",
     "text": [
      "Processing notes:  65%|██████████████▉        | 235/363 [14:21<07:12,  3.38s/it]"
     ]
    },
    {
     "name": "stdout",
     "output_type": "stream",
     "text": [
      "Memory cleaned\n",
      "\n",
      "Processing note 236/363\n",
      "Creating prompt...\n",
      "{\n",
      "  \"person_id\": 12463640, \n",
      "  \"note_date\": \"2019-01-29\", \n",
      "  \"CLASSIFICATION\": 1\n",
      "}\n",
      "Note processed in 3.89 seconds\n"
     ]
    },
    {
     "name": "stderr",
     "output_type": "stream",
     "text": [
      "Processing notes:  65%|██████████████▉        | 236/363 [14:25<07:37,  3.60s/it]"
     ]
    },
    {
     "name": "stdout",
     "output_type": "stream",
     "text": [
      "Memory cleaned\n",
      "\n",
      "Processing note 237/363\n",
      "Creating prompt...\n",
      "{\n",
      "\"person_id\": 12492204, \n",
      "\"note_date\": \"2020-05-31\", \n",
      "\"CLASSIFICATION\": 1\n",
      "}\n",
      "Note processed in 2.92 seconds\n"
     ]
    },
    {
     "name": "stderr",
     "output_type": "stream",
     "text": [
      "Processing notes:  65%|███████████████        | 237/363 [14:29<07:16,  3.47s/it]"
     ]
    },
    {
     "name": "stdout",
     "output_type": "stream",
     "text": [
      "Memory cleaned\n",
      "\n",
      "Processing note 238/363\n",
      "Creating prompt...\n",
      "{\n",
      "  \"person_id\": 12603891,\n",
      "  \"note_date\": \"2018-04-04\",\n",
      "  \"CLASSIFICATION\": 1\n",
      "}\n",
      "Note processed in 4.32 seconds\n"
     ]
    },
    {
     "name": "stderr",
     "output_type": "stream",
     "text": [
      "Processing notes:  66%|███████████████        | 238/363 [14:33<07:53,  3.79s/it]"
     ]
    },
    {
     "name": "stdout",
     "output_type": "stream",
     "text": [
      "Memory cleaned\n",
      "\n",
      "Processing note 239/363\n",
      "Creating prompt...\n",
      "{\n",
      "  \"person_id\": 12621583, \n",
      "  \"note_date\": \"2019-10-31\", \n",
      "  \"CLASSIFICATION\": 1\n",
      "}\n",
      "Note processed in 3.21 seconds\n"
     ]
    },
    {
     "name": "stderr",
     "output_type": "stream",
     "text": [
      "Processing notes:  66%|███████████████▏       | 239/363 [14:37<07:36,  3.68s/it]"
     ]
    },
    {
     "name": "stdout",
     "output_type": "stream",
     "text": [
      "Memory cleaned\n",
      "\n",
      "Processing note 240/363\n",
      "Creating prompt...\n",
      "{\n",
      "  \"person_id\": 12783919, \n",
      "  \"note_date\": \"2021-02-03\", \n",
      "  \"CLASSIFICATION\": 1\n",
      "}\n",
      "Note processed in 5.30 seconds\n"
     ]
    },
    {
     "name": "stderr",
     "output_type": "stream",
     "text": [
      "Processing notes:  66%|███████████████▏       | 240/363 [14:42<08:40,  4.24s/it]"
     ]
    },
    {
     "name": "stdout",
     "output_type": "stream",
     "text": [
      "Memory cleaned\n",
      "\n",
      "Processing note 241/363\n",
      "Creating prompt...\n",
      "{\n",
      "  \"person_id\": 12783940, \n",
      "  \"note_date\": \"2018-04-25\", \n",
      "  \"CLASSIFICATION\": 1\n",
      "}\n",
      "Note processed in 5.06 seconds\n"
     ]
    },
    {
     "name": "stderr",
     "output_type": "stream",
     "text": [
      "Processing notes:  66%|███████████████▎       | 241/363 [14:47<09:15,  4.55s/it]"
     ]
    },
    {
     "name": "stdout",
     "output_type": "stream",
     "text": [
      "Memory cleaned\n",
      "\n",
      "Processing note 242/363\n",
      "Creating prompt...\n",
      "{\"person_id\": 12833224, \"note_date\": \"2016-11-30\", \"CLASSIFICATION\": 1}\n",
      "Note processed in 2.65 seconds\n"
     ]
    },
    {
     "name": "stderr",
     "output_type": "stream",
     "text": [
      "Processing notes:  67%|███████████████▎       | 242/363 [14:50<08:09,  4.05s/it]"
     ]
    },
    {
     "name": "stdout",
     "output_type": "stream",
     "text": [
      "Memory cleaned\n",
      "\n",
      "Processing note 243/363\n",
      "Creating prompt...\n",
      "{\n",
      "    \"person_id\": 12892855, \n",
      "    \"note_date\": \"2009-10-30\", \n",
      "    \"CLASSIFICATION\": 1\n",
      "}\n",
      "Note processed in 2.22 seconds\n"
     ]
    },
    {
     "name": "stderr",
     "output_type": "stream",
     "text": [
      "Processing notes:  67%|███████████████▍       | 243/363 [14:53<07:07,  3.56s/it]"
     ]
    },
    {
     "name": "stdout",
     "output_type": "stream",
     "text": [
      "Memory cleaned\n",
      "\n",
      "Processing note 244/363\n",
      "Creating prompt...\n",
      "{\n",
      "    \"person_id\": 13021449, \n",
      "    \"note_date\": \"2016-08-10\", \n",
      "    \"CLASSIFICATION\": 1\n",
      "}\n",
      "Note processed in 2.23 seconds\n"
     ]
    },
    {
     "name": "stderr",
     "output_type": "stream",
     "text": [
      "Processing notes:  67%|███████████████▍       | 244/363 [14:55<06:24,  3.23s/it]"
     ]
    },
    {
     "name": "stdout",
     "output_type": "stream",
     "text": [
      "Memory cleaned\n",
      "\n",
      "Processing note 245/363\n",
      "Creating prompt...\n",
      "{\"person_id\": 13021449, \"note_date\": \"2016-08-11\", \"CLASSIFICATION\": 1}\n",
      "Note processed in 2.45 seconds\n"
     ]
    },
    {
     "name": "stderr",
     "output_type": "stream",
     "text": [
      "Processing notes:  67%|███████████████▌       | 245/363 [14:58<06:01,  3.06s/it]"
     ]
    },
    {
     "name": "stdout",
     "output_type": "stream",
     "text": [
      "Memory cleaned\n",
      "\n",
      "Processing note 246/363\n",
      "Creating prompt...\n",
      "{\"person_id\": 13031997, \"note_date\": \"2018-10-17\", \"CLASSIFICATION\": 1}\n",
      "Note processed in 2.91 seconds\n"
     ]
    },
    {
     "name": "stderr",
     "output_type": "stream",
     "text": [
      "Processing notes:  68%|███████████████▌       | 246/363 [15:01<06:00,  3.08s/it]"
     ]
    },
    {
     "name": "stdout",
     "output_type": "stream",
     "text": [
      "Memory cleaned\n",
      "\n",
      "Processing note 247/363\n",
      "Creating prompt...\n",
      "{\"person_id\": 13151596, \"note_date\": \"2000-08-21\", \"CLASSIFICATION\": 1}\n",
      "Note processed in 3.97 seconds\n"
     ]
    },
    {
     "name": "stderr",
     "output_type": "stream",
     "text": [
      "Processing notes:  68%|███████████████▋       | 247/363 [15:05<06:37,  3.43s/it]"
     ]
    },
    {
     "name": "stdout",
     "output_type": "stream",
     "text": [
      "Memory cleaned\n",
      "\n",
      "Processing note 248/363\n",
      "Creating prompt...\n",
      "{\n",
      "    \"person_id\": 13283331, \n",
      "    \"note_date\": \"2018-10-29\", \n",
      "    \"CLASSIFICATION\": 1\n",
      "}\n",
      "Note processed in 3.57 seconds\n"
     ]
    },
    {
     "name": "stderr",
     "output_type": "stream",
     "text": [
      "Processing notes:  68%|███████████████▋       | 248/363 [15:09<06:46,  3.54s/it]"
     ]
    },
    {
     "name": "stdout",
     "output_type": "stream",
     "text": [
      "Memory cleaned\n",
      "\n",
      "Processing note 249/363\n",
      "Creating prompt...\n",
      "{\"person_id\": 13293478, \"note_date\": \"2020-11-21\", \"CLASSIFICATION\": 1}\n",
      "Note processed in 2.95 seconds\n"
     ]
    },
    {
     "name": "stderr",
     "output_type": "stream",
     "text": [
      "Processing notes:  69%|███████████████▊       | 249/363 [15:12<06:31,  3.43s/it]"
     ]
    },
    {
     "name": "stdout",
     "output_type": "stream",
     "text": [
      "Memory cleaned\n",
      "\n",
      "Processing note 250/363\n",
      "Creating prompt...\n",
      "{\n",
      "  \"person_id\": 13392195, \n",
      "  \"note_date\": \"2020-08-25\", \n",
      "  \"CLASSIFICATION\": 1\n",
      "}\n",
      "Note processed in 3.27 seconds\n"
     ]
    },
    {
     "name": "stderr",
     "output_type": "stream",
     "text": [
      "Processing notes:  69%|███████████████▊       | 250/363 [15:16<06:29,  3.45s/it]"
     ]
    },
    {
     "name": "stdout",
     "output_type": "stream",
     "text": [
      "Memory cleaned\n",
      "\n",
      "Processing note 251/363\n",
      "Creating prompt...\n",
      "{\n",
      "    \"person_id\": 13392670, \n",
      "    \"note_date\": \"2015-07-25\", \n",
      "    \"CLASSIFICATION\": 1\n",
      "}\n",
      "Note processed in 2.53 seconds\n"
     ]
    },
    {
     "name": "stderr",
     "output_type": "stream",
     "text": [
      "Processing notes:  69%|███████████████▉       | 251/363 [15:18<06:02,  3.24s/it]"
     ]
    },
    {
     "name": "stdout",
     "output_type": "stream",
     "text": [
      "Memory cleaned\n",
      "\n",
      "Processing note 252/363\n",
      "Creating prompt...\n",
      "{\n",
      "    \"person_id\": 13392670, \n",
      "    \"note_date\": \"2018-03-05\", \n",
      "    \"CLASSIFICATION\": 1\n",
      "}\n",
      "Note processed in 4.07 seconds\n"
     ]
    },
    {
     "name": "stderr",
     "output_type": "stream",
     "text": [
      "Processing notes:  69%|███████████████▉       | 252/363 [15:23<06:34,  3.56s/it]"
     ]
    },
    {
     "name": "stdout",
     "output_type": "stream",
     "text": [
      "Memory cleaned\n",
      "\n",
      "Processing note 253/363\n",
      "Creating prompt...\n",
      "{\n",
      "    \"person_id\": 13393217, \n",
      "    \"note_date\": \"2018-02-08\", \n",
      "    \"CLASSIFICATION\": 1\n",
      "}\n",
      "Note processed in 2.42 seconds\n"
     ]
    },
    {
     "name": "stderr",
     "output_type": "stream",
     "text": [
      "Processing notes:  70%|████████████████       | 253/363 [15:25<06:00,  3.28s/it]"
     ]
    },
    {
     "name": "stdout",
     "output_type": "stream",
     "text": [
      "Memory cleaned\n",
      "\n",
      "Processing note 254/363\n",
      "Creating prompt...\n",
      "{\n",
      "    \"person_id\": 13472545, \n",
      "    \"note_date\": \"2018-07-02\", \n",
      "    \"CLASSIFICATION\": 1\n",
      "}\n",
      "Note processed in 2.26 seconds\n"
     ]
    },
    {
     "name": "stderr",
     "output_type": "stream",
     "text": [
      "Processing notes:  70%|████████████████       | 254/363 [15:28<05:31,  3.04s/it]"
     ]
    },
    {
     "name": "stdout",
     "output_type": "stream",
     "text": [
      "Memory cleaned\n",
      "\n",
      "Processing note 255/363\n",
      "Creating prompt...\n",
      "{\n",
      "  \"person_id\": 13541645, \n",
      "  \"note_date\": \"2019-06-22\", \n",
      "  \"CLASSIFICATION\": 1\n",
      "}\n",
      "Note processed in 2.89 seconds\n"
     ]
    },
    {
     "name": "stderr",
     "output_type": "stream",
     "text": [
      "Processing notes:  70%|████████████████▏      | 255/363 [15:31<05:31,  3.07s/it]"
     ]
    },
    {
     "name": "stdout",
     "output_type": "stream",
     "text": [
      "Memory cleaned\n",
      "\n",
      "Processing note 256/363\n",
      "Creating prompt...\n",
      "{\n",
      "    \"person_id\": 13581628, \n",
      "    \"note_date\": \"2008-07-07\", \n",
      "    \"CLASSIFICATION\": 1\n",
      "}\n",
      "Note processed in 2.28 seconds\n"
     ]
    },
    {
     "name": "stderr",
     "output_type": "stream",
     "text": [
      "Processing notes:  71%|████████████████▏      | 256/363 [15:33<05:09,  2.90s/it]"
     ]
    },
    {
     "name": "stdout",
     "output_type": "stream",
     "text": [
      "Memory cleaned\n",
      "\n",
      "Processing note 257/363\n",
      "Creating prompt...\n",
      "{\n",
      "    \"person_id\": 13603307, \n",
      "    \"note_date\": \"2009-01-09\", \n",
      "    \"CLASSIFICATION\": 0\n",
      "}\n",
      "Note processed in 2.90 seconds\n"
     ]
    },
    {
     "name": "stderr",
     "output_type": "stream",
     "text": [
      "Processing notes:  71%|████████████████▎      | 257/363 [15:37<05:28,  3.10s/it]"
     ]
    },
    {
     "name": "stdout",
     "output_type": "stream",
     "text": [
      "Memory cleaned\n",
      "\n",
      "Processing note 258/363\n",
      "Creating prompt...\n",
      "{\n",
      "\"person_id\": 13652642, \n",
      "\"note_date\": \"2018-02-01\", \n",
      "\"CLASSIFICATION\": 1\n",
      "}\n",
      "Note processed in 2.65 seconds\n"
     ]
    },
    {
     "name": "stderr",
     "output_type": "stream",
     "text": [
      "Processing notes:  71%|████████████████▎      | 258/363 [15:40<05:21,  3.06s/it]"
     ]
    },
    {
     "name": "stdout",
     "output_type": "stream",
     "text": [
      "Memory cleaned\n",
      "\n",
      "Processing note 259/363\n",
      "Creating prompt...\n",
      "{\n",
      "    \"person_id\": 13701120, \n",
      "    \"note_date\": \"2017-11-29\", \n",
      "    \"CLASSIFICATION\": 1\n",
      "}\n",
      "Note processed in 2.28 seconds\n"
     ]
    },
    {
     "name": "stderr",
     "output_type": "stream",
     "text": [
      "Processing notes:  71%|████████████████▍      | 259/363 [15:42<05:00,  2.89s/it]"
     ]
    },
    {
     "name": "stdout",
     "output_type": "stream",
     "text": [
      "Memory cleaned\n",
      "\n",
      "Processing note 260/363\n",
      "Creating prompt...\n",
      "{\n",
      "    \"person_id\": 13711667, \n",
      "    \"note_date\": \"2020-03-07\", \n",
      "    \"CLASSIFICATION\": 1\n",
      "}\n",
      "Note processed in 2.29 seconds\n"
     ]
    },
    {
     "name": "stderr",
     "output_type": "stream",
     "text": [
      "Processing notes:  72%|████████████████▍      | 260/363 [15:45<04:45,  2.77s/it]"
     ]
    },
    {
     "name": "stdout",
     "output_type": "stream",
     "text": [
      "Memory cleaned\n",
      "\n",
      "Processing note 261/363\n",
      "Creating prompt...\n",
      "{\n",
      "\"person_id\": 13731759, \n",
      "\"note_date\": \"2018-09-04\", \n",
      "\"CLASSIFICATION\": 1\n",
      "}\n",
      "Note processed in 2.78 seconds\n"
     ]
    },
    {
     "name": "stderr",
     "output_type": "stream",
     "text": [
      "Processing notes:  72%|████████████████▌      | 261/363 [15:48<04:49,  2.84s/it]"
     ]
    },
    {
     "name": "stdout",
     "output_type": "stream",
     "text": [
      "Memory cleaned\n",
      "\n",
      "Processing note 262/363\n",
      "Creating prompt...\n",
      "{\n",
      "    \"person_id\": 13732437, \n",
      "    \"note_date\": \"2006-06-17\", \n",
      "    \"CLASSIFICATION\": 1\n",
      "}\n",
      "Note processed in 2.19 seconds\n"
     ]
    },
    {
     "name": "stderr",
     "output_type": "stream",
     "text": [
      "Processing notes:  72%|████████████████▌      | 262/363 [15:50<04:34,  2.72s/it]"
     ]
    },
    {
     "name": "stdout",
     "output_type": "stream",
     "text": [
      "Memory cleaned\n",
      "\n",
      "Processing note 263/363\n",
      "Creating prompt...\n",
      "{\"person_id\": 13773154, \"note_date\": \"2018-10-15\", \"CLASSIFICATION\": 1}\n",
      "Note processed in 3.39 seconds\n"
     ]
    },
    {
     "name": "stderr",
     "output_type": "stream",
     "text": [
      "Processing notes:  72%|████████████████▋      | 263/363 [15:54<04:58,  2.99s/it]"
     ]
    },
    {
     "name": "stdout",
     "output_type": "stream",
     "text": [
      "Memory cleaned\n",
      "\n",
      "Processing note 264/363\n",
      "Creating prompt...\n",
      "{\"person_id\": 13793739, \"note_date\": \"2020-11-17\", \"CLASSIFICATION\": 1}\n",
      "Note processed in 2.96 seconds\n"
     ]
    },
    {
     "name": "stderr",
     "output_type": "stream",
     "text": [
      "Processing notes:  73%|████████████████▋      | 264/363 [15:57<05:01,  3.05s/it]"
     ]
    },
    {
     "name": "stdout",
     "output_type": "stream",
     "text": [
      "Memory cleaned\n",
      "\n",
      "Processing note 265/363\n",
      "Creating prompt...\n",
      "{\n",
      "    \"person_id\": 13822424, \n",
      "    \"note_date\": \"2020-11-04\", \n",
      "    \"CLASSIFICATION\": 1\n",
      "}\n",
      "Note processed in 2.68 seconds\n"
     ]
    },
    {
     "name": "stderr",
     "output_type": "stream",
     "text": [
      "Processing notes:  73%|████████████████▊      | 265/363 [16:00<04:54,  3.01s/it]"
     ]
    },
    {
     "name": "stdout",
     "output_type": "stream",
     "text": [
      "Memory cleaned\n",
      "\n",
      "Processing note 266/363\n",
      "Creating prompt...\n",
      "{\n",
      "    \"person_id\": 13843406, \n",
      "    \"note_date\": \"2001-10-07\", \n",
      "    \"CLASSIFICATION\": 1\n",
      "}\n",
      "Note processed in 3.55 seconds\n"
     ]
    },
    {
     "name": "stderr",
     "output_type": "stream",
     "text": [
      "Processing notes:  73%|████████████████▊      | 266/363 [16:04<05:15,  3.26s/it]"
     ]
    },
    {
     "name": "stdout",
     "output_type": "stream",
     "text": [
      "Memory cleaned\n",
      "\n",
      "Processing note 267/363\n",
      "Creating prompt...\n",
      "{\n",
      "    \"person_id\": 13932077, \n",
      "    \"note_date\": \"2016-12-08\", \n",
      "    \"CLASSIFICATION\": 1\n",
      "}\n",
      "Note processed in 2.66 seconds\n"
     ]
    },
    {
     "name": "stderr",
     "output_type": "stream",
     "text": [
      "Processing notes:  74%|████████████████▉      | 267/363 [16:07<05:01,  3.14s/it]"
     ]
    },
    {
     "name": "stdout",
     "output_type": "stream",
     "text": [
      "Memory cleaned\n",
      "\n",
      "Processing note 268/363\n",
      "Creating prompt...\n",
      "{\n",
      "  \"person_id\": 13982380, \n",
      "  \"note_date\": \"2019-05-07\", \n",
      "  \"CLASSIFICATION\": 1\n",
      "}\n",
      "Note processed in 3.64 seconds\n"
     ]
    },
    {
     "name": "stderr",
     "output_type": "stream",
     "text": [
      "Processing notes:  74%|████████████████▉      | 268/363 [16:11<05:19,  3.36s/it]"
     ]
    },
    {
     "name": "stdout",
     "output_type": "stream",
     "text": [
      "Memory cleaned\n",
      "\n",
      "Processing note 269/363\n",
      "Creating prompt...\n",
      "{\n",
      "    \"person_id\": 14043631, \n",
      "    \"note_date\": \"2019-02-05\", \n",
      "    \"CLASSIFICATION\": 1\n",
      "}\n",
      "Note processed in 3.02 seconds\n"
     ]
    },
    {
     "name": "stderr",
     "output_type": "stream",
     "text": [
      "Processing notes:  74%|█████████████████      | 269/363 [16:14<05:12,  3.33s/it]"
     ]
    },
    {
     "name": "stdout",
     "output_type": "stream",
     "text": [
      "Memory cleaned\n",
      "\n",
      "Processing note 270/363\n",
      "Creating prompt...\n",
      "{\"person_id\": 14113348, \"note_date\": \"2019-06-16\", \"CLASSIFICATION\": 1}\n",
      "Note processed in 3.46 seconds\n"
     ]
    },
    {
     "name": "stderr",
     "output_type": "stream",
     "text": [
      "Processing notes:  74%|█████████████████      | 270/363 [16:18<05:19,  3.43s/it]"
     ]
    },
    {
     "name": "stdout",
     "output_type": "stream",
     "text": [
      "Memory cleaned\n",
      "\n",
      "Processing note 271/363\n",
      "Creating prompt...\n",
      "{\"person_id\": 14122995, \"note_date\": \"2019-01-28\", \"CLASSIFICATION\": 1}\n",
      "Note processed in 4.07 seconds\n"
     ]
    },
    {
     "name": "stderr",
     "output_type": "stream",
     "text": [
      "Processing notes:  75%|█████████████████▏     | 271/363 [16:22<05:39,  3.69s/it]"
     ]
    },
    {
     "name": "stdout",
     "output_type": "stream",
     "text": [
      "Memory cleaned\n",
      "\n",
      "Processing note 272/363\n",
      "Creating prompt...\n",
      "{\n",
      "    \"person_id\": 17642349,\n",
      "    \"note_date\": \"1999-07-14\",\n",
      "    \"CLASSIFICATION\": 1\n",
      "}\n",
      "Note processed in 2.26 seconds\n"
     ]
    },
    {
     "name": "stderr",
     "output_type": "stream",
     "text": [
      "Processing notes:  75%|█████████████████▏     | 272/363 [16:24<05:04,  3.34s/it]"
     ]
    },
    {
     "name": "stdout",
     "output_type": "stream",
     "text": [
      "Memory cleaned\n",
      "\n",
      "Processing note 273/363\n",
      "Creating prompt...\n",
      "{\n",
      "    \"person_id\": 14153193, \n",
      "    \"note_date\": \"2011-12-01\", \n",
      "    \"CLASSIFICATION\": 1\n",
      "}\n",
      "Note processed in 2.29 seconds\n"
     ]
    },
    {
     "name": "stderr",
     "output_type": "stream",
     "text": [
      "Processing notes:  75%|█████████████████▎     | 273/363 [16:27<04:38,  3.09s/it]"
     ]
    },
    {
     "name": "stdout",
     "output_type": "stream",
     "text": [
      "Memory cleaned\n",
      "\n",
      "Processing note 274/363\n",
      "Creating prompt...\n",
      "{\n",
      "    \"person_id\": 14191256, \n",
      "    \"note_date\": \"2017-06-03\", \n",
      "    \"CLASSIFICATION\": 1\n",
      "}\n",
      "Note processed in 2.19 seconds\n"
     ]
    },
    {
     "name": "stderr",
     "output_type": "stream",
     "text": [
      "Processing notes:  75%|█████████████████▎     | 274/363 [16:29<04:17,  2.89s/it]"
     ]
    },
    {
     "name": "stdout",
     "output_type": "stream",
     "text": [
      "Memory cleaned\n",
      "\n",
      "Processing note 275/363\n",
      "Creating prompt...\n",
      "{\"person_id\": 14193015, \"note_date\": \"2007-08-14\", \"CLASSIFICATION\": 1}\n",
      "Note processed in 2.03 seconds\n"
     ]
    },
    {
     "name": "stderr",
     "output_type": "stream",
     "text": [
      "Processing notes:  76%|█████████████████▍     | 275/363 [16:32<03:57,  2.70s/it]"
     ]
    },
    {
     "name": "stdout",
     "output_type": "stream",
     "text": [
      "Memory cleaned\n",
      "\n",
      "Processing note 276/363\n",
      "Creating prompt...\n",
      "{\n",
      "    \"person_id\": 14303875, \n",
      "    \"note_date\": \"2003-09-12\", \n",
      "    \"CLASSIFICATION\": 1\n",
      "}\n",
      "Note processed in 2.61 seconds\n"
     ]
    },
    {
     "name": "stderr",
     "output_type": "stream",
     "text": [
      "Processing notes:  76%|█████████████████▍     | 276/363 [16:34<03:58,  2.74s/it]"
     ]
    },
    {
     "name": "stdout",
     "output_type": "stream",
     "text": [
      "Memory cleaned\n",
      "\n",
      "Processing note 277/363\n",
      "Creating prompt...\n",
      "{\n",
      "    \"person_id\": 14311032, \n",
      "    \"note_date\": \"2015-03-10\", \n",
      "    \"CLASSIFICATION\": 1\n",
      "}\n",
      "Note processed in 2.45 seconds\n"
     ]
    },
    {
     "name": "stderr",
     "output_type": "stream",
     "text": [
      "Processing notes:  76%|█████████████████▌     | 277/363 [16:37<03:53,  2.72s/it]"
     ]
    },
    {
     "name": "stdout",
     "output_type": "stream",
     "text": [
      "Memory cleaned\n",
      "\n",
      "Processing note 278/363\n",
      "Creating prompt...\n",
      "{\n",
      "    \"person_id\": 14482368, \n",
      "    \"note_date\": \"2009-11-25\", \n",
      "    \"CLASSIFICATION\": 1\n",
      "}\n",
      "Note processed in 2.77 seconds\n"
     ]
    },
    {
     "name": "stderr",
     "output_type": "stream",
     "text": [
      "Processing notes:  77%|█████████████████▌     | 278/363 [16:40<03:58,  2.81s/it]"
     ]
    },
    {
     "name": "stdout",
     "output_type": "stream",
     "text": [
      "Memory cleaned\n",
      "\n",
      "Processing note 279/363\n",
      "Creating prompt...\n",
      "{\n",
      "    \"person_id\": 14491689, \n",
      "    \"note_date\": \"2020-08-26\", \n",
      "    \"CLASSIFICATION\": 0\n",
      "}\n",
      "Note processed in 2.87 seconds\n"
     ]
    },
    {
     "name": "stderr",
     "output_type": "stream",
     "text": [
      "Processing notes:  77%|█████████████████▋     | 279/363 [16:43<04:02,  2.89s/it]"
     ]
    },
    {
     "name": "stdout",
     "output_type": "stream",
     "text": [
      "Memory cleaned\n",
      "\n",
      "Processing note 280/363\n",
      "Creating prompt...\n",
      "{\n",
      "    \"person_id\": 14512867, \n",
      "    \"note_date\": \"2020-09-16\", \n",
      "    \"CLASSIFICATION\": 1\n",
      "}\n",
      "Note processed in 2.49 seconds\n"
     ]
    },
    {
     "name": "stderr",
     "output_type": "stream",
     "text": [
      "Processing notes:  77%|█████████████████▋     | 280/363 [16:46<03:55,  2.84s/it]"
     ]
    },
    {
     "name": "stdout",
     "output_type": "stream",
     "text": [
      "Memory cleaned\n",
      "\n",
      "Processing note 281/363\n",
      "Creating prompt...\n",
      "{\n",
      "    \"person_id\": 14541642, \n",
      "    \"note_date\": \"2012-05-04\", \n",
      "    \"CLASSIFICATION\": 1\n",
      "}\n",
      "Note processed in 2.37 seconds\n"
     ]
    },
    {
     "name": "stderr",
     "output_type": "stream",
     "text": [
      "Processing notes:  77%|█████████████████▊     | 281/363 [16:48<03:46,  2.76s/it]"
     ]
    },
    {
     "name": "stdout",
     "output_type": "stream",
     "text": [
      "Memory cleaned\n",
      "\n",
      "Processing note 282/363\n",
      "Creating prompt...\n",
      "{\n",
      "    \"person_id\": 14541642, \n",
      "    \"note_date\": \"2012-11-14\", \n",
      "    \"CLASSIFICATION\": 0\n",
      "}\n",
      "Note processed in 2.28 seconds\n"
     ]
    },
    {
     "name": "stderr",
     "output_type": "stream",
     "text": [
      "Processing notes:  78%|█████████████████▊     | 282/363 [16:51<03:38,  2.69s/it]"
     ]
    },
    {
     "name": "stdout",
     "output_type": "stream",
     "text": [
      "Memory cleaned\n",
      "\n",
      "Processing note 283/363\n",
      "Creating prompt...\n",
      "{\n",
      "    \"person_id\": 22230395, \n",
      "    \"note_date\": \"2004-02-03\", \n",
      "    \"CLASSIFICATION\": 1\n",
      "}\n",
      "Note processed in 2.21 seconds\n"
     ]
    },
    {
     "name": "stderr",
     "output_type": "stream",
     "text": [
      "Processing notes:  78%|█████████████████▉     | 283/363 [16:53<03:29,  2.62s/it]"
     ]
    },
    {
     "name": "stdout",
     "output_type": "stream",
     "text": [
      "Memory cleaned\n",
      "\n",
      "Processing note 284/363\n",
      "Creating prompt...\n",
      "{\n",
      "  \"person_id\": 14612281, \n",
      "  \"note_date\": \"2018-03-14\", \n",
      "  \"CLASSIFICATION\": 1\n",
      "}\n",
      "Note processed in 6.10 seconds\n"
     ]
    },
    {
     "name": "stderr",
     "output_type": "stream",
     "text": [
      "Processing notes:  78%|█████████████████▉     | 284/363 [17:00<04:54,  3.73s/it]"
     ]
    },
    {
     "name": "stdout",
     "output_type": "stream",
     "text": [
      "Memory cleaned\n",
      "\n",
      "Processing note 285/363\n",
      "Creating prompt...\n",
      "{\n",
      "  \"person_id\": 14643728, \n",
      "  \"note_date\": \"2020-09-11\", \n",
      "  \"CLASSIFICATION\": 1\n",
      "}\n",
      "Note processed in 4.80 seconds\n"
     ]
    },
    {
     "name": "stderr",
     "output_type": "stream",
     "text": [
      "Processing notes:  79%|██████████████████     | 285/363 [17:05<05:21,  4.12s/it]"
     ]
    },
    {
     "name": "stdout",
     "output_type": "stream",
     "text": [
      "Memory cleaned\n",
      "\n",
      "Processing note 286/363\n",
      "Creating prompt...\n",
      "{\n",
      "    \"person_id\": 28804417, \n",
      "    \"note_date\": \"2018-03-03\", \n",
      "    \"CLASSIFICATION\": 1\n",
      "}\n",
      "Note processed in 3.35 seconds\n"
     ]
    },
    {
     "name": "stderr",
     "output_type": "stream",
     "text": [
      "Processing notes:  79%|██████████████████     | 286/363 [17:08<05:05,  3.96s/it]"
     ]
    },
    {
     "name": "stdout",
     "output_type": "stream",
     "text": [
      "Memory cleaned\n",
      "\n",
      "Processing note 287/363\n",
      "Creating prompt...\n",
      "{\n",
      "    \"person_id\": 29154426, \n",
      "    \"note_date\": \"2018-01-16\", \n",
      "    \"CLASSIFICATION\": 1\n",
      "}\n",
      "Note processed in 2.67 seconds\n"
     ]
    },
    {
     "name": "stderr",
     "output_type": "stream",
     "text": [
      "Processing notes:  79%|██████████████████▏    | 287/363 [17:11<04:36,  3.64s/it]"
     ]
    },
    {
     "name": "stdout",
     "output_type": "stream",
     "text": [
      "Memory cleaned\n",
      "\n",
      "Processing note 288/363\n",
      "Creating prompt...\n",
      "{\n",
      "  \"person_id\": 29284394, \n",
      "  \"note_date\": \"2020-10-17\", \n",
      "  \"CLASSIFICATION\": 1\n",
      "}\n",
      "Note processed in 2.94 seconds\n"
     ]
    },
    {
     "name": "stderr",
     "output_type": "stream",
     "text": [
      "Processing notes:  79%|██████████████████▏    | 288/363 [17:14<04:22,  3.50s/it]"
     ]
    },
    {
     "name": "stdout",
     "output_type": "stream",
     "text": [
      "Memory cleaned\n",
      "\n",
      "Processing note 289/363\n",
      "Creating prompt...\n",
      "{\n",
      "    \"person_id\": 30914349, \n",
      "    \"note_date\": \"2020-01-03\", \n",
      "    \"CLASSIFICATION\": 1\n",
      "}\n",
      "Note processed in 2.47 seconds\n"
     ]
    },
    {
     "name": "stderr",
     "output_type": "stream",
     "text": [
      "Processing notes:  80%|██████████████████▎    | 289/363 [17:17<04:00,  3.26s/it]"
     ]
    },
    {
     "name": "stdout",
     "output_type": "stream",
     "text": [
      "Memory cleaned\n",
      "\n",
      "Processing note 290/363\n",
      "Creating prompt...\n",
      "{\n",
      "\"person_id\": 31424334, \n",
      "\"note_date\": \"2019-03-21\", \n",
      "\"CLASSIFICATION\": 1\n",
      "}\n",
      "Note processed in 2.75 seconds\n"
     ]
    },
    {
     "name": "stderr",
     "output_type": "stream",
     "text": [
      "Processing notes:  80%|██████████████████▎    | 290/363 [17:20<03:51,  3.17s/it]"
     ]
    },
    {
     "name": "stdout",
     "output_type": "stream",
     "text": [
      "Memory cleaned\n",
      "\n",
      "Processing note 291/363\n",
      "Creating prompt...\n",
      "{\n",
      "\"person_id\": 32504344, \n",
      "\"note_date\": \"2017-11-03\", \n",
      "\"CLASSIFICATION\": 0\n",
      "}\n",
      "Note processed in 2.07 seconds\n"
     ]
    },
    {
     "name": "stderr",
     "output_type": "stream",
     "text": [
      "Processing notes:  80%|██████████████████▍    | 291/363 [17:22<03:29,  2.90s/it]"
     ]
    },
    {
     "name": "stdout",
     "output_type": "stream",
     "text": [
      "Memory cleaned\n",
      "\n",
      "Processing note 292/363\n",
      "Creating prompt...\n",
      "{\n",
      "  \"person_id\": 32564370, \n",
      "  \"note_date\": \"2017-12-13\", \n",
      "  \"CLASSIFICATION\": 1\n",
      "}\n",
      "Note processed in 4.69 seconds\n"
     ]
    },
    {
     "name": "stderr",
     "output_type": "stream",
     "text": [
      "Processing notes:  80%|██████████████████▌    | 292/363 [17:27<04:09,  3.51s/it]"
     ]
    },
    {
     "name": "stdout",
     "output_type": "stream",
     "text": [
      "Memory cleaned\n",
      "\n",
      "Processing note 293/363\n",
      "Creating prompt...\n",
      "{\n",
      "    \"person_id\": 36404309, \n",
      "    \"note_date\": \"2018-03-17\", \n",
      "    \"CLASSIFICATION\": 0\n",
      "}\n",
      "Note processed in 3.64 seconds\n"
     ]
    },
    {
     "name": "stderr",
     "output_type": "stream",
     "text": [
      "Processing notes:  81%|██████████████████▌    | 293/363 [17:31<04:12,  3.61s/it]"
     ]
    },
    {
     "name": "stdout",
     "output_type": "stream",
     "text": [
      "Memory cleaned\n",
      "\n",
      "Processing note 294/363\n",
      "Creating prompt...\n",
      "                {\"person_id\": 36404309, \n",
      "                \"note_date\": \"2019-11-12\", \n",
      "                \"CLASSIFICATION\": 0}\n",
      "Note processed in 11.68 seconds\n"
     ]
    },
    {
     "name": "stderr",
     "output_type": "stream",
     "text": [
      "Processing notes:  81%|██████████████████▋    | 294/363 [17:43<07:02,  6.12s/it]"
     ]
    },
    {
     "name": "stdout",
     "output_type": "stream",
     "text": [
      "Memory cleaned\n",
      "\n",
      "Processing note 295/363\n",
      "Creating prompt...\n",
      "{\n",
      "  \"person_id\": 36484302, \n",
      "  \"note_date\": \"2018-03-13\", \n",
      "  \"CLASSIFICATION\": 1\n",
      "}\n",
      "Note processed in 3.18 seconds\n"
     ]
    },
    {
     "name": "stderr",
     "output_type": "stream",
     "text": [
      "Processing notes:  81%|██████████████████▋    | 295/363 [17:47<06:00,  5.31s/it]"
     ]
    },
    {
     "name": "stdout",
     "output_type": "stream",
     "text": [
      "Memory cleaned\n",
      "\n",
      "Processing note 296/363\n",
      "Creating prompt...\n",
      "{\n",
      "    \"person_id\": 37534300, \n",
      "    \"note_date\": \"2018-03-15\", \n",
      "    \"CLASSIFICATION\": 1\n",
      "}\n",
      "Note processed in 3.88 seconds\n"
     ]
    },
    {
     "name": "stderr",
     "output_type": "stream",
     "text": [
      "Processing notes:  82%|██████████████████▊    | 296/363 [17:51<05:31,  4.95s/it]"
     ]
    },
    {
     "name": "stdout",
     "output_type": "stream",
     "text": [
      "Memory cleaned\n",
      "\n",
      "Processing note 297/363\n",
      "Creating prompt...\n",
      "{\n",
      "  \"person_id\": 50384358, \n",
      "  \"note_date\": \"2018-05-25\", \n",
      "  \"CLASSIFICATION\": 1\n",
      "}\n",
      "Note processed in 3.09 seconds\n"
     ]
    },
    {
     "name": "stderr",
     "output_type": "stream",
     "text": [
      "Processing notes:  82%|██████████████████▊    | 297/363 [17:54<04:54,  4.46s/it]"
     ]
    },
    {
     "name": "stdout",
     "output_type": "stream",
     "text": [
      "Memory cleaned\n",
      "\n",
      "Processing note 298/363\n",
      "Creating prompt...\n",
      "{\"person_id\": 50934366, \"note_date\": \"2018-06-19\", \"CLASSIFICATION\": 1}\n",
      "Note processed in 4.06 seconds\n"
     ]
    },
    {
     "name": "stderr",
     "output_type": "stream",
     "text": [
      "Processing notes:  82%|██████████████████▉    | 298/363 [17:58<04:46,  4.41s/it]"
     ]
    },
    {
     "name": "stdout",
     "output_type": "stream",
     "text": [
      "Memory cleaned\n",
      "\n",
      "Processing note 299/363\n",
      "Creating prompt...\n",
      "{\n",
      "  \"person_id\": 51234343, \n",
      "  \"note_date\": \"2020-12-15\", \n",
      "  \"CLASSIFICATION\": 0\n",
      "}\n",
      "Note processed in 3.62 seconds\n"
     ]
    },
    {
     "name": "stderr",
     "output_type": "stream",
     "text": [
      "Processing notes:  82%|██████████████████▉    | 299/363 [18:02<04:31,  4.24s/it]"
     ]
    },
    {
     "name": "stdout",
     "output_type": "stream",
     "text": [
      "Memory cleaned\n",
      "\n",
      "Processing note 300/363\n",
      "Creating prompt...\n",
      "{\n",
      "    \"person_id\": 51964348, \n",
      "    \"note_date\": \"2018-05-16\", \n",
      "    \"CLASSIFICATION\": 1\n",
      "}\n",
      "Note processed in 7.07 seconds\n"
     ]
    },
    {
     "name": "stderr",
     "output_type": "stream",
     "text": [
      "Processing notes:  83%|███████████████████    | 300/363 [18:09<05:25,  5.16s/it]"
     ]
    },
    {
     "name": "stdout",
     "output_type": "stream",
     "text": [
      "Memory cleaned\n",
      "\n",
      "Processing note 301/363\n",
      "Creating prompt...\n",
      "{\n",
      "    \"person_id\": 54664376, \n",
      "    \"note_date\": \"2020-01-07\", \n",
      "    \"CLASSIFICATION\": 0\n",
      "}\n",
      "Note processed in 2.16 seconds\n"
     ]
    },
    {
     "name": "stderr",
     "output_type": "stream",
     "text": [
      "Processing notes:  83%|███████████████████    | 301/363 [18:12<04:28,  4.33s/it]"
     ]
    },
    {
     "name": "stdout",
     "output_type": "stream",
     "text": [
      "Memory cleaned\n",
      "\n",
      "Processing note 302/363\n",
      "Creating prompt...\n",
      "{\n",
      "    \"person_id\": 63454325, \n",
      "    \"note_date\": \"2018-08-14\", \n",
      "    \"CLASSIFICATION\": 1\n",
      "}\n",
      "Note processed in 3.13 seconds\n"
     ]
    },
    {
     "name": "stderr",
     "output_type": "stream",
     "text": [
      "Processing notes:  83%|███████████████████▏   | 302/363 [18:15<04:06,  4.03s/it]"
     ]
    },
    {
     "name": "stdout",
     "output_type": "stream",
     "text": [
      "Memory cleaned\n",
      "\n",
      "Processing note 303/363\n",
      "Creating prompt...\n",
      "{\"person_id\": 63864294, \"note_date\": \"2018-07-26\", \"CLASSIFICATION\": 1}\n",
      "Note processed in 3.62 seconds\n"
     ]
    },
    {
     "name": "stderr",
     "output_type": "stream",
     "text": [
      "Processing notes:  83%|███████████████████▏   | 303/363 [18:19<03:58,  3.98s/it]"
     ]
    },
    {
     "name": "stdout",
     "output_type": "stream",
     "text": [
      "Memory cleaned\n",
      "\n",
      "Processing note 304/363\n",
      "Creating prompt...\n",
      "{\n",
      "  \"person_id\": 68404294, \n",
      "  \"note_date\": \"2018-08-17\", \n",
      "  \"CLASSIFICATION\": 1\n",
      "}\n",
      "Note processed in 2.93 seconds\n"
     ]
    },
    {
     "name": "stderr",
     "output_type": "stream",
     "text": [
      "Processing notes:  84%|███████████████████▎   | 304/363 [18:22<03:39,  3.73s/it]"
     ]
    },
    {
     "name": "stdout",
     "output_type": "stream",
     "text": [
      "Memory cleaned\n",
      "\n",
      "Processing note 305/363\n",
      "Creating prompt...\n",
      "{\n",
      "  \"person_id\": 73184368, \n",
      "  \"note_date\": \"2020-09-23\", \n",
      "  \"CLASSIFICATION\": 1\n",
      "}\n",
      "Note processed in 4.32 seconds\n"
     ]
    },
    {
     "name": "stderr",
     "output_type": "stream",
     "text": [
      "Processing notes:  84%|███████████████████▎   | 305/363 [18:27<03:50,  3.98s/it]"
     ]
    },
    {
     "name": "stdout",
     "output_type": "stream",
     "text": [
      "Memory cleaned\n",
      "\n",
      "Processing note 306/363\n",
      "Creating prompt...\n",
      "{\n",
      "  \"person_id\": 74444307,\n",
      "  \"note_date\": \"2018-09-13\",\n",
      "  \"CLASSIFICATION\": 1\n",
      "}\n",
      "Note processed in 5.71 seconds\n"
     ]
    },
    {
     "name": "stderr",
     "output_type": "stream",
     "text": [
      "Processing notes:  84%|███████████████████▍   | 306/363 [18:33<04:20,  4.58s/it]"
     ]
    },
    {
     "name": "stdout",
     "output_type": "stream",
     "text": [
      "Memory cleaned\n",
      "\n",
      "Processing note 307/363\n",
      "Creating prompt...\n",
      "{\"person_id\": 75894328, \"note_date\": \"2020-01-14\", \"CLASSIFICATION\": 1}\n",
      "Note processed in 2.08 seconds\n"
     ]
    },
    {
     "name": "stderr",
     "output_type": "stream",
     "text": [
      "Processing notes:  85%|███████████████████▍   | 307/363 [18:35<03:38,  3.90s/it]"
     ]
    },
    {
     "name": "stdout",
     "output_type": "stream",
     "text": [
      "Memory cleaned\n",
      "\n",
      "Processing note 308/363\n",
      "Creating prompt...\n",
      "{\n",
      "    \"person_id\": 77494294, \n",
      "    \"note_date\": \"2018-09-06\", \n",
      "    \"CLASSIFICATION\": 1\n",
      "}\n",
      "Note processed in 2.56 seconds\n"
     ]
    },
    {
     "name": "stderr",
     "output_type": "stream",
     "text": [
      "Processing notes:  85%|███████████████████▌   | 308/363 [18:38<03:15,  3.56s/it]"
     ]
    },
    {
     "name": "stdout",
     "output_type": "stream",
     "text": [
      "Memory cleaned\n",
      "\n",
      "Processing note 309/363\n",
      "Creating prompt...\n",
      "{\n",
      "    \"person_id\": 78084307, \n",
      "    \"note_date\": \"2018-11-12\", \n",
      "    \"CLASSIFICATION\": 0\n",
      "}\n",
      "Note processed in 2.32 seconds\n"
     ]
    },
    {
     "name": "stderr",
     "output_type": "stream",
     "text": [
      "Processing notes:  85%|███████████████████▌   | 309/363 [18:40<02:55,  3.26s/it]"
     ]
    },
    {
     "name": "stdout",
     "output_type": "stream",
     "text": [
      "Memory cleaned\n",
      "\n",
      "Processing note 310/363\n",
      "Creating prompt...\n",
      "{\n",
      "    \"person_id\": 78434335, \n",
      "    \"note_date\": \"2019-12-13\", \n",
      "    \"CLASSIFICATION\": 1\n",
      "}\n",
      "Note processed in 3.76 seconds\n"
     ]
    },
    {
     "name": "stderr",
     "output_type": "stream",
     "text": [
      "Processing notes:  85%|███████████████████▋   | 310/363 [18:44<03:04,  3.48s/it]"
     ]
    },
    {
     "name": "stdout",
     "output_type": "stream",
     "text": [
      "Memory cleaned\n",
      "\n",
      "Processing note 311/363\n",
      "Creating prompt...\n",
      "{\n",
      "    \"person_id\": 80614310, \n",
      "    \"note_date\": \"2019-12-19\", \n",
      "    \"CLASSIFICATION\": 1\n",
      "}\n",
      "Note processed in 3.30 seconds\n"
     ]
    },
    {
     "name": "stderr",
     "output_type": "stream",
     "text": [
      "Processing notes:  86%|███████████████████▋   | 311/363 [18:48<03:01,  3.49s/it]"
     ]
    },
    {
     "name": "stdout",
     "output_type": "stream",
     "text": [
      "Memory cleaned\n",
      "\n",
      "Processing note 312/363\n",
      "Creating prompt...\n",
      "{\n",
      "    \"person_id\": 90444315, \n",
      "    \"note_date\": \"2019-01-08\", \n",
      "    \"CLASSIFICATION\": 1\n",
      "}\n",
      "Note processed in 3.84 seconds\n"
     ]
    },
    {
     "name": "stderr",
     "output_type": "stream",
     "text": [
      "Processing notes:  86%|███████████████████▊   | 312/363 [18:52<03:06,  3.66s/it]"
     ]
    },
    {
     "name": "stdout",
     "output_type": "stream",
     "text": [
      "Memory cleaned\n",
      "\n",
      "Processing note 313/363\n",
      "Creating prompt...\n",
      "{\n",
      "  \"person_id\": 91084316, \n",
      "  \"note_date\": \"2019-01-16\", \n",
      "  \"CLASSIFICATION\": 1\n",
      "}\n",
      "Note processed in 4.19 seconds\n"
     ]
    },
    {
     "name": "stderr",
     "output_type": "stream",
     "text": [
      "Processing notes:  86%|███████████████████▊   | 313/363 [18:56<03:14,  3.89s/it]"
     ]
    },
    {
     "name": "stdout",
     "output_type": "stream",
     "text": [
      "Memory cleaned\n",
      "\n",
      "Processing note 314/363\n",
      "Creating prompt...\n",
      "{\n",
      "    \"person_id\": 91384307, \n",
      "    \"note_date\": \"2019-01-03\", \n",
      "    \"CLASSIFICATION\": 1\n",
      "}\n",
      "Note processed in 3.02 seconds\n"
     ]
    },
    {
     "name": "stderr",
     "output_type": "stream",
     "text": [
      "Processing notes:  87%|███████████████████▉   | 314/363 [19:00<03:01,  3.70s/it]"
     ]
    },
    {
     "name": "stdout",
     "output_type": "stream",
     "text": [
      "Memory cleaned\n",
      "\n",
      "Processing note 315/363\n",
      "Creating prompt...\n",
      "{\n",
      "    \"person_id\": 91524355, \n",
      "    \"note_date\": \"2019-02-09\", \n",
      "    \"CLASSIFICATION\": 1\n",
      "}\n",
      "Note processed in 2.75 seconds\n"
     ]
    },
    {
     "name": "stderr",
     "output_type": "stream",
     "text": [
      "Processing notes:  87%|███████████████████▉   | 315/363 [19:03<02:47,  3.48s/it]"
     ]
    },
    {
     "name": "stdout",
     "output_type": "stream",
     "text": [
      "Memory cleaned\n",
      "\n",
      "Processing note 316/363\n",
      "Creating prompt...\n",
      "{\"person_id\": 92334308, \"note_date\": \"2018-12-28\", \"CLASSIFICATION\": 1}\n",
      "Note processed in 3.78 seconds\n"
     ]
    },
    {
     "name": "stderr",
     "output_type": "stream",
     "text": [
      "Processing notes:  87%|████████████████████   | 316/363 [19:07<02:50,  3.64s/it]"
     ]
    },
    {
     "name": "stdout",
     "output_type": "stream",
     "text": [
      "Memory cleaned\n",
      "\n",
      "Processing note 317/363\n",
      "Creating prompt...\n",
      "{\n",
      "    \"person_id\": 93034302, \n",
      "    \"note_date\": \"2019-02-25\", \n",
      "    \"CLASSIFICATION\": 1\n",
      "}\n",
      "Note processed in 3.38 seconds\n"
     ]
    },
    {
     "name": "stderr",
     "output_type": "stream",
     "text": [
      "Processing notes:  87%|████████████████████   | 317/363 [19:10<02:46,  3.63s/it]"
     ]
    },
    {
     "name": "stdout",
     "output_type": "stream",
     "text": [
      "Memory cleaned\n",
      "\n",
      "Processing note 318/363\n",
      "Creating prompt...\n",
      "{\n",
      "    \"person_id\": 93134301, \n",
      "    \"note_date\": \"2009-08-14\", \n",
      "    \"CLASSIFICATION\": 1\n",
      "}\n",
      "Note processed in 2.94 seconds\n"
     ]
    },
    {
     "name": "stderr",
     "output_type": "stream",
     "text": [
      "Processing notes:  88%|████████████████████▏  | 318/363 [19:13<02:36,  3.49s/it]"
     ]
    },
    {
     "name": "stdout",
     "output_type": "stream",
     "text": [
      "Memory cleaned\n",
      "\n",
      "Processing note 319/363\n",
      "Creating prompt...\n",
      "{\n",
      "    \"person_id\": 102194295, \n",
      "    \"note_date\": \"2019-09-25\", \n",
      "    \"CLASSIFICATION\": 1\n",
      "}\n",
      "Note processed in 2.36 seconds\n"
     ]
    },
    {
     "name": "stderr",
     "output_type": "stream",
     "text": [
      "Processing notes:  88%|████████████████████▏  | 319/363 [19:16<02:21,  3.21s/it]"
     ]
    },
    {
     "name": "stdout",
     "output_type": "stream",
     "text": [
      "Memory cleaned\n",
      "\n",
      "Processing note 320/363\n",
      "Creating prompt...\n",
      "{\n",
      "    \"person_id\": 105894329, \n",
      "    \"note_date\": \"2020-01-14\", \n",
      "    \"CLASSIFICATION\": 1\n",
      "}\n",
      "Note processed in 3.16 seconds\n"
     ]
    },
    {
     "name": "stderr",
     "output_type": "stream",
     "text": [
      "Processing notes:  88%|████████████████████▎  | 320/363 [19:19<02:20,  3.27s/it]"
     ]
    },
    {
     "name": "stdout",
     "output_type": "stream",
     "text": [
      "Memory cleaned\n",
      "\n",
      "Processing note 321/363\n",
      "Creating prompt...\n",
      "{\"person_id\": 107024329, \"note_date\": \"2019-05-06\", \"CLASSIFICATION\": 1}\n",
      "Note processed in 5.28 seconds\n"
     ]
    },
    {
     "name": "stderr",
     "output_type": "stream",
     "text": [
      "Processing notes:  88%|████████████████████▎  | 321/363 [19:25<02:45,  3.94s/it]"
     ]
    },
    {
     "name": "stdout",
     "output_type": "stream",
     "text": [
      "Memory cleaned\n",
      "\n",
      "Processing note 322/363\n",
      "Creating prompt...\n",
      "{\"person_id\": 107104306, \"note_date\": \"2019-04-10\", \"CLASSIFICATION\": 1}\n",
      "Note processed in 3.61 seconds\n"
     ]
    },
    {
     "name": "stderr",
     "output_type": "stream",
     "text": [
      "Processing notes:  89%|████████████████████▍  | 322/363 [19:29<02:40,  3.91s/it]"
     ]
    },
    {
     "name": "stdout",
     "output_type": "stream",
     "text": [
      "Memory cleaned\n",
      "\n",
      "Processing note 323/363\n",
      "Creating prompt...\n",
      "{\n",
      "  \"person_id\": 046555145,\n",
      "  \"note_date\": \"2019-04-20\",\n",
      "  \"CLASSIFICATION\": 1\n",
      "}\n",
      "Error writing to file: Expecting ',' delimiter: line 2 column 17 (char 18)\n",
      "Note processed in 3.36 seconds\n"
     ]
    },
    {
     "name": "stderr",
     "output_type": "stream",
     "text": [
      "Processing notes:  89%|████████████████████▍  | 323/363 [19:32<02:32,  3.82s/it]"
     ]
    },
    {
     "name": "stdout",
     "output_type": "stream",
     "text": [
      "Memory cleaned\n",
      "\n",
      "Processing note 324/363\n",
      "Creating prompt...\n",
      "{\n",
      "    \"person_id\": 111114322, \n",
      "    \"note_date\": \"2019-07-08\", \n",
      "    \"CLASSIFICATION\": 1\n",
      "}\n",
      "Note processed in 3.86 seconds\n"
     ]
    },
    {
     "name": "stderr",
     "output_type": "stream",
     "text": [
      "Processing notes:  89%|████████████████████▌  | 324/363 [19:36<02:32,  3.90s/it]"
     ]
    },
    {
     "name": "stdout",
     "output_type": "stream",
     "text": [
      "Memory cleaned\n",
      "\n",
      "Processing note 325/363\n",
      "Creating prompt...\n",
      "{\n",
      "    \"person_id\": 113134328, \n",
      "    \"note_date\": \"2019-07-14\", \n",
      "    \"CLASSIFICATION\": 1\n",
      "}\n",
      "Note processed in 2.52 seconds\n"
     ]
    },
    {
     "name": "stderr",
     "output_type": "stream",
     "text": [
      "Processing notes:  90%|████████████████████▌  | 325/363 [19:39<02:15,  3.56s/it]"
     ]
    },
    {
     "name": "stdout",
     "output_type": "stream",
     "text": [
      "Memory cleaned\n",
      "\n",
      "Processing note 326/363\n",
      "Creating prompt...\n",
      "{\"person_id\": 114454308, \"note_date\": \"2019-06-27\", \"CLASSIFICATION\": 1}\n",
      "Note processed in 3.92 seconds\n"
     ]
    },
    {
     "name": "stderr",
     "output_type": "stream",
     "text": [
      "Processing notes:  90%|████████████████████▋  | 326/363 [19:43<02:18,  3.73s/it]"
     ]
    },
    {
     "name": "stdout",
     "output_type": "stream",
     "text": [
      "Memory cleaned\n",
      "\n",
      "Processing note 327/363\n",
      "Creating prompt...\n",
      "{\"person_id\": 115924302, \"note_date\": \"2017-01-25\", \"CLASSIFICATION\": 1}\n",
      "Note processed in 3.19 seconds\n"
     ]
    },
    {
     "name": "stderr",
     "output_type": "stream",
     "text": [
      "Processing notes:  90%|████████████████████▋  | 327/363 [19:47<02:11,  3.64s/it]"
     ]
    },
    {
     "name": "stdout",
     "output_type": "stream",
     "text": [
      "Memory cleaned\n",
      "\n",
      "Processing note 328/363\n",
      "Creating prompt...\n",
      "{\n",
      "    \"person_id\": 116894354, \n",
      "    \"note_date\": \"2020-08-22\", \n",
      "    \"CLASSIFICATION\": 1\n",
      "}\n",
      "Note processed in 2.78 seconds\n"
     ]
    },
    {
     "name": "stderr",
     "output_type": "stream",
     "text": [
      "Processing notes:  90%|████████████████████▊  | 328/363 [19:50<02:00,  3.45s/it]"
     ]
    },
    {
     "name": "stdout",
     "output_type": "stream",
     "text": [
      "Memory cleaned\n",
      "\n",
      "Processing note 329/363\n",
      "Creating prompt...\n",
      "{\n",
      "    \"person_id\": 117854359, \n",
      "    \"note_date\": \"2019-11-11\", \n",
      "    \"CLASSIFICATION\": 1\n",
      "}\n",
      "Note processed in 3.18 seconds\n"
     ]
    },
    {
     "name": "stderr",
     "output_type": "stream",
     "text": [
      "Processing notes:  91%|████████████████████▊  | 329/363 [19:53<01:56,  3.43s/it]"
     ]
    },
    {
     "name": "stdout",
     "output_type": "stream",
     "text": [
      "Memory cleaned\n",
      "\n",
      "Processing note 330/363\n",
      "Creating prompt...\n",
      "{\n",
      "    \"person_id\": 118364339, \n",
      "    \"note_date\": \"2019-08-27\", \n",
      "    \"CLASSIFICATION\": 1\n",
      "}\n",
      "Note processed in 3.02 seconds\n"
     ]
    },
    {
     "name": "stderr",
     "output_type": "stream",
     "text": [
      "Processing notes:  91%|████████████████████▉  | 330/363 [19:56<01:51,  3.38s/it]"
     ]
    },
    {
     "name": "stdout",
     "output_type": "stream",
     "text": [
      "Memory cleaned\n",
      "\n",
      "Processing note 331/363\n",
      "Creating prompt...\n",
      "{\"person_id\": 128744296, \"note_date\": \"2019-10-29\", \"CLASSIFICATION\": 0}\n",
      "Note processed in 2.36 seconds\n"
     ]
    },
    {
     "name": "stderr",
     "output_type": "stream",
     "text": [
      "Processing notes:  91%|████████████████████▉  | 331/363 [19:59<01:40,  3.14s/it]"
     ]
    },
    {
     "name": "stdout",
     "output_type": "stream",
     "text": [
      "Memory cleaned\n",
      "\n",
      "Processing note 332/363\n",
      "Creating prompt...\n",
      "{\n",
      "    \"person_id\": 130484341, \n",
      "    \"note_date\": \"2008-02-16\", \n",
      "    \"CLASSIFICATION\": 1\n",
      "}\n",
      "Note processed in 2.33 seconds\n"
     ]
    },
    {
     "name": "stderr",
     "output_type": "stream",
     "text": [
      "Processing notes:  91%|█████████████████████  | 332/363 [20:01<01:31,  2.96s/it]"
     ]
    },
    {
     "name": "stdout",
     "output_type": "stream",
     "text": [
      "Memory cleaned\n",
      "\n",
      "Processing note 333/363\n",
      "Creating prompt...\n",
      "{\"person_id\": 130834336, \"note_date\": \"2019-11-20\", \"CLASSIFICATION\": 1}\n",
      "Note processed in 3.02 seconds\n"
     ]
    },
    {
     "name": "stderr",
     "output_type": "stream",
     "text": [
      "Processing notes:  92%|█████████████████████  | 333/363 [20:05<01:31,  3.05s/it]"
     ]
    },
    {
     "name": "stdout",
     "output_type": "stream",
     "text": [
      "Memory cleaned\n",
      "\n",
      "Processing note 334/363\n",
      "Creating prompt...\n",
      "{\"person_id\": 131824301, \"note_date\": \"2019-10-14\", \"CLASSIFICATION\": 1}\n",
      "Note processed in 3.15 seconds\n"
     ]
    },
    {
     "name": "stderr",
     "output_type": "stream",
     "text": [
      "Processing notes:  92%|█████████████████████▏ | 334/363 [20:08<01:31,  3.15s/it]"
     ]
    },
    {
     "name": "stdout",
     "output_type": "stream",
     "text": [
      "Memory cleaned\n",
      "\n",
      "Processing note 335/363\n",
      "Creating prompt...\n",
      "{\n",
      "    \"person_id\": 133544339, \n",
      "    \"note_date\": \"2020-06-25\", \n",
      "    \"CLASSIFICATION\": 0\n",
      "}\n",
      "Note processed in 2.68 seconds\n"
     ]
    },
    {
     "name": "stderr",
     "output_type": "stream",
     "text": [
      "Processing notes:  92%|█████████████████████▏ | 335/363 [20:11<01:26,  3.07s/it]"
     ]
    },
    {
     "name": "stdout",
     "output_type": "stream",
     "text": [
      "Memory cleaned\n",
      "\n",
      "Processing note 336/363\n",
      "Creating prompt...\n",
      "{\"person_id\": 134154301, \"note_date\": \"2019-10-05\", \"CLASSIFICATION\": 1}\n",
      "Note processed in 2.51 seconds\n"
     ]
    },
    {
     "name": "stderr",
     "output_type": "stream",
     "text": [
      "Processing notes:  93%|█████████████████████▎ | 336/363 [20:14<01:20,  2.97s/it]"
     ]
    },
    {
     "name": "stdout",
     "output_type": "stream",
     "text": [
      "Memory cleaned\n",
      "\n",
      "Processing note 337/363\n",
      "Creating prompt...\n",
      "{\n",
      "    \"person_id\": 134434328, \n",
      "    \"note_date\": \"2020-11-14\", \n",
      "    \"CLASSIFICATION\": 1\n",
      "}\n",
      "Note processed in 2.71 seconds\n"
     ]
    },
    {
     "name": "stderr",
     "output_type": "stream",
     "text": [
      "Processing notes:  93%|█████████████████████▎ | 337/363 [20:17<01:16,  2.96s/it]"
     ]
    },
    {
     "name": "stdout",
     "output_type": "stream",
     "text": [
      "Memory cleaned\n",
      "\n",
      "Processing note 338/363\n",
      "Creating prompt...\n",
      "{\n",
      "    \"person_id\": 136764332, \n",
      "    \"note_date\": \"2020-03-18\", \n",
      "    \"CLASSIFICATION\": 0\n",
      "}\n",
      "Note processed in 2.71 seconds\n"
     ]
    },
    {
     "name": "stderr",
     "output_type": "stream",
     "text": [
      "Processing notes:  93%|█████████████████████▍ | 338/363 [20:20<01:13,  2.95s/it]"
     ]
    },
    {
     "name": "stdout",
     "output_type": "stream",
     "text": [
      "Memory cleaned\n",
      "\n",
      "Processing note 339/363\n",
      "Creating prompt...\n",
      "{\n",
      "    \"person_id\": 138684329, \n",
      "    \"note_date\": \"2020-01-30\", \n",
      "    \"CLASSIFICATION\": 1\n",
      "}\n",
      "Note processed in 2.35 seconds\n"
     ]
    },
    {
     "name": "stderr",
     "output_type": "stream",
     "text": [
      "Processing notes:  93%|█████████████████████▍ | 339/363 [20:22<01:08,  2.84s/it]"
     ]
    },
    {
     "name": "stdout",
     "output_type": "stream",
     "text": [
      "Memory cleaned\n",
      "\n",
      "Processing note 340/363\n",
      "Creating prompt...\n",
      "{\"person_id\": 138814320, \"note_date\": \"2020-01-09\", \"CLASSIFICATION\": 1}\n",
      "Note processed in 4.10 seconds\n"
     ]
    },
    {
     "name": "stderr",
     "output_type": "stream",
     "text": [
      "Processing notes:  94%|█████████████████████▌ | 340/363 [20:26<01:15,  3.28s/it]"
     ]
    },
    {
     "name": "stdout",
     "output_type": "stream",
     "text": [
      "Memory cleaned\n",
      "\n",
      "Processing note 341/363\n",
      "Creating prompt...\n",
      "{\n",
      "  \"person_id\": 139414340, \n",
      "  \"note_date\": \"2020-11-23\", \n",
      "  \"CLASSIFICATION\": 1\n",
      "}\n",
      "Note processed in 3.69 seconds\n"
     ]
    },
    {
     "name": "stderr",
     "output_type": "stream",
     "text": [
      "Processing notes:  94%|█████████████████████▌ | 341/363 [20:30<01:16,  3.47s/it]"
     ]
    },
    {
     "name": "stdout",
     "output_type": "stream",
     "text": [
      "Memory cleaned\n",
      "\n",
      "Processing note 342/363\n",
      "Creating prompt...\n",
      "{\n",
      "  \"person_id\": 141254338, \n",
      "  \"note_date\": \"2020-04-06\", \n",
      "  \"CLASSIFICATION\": 1\n",
      "}\n",
      "Note processed in 4.39 seconds\n"
     ]
    },
    {
     "name": "stderr",
     "output_type": "stream",
     "text": [
      "Processing notes:  94%|█████████████████████▋ | 342/363 [20:35<01:20,  3.82s/it]"
     ]
    },
    {
     "name": "stdout",
     "output_type": "stream",
     "text": [
      "Memory cleaned\n",
      "\n",
      "Processing note 343/363\n",
      "Creating prompt...\n",
      "{\n",
      "  \"person_id\": 046728692,\n",
      "  \"note_date\": \"2020-02-11\",\n",
      "  \"CLASSIFICATION\": 1\n",
      "}\n",
      "Error writing to file: Expecting ',' delimiter: line 2 column 17 (char 18)\n",
      "Note processed in 3.00 seconds\n"
     ]
    },
    {
     "name": "stderr",
     "output_type": "stream",
     "text": [
      "Processing notes:  94%|█████████████████████▋ | 343/363 [20:38<01:12,  3.64s/it]"
     ]
    },
    {
     "name": "stdout",
     "output_type": "stream",
     "text": [
      "Memory cleaned\n",
      "\n",
      "Processing note 344/363\n",
      "Creating prompt...\n",
      "{\n",
      "  \"person_id\": 142484712, \n",
      "  \"note_date\": \"2020-03-18\", \n",
      "  \"CLASSIFICATION\": 1\n",
      "}\n",
      "Note processed in 3.30 seconds\n"
     ]
    },
    {
     "name": "stderr",
     "output_type": "stream",
     "text": [
      "Processing notes:  95%|█████████████████████▊ | 344/363 [20:42<01:08,  3.60s/it]"
     ]
    },
    {
     "name": "stdout",
     "output_type": "stream",
     "text": [
      "Memory cleaned\n",
      "\n",
      "Processing note 345/363\n",
      "Creating prompt...\n",
      "{\n",
      "  \"person_id\": 142734770, \n",
      "  \"note_date\": \"2020-05-05\", \n",
      "  \"CLASSIFICATION\": 1\n",
      "}\n",
      "Note processed in 3.56 seconds\n"
     ]
    },
    {
     "name": "stderr",
     "output_type": "stream",
     "text": [
      "Processing notes:  95%|█████████████████████▊ | 345/363 [20:46<01:05,  3.66s/it]"
     ]
    },
    {
     "name": "stdout",
     "output_type": "stream",
     "text": [
      "Memory cleaned\n",
      "\n",
      "Processing note 346/363\n",
      "Creating prompt...\n",
      "{\n",
      "    \"person_id\": 143094311, \n",
      "    \"note_date\": \"2020-02-13\", \n",
      "    \"CLASSIFICATION\": 1\n",
      "}\n",
      "Note processed in 2.77 seconds\n"
     ]
    },
    {
     "name": "stderr",
     "output_type": "stream",
     "text": [
      "Processing notes:  95%|█████████████████████▉ | 346/363 [20:49<00:58,  3.47s/it]"
     ]
    },
    {
     "name": "stdout",
     "output_type": "stream",
     "text": [
      "Memory cleaned\n",
      "\n",
      "Processing note 347/363\n",
      "Creating prompt...\n",
      "{\n",
      "  \"person_id\": 143324321, \n",
      "  \"note_date\": \"2020-03-02\", \n",
      "  \"CLASSIFICATION\": 1\n",
      "}\n",
      "Note processed in 3.09 seconds\n"
     ]
    },
    {
     "name": "stderr",
     "output_type": "stream",
     "text": [
      "Processing notes:  96%|█████████████████████▉ | 347/363 [20:52<00:54,  3.42s/it]"
     ]
    },
    {
     "name": "stdout",
     "output_type": "stream",
     "text": [
      "Memory cleaned\n",
      "\n",
      "Processing note 348/363\n",
      "Creating prompt...\n",
      "{\"person_id\": 144794296, \"note_date\": \"2020-05-08\", \"CLASSIFICATION\": 1}\n",
      "Note processed in 4.77 seconds\n"
     ]
    },
    {
     "name": "stderr",
     "output_type": "stream",
     "text": [
      "Processing notes:  96%|██████████████████████ | 348/363 [20:57<00:58,  3.90s/it]"
     ]
    },
    {
     "name": "stdout",
     "output_type": "stream",
     "text": [
      "Memory cleaned\n",
      "\n",
      "Processing note 349/363\n",
      "Creating prompt...\n",
      "{\n",
      "  \"person_id\": 145064758, \n",
      "  \"note_date\": \"2020-06-05\", \n",
      "  \"CLASSIFICATION\": 1\n",
      "}\n",
      "Note processed in 3.53 seconds\n"
     ]
    },
    {
     "name": "stderr",
     "output_type": "stream",
     "text": [
      "Processing notes:  96%|██████████████████████ | 349/363 [21:01<00:53,  3.86s/it]"
     ]
    },
    {
     "name": "stdout",
     "output_type": "stream",
     "text": [
      "Memory cleaned\n",
      "\n",
      "Processing note 350/363\n",
      "Creating prompt...\n",
      "{\"person_id\": 145704326, \"note_date\": \"2020-04-27\", \"CLASSIFICATION\": 1}\n",
      "Note processed in 4.71 seconds\n"
     ]
    },
    {
     "name": "stderr",
     "output_type": "stream",
     "text": [
      "Processing notes:  96%|██████████████████████▏| 350/363 [21:06<00:54,  4.18s/it]"
     ]
    },
    {
     "name": "stdout",
     "output_type": "stream",
     "text": [
      "Memory cleaned\n",
      "\n",
      "Processing note 351/363\n",
      "Creating prompt...\n",
      "{\n",
      "    \"person_id\": 146584681, \n",
      "    \"note_date\": \"2020-06-04\", \n",
      "    \"CLASSIFICATION\": 1\n",
      "}\n",
      "Note processed in 2.40 seconds\n"
     ]
    },
    {
     "name": "stderr",
     "output_type": "stream",
     "text": [
      "Processing notes:  97%|██████████████████████▏| 351/363 [21:08<00:44,  3.72s/it]"
     ]
    },
    {
     "name": "stdout",
     "output_type": "stream",
     "text": [
      "Memory cleaned\n",
      "\n",
      "Processing note 352/363\n",
      "Creating prompt...\n",
      "{\n",
      "    \"person_id\": 148174300, \n",
      "    \"note_date\": \"2020-06-04\", \n",
      "    \"CLASSIFICATION\": 1\n",
      "}\n",
      "Note processed in 2.66 seconds\n"
     ]
    },
    {
     "name": "stderr",
     "output_type": "stream",
     "text": [
      "Processing notes:  97%|██████████████████████▎| 352/363 [21:11<00:38,  3.46s/it]"
     ]
    },
    {
     "name": "stdout",
     "output_type": "stream",
     "text": [
      "Memory cleaned\n",
      "\n",
      "Processing note 353/363\n",
      "Creating prompt...\n",
      "{\"person_id\": 151774343, \"note_date\": \"2020-06-12\", \"CLASSIFICATION\": 1}\n",
      "Note processed in 3.12 seconds\n"
     ]
    },
    {
     "name": "stderr",
     "output_type": "stream",
     "text": [
      "Processing notes:  97%|██████████████████████▎| 353/363 [21:14<00:34,  3.43s/it]"
     ]
    },
    {
     "name": "stdout",
     "output_type": "stream",
     "text": [
      "Memory cleaned\n",
      "\n",
      "Processing note 354/363\n",
      "Creating prompt...\n",
      "{\"person_id\": 152424295, \"note_date\": \"2020-08-19\", \"CLASSIFICATION\": 1}\n",
      "Note processed in 4.38 seconds\n"
     ]
    },
    {
     "name": "stderr",
     "output_type": "stream",
     "text": [
      "Processing notes:  98%|██████████████████████▍| 354/363 [21:19<00:34,  3.79s/it]"
     ]
    },
    {
     "name": "stdout",
     "output_type": "stream",
     "text": [
      "Memory cleaned\n",
      "\n",
      "Processing note 355/363\n",
      "Creating prompt...\n",
      "{\n",
      "  \"person_id\": 154224303, \n",
      "  \"note_date\": \"2020-06-04\", \n",
      "  \"CLASSIFICATION\": 1\n",
      "}\n",
      "Note processed in 3.21 seconds\n"
     ]
    },
    {
     "name": "stderr",
     "output_type": "stream",
     "text": [
      "Processing notes:  98%|██████████████████████▍| 355/363 [21:22<00:29,  3.68s/it]"
     ]
    },
    {
     "name": "stdout",
     "output_type": "stream",
     "text": [
      "Memory cleaned\n",
      "\n",
      "Processing note 356/363\n",
      "Creating prompt...\n",
      "{\n",
      "    \"person_id\": 172674303, \n",
      "    \"note_date\": \"2020-08-20\", \n",
      "    \"CLASSIFICATION\": 1\n",
      "}\n",
      "Note processed in 3.48 seconds\n"
     ]
    },
    {
     "name": "stderr",
     "output_type": "stream",
     "text": [
      "Processing notes:  98%|██████████████████████▌| 356/363 [21:26<00:25,  3.69s/it]"
     ]
    },
    {
     "name": "stdout",
     "output_type": "stream",
     "text": [
      "Memory cleaned\n",
      "\n",
      "Processing note 357/363\n",
      "Creating prompt...\n",
      "{\n",
      "    \"person_id\": 174094340, \n",
      "    \"note_date\": \"2021-02-02\", \n",
      "    \"CLASSIFICATION\": 1\n",
      "}\n",
      "Note processed in 3.20 seconds\n"
     ]
    },
    {
     "name": "stderr",
     "output_type": "stream",
     "text": [
      "Processing notes:  98%|██████████████████████▌| 357/363 [21:30<00:21,  3.61s/it]"
     ]
    },
    {
     "name": "stdout",
     "output_type": "stream",
     "text": [
      "Memory cleaned\n",
      "\n",
      "Processing note 358/363\n",
      "Creating prompt...\n",
      "{\n",
      "    \"person_id\": 174934329, \n",
      "    \"note_date\": \"2010-04-14\", \n",
      "    \"CLASSIFICATION\": 0\n",
      "}\n",
      "Note processed in 2.51 seconds\n"
     ]
    },
    {
     "name": "stderr",
     "output_type": "stream",
     "text": [
      "Processing notes:  99%|██████████████████████▋| 358/363 [21:32<00:16,  3.34s/it]"
     ]
    },
    {
     "name": "stdout",
     "output_type": "stream",
     "text": [
      "Memory cleaned\n",
      "\n",
      "Processing note 359/363\n",
      "Creating prompt...\n",
      "{\n",
      "    \"person_id\": 177114331, \n",
      "    \"note_date\": \"2020-11-02\", \n",
      "    \"CLASSIFICATION\": 1\n",
      "}\n",
      "Note processed in 2.99 seconds\n"
     ]
    },
    {
     "name": "stderr",
     "output_type": "stream",
     "text": [
      "Processing notes:  99%|██████████████████████▋| 359/363 [21:36<00:13,  3.31s/it]"
     ]
    },
    {
     "name": "stdout",
     "output_type": "stream",
     "text": [
      "Memory cleaned\n",
      "\n",
      "Processing note 360/363\n",
      "Creating prompt...\n",
      "{\n",
      "    \"person_id\": 177704319, \n",
      "    \"note_date\": \"2020-09-18\", \n",
      "    \"CLASSIFICATION\": 1\n",
      "}\n",
      "Note processed in 2.48 seconds\n"
     ]
    },
    {
     "name": "stderr",
     "output_type": "stream",
     "text": [
      "Processing notes:  99%|██████████████████████▊| 360/363 [21:38<00:09,  3.13s/it]"
     ]
    },
    {
     "name": "stdout",
     "output_type": "stream",
     "text": [
      "Memory cleaned\n",
      "\n",
      "Processing note 361/363\n",
      "Creating prompt...\n",
      "{\"person_id\": 186874301, \"note_date\": \"2020-11-14\", \"CLASSIFICATION\": 1}\n",
      "Note processed in 3.55 seconds\n"
     ]
    },
    {
     "name": "stderr",
     "output_type": "stream",
     "text": [
      "Processing notes:  99%|██████████████████████▊| 361/363 [21:42<00:06,  3.32s/it]"
     ]
    },
    {
     "name": "stdout",
     "output_type": "stream",
     "text": [
      "Memory cleaned\n",
      "\n",
      "Processing note 362/363\n",
      "Creating prompt...\n"
     ]
    },
    {
     "name": "stderr",
     "output_type": "stream",
     "text": [
      "Processing notes: 100%|██████████████████████▉| 362/363 [22:05<00:09,  9.11s/it]"
     ]
    },
    {
     "name": "stdout",
     "output_type": "stream",
     "text": [
      "                \"person_id\": 1900\n",
      "                \"note_date\": \"2020-12-28\", \n",
      "                \"note_date\": \"2020-12-28\", \n",
      "                \"note_date\": \"2020-12-28\", \n",
      "                \"note_date\": \"2020-12-28\", \n",
      "                \"note_date\": \"2020-12-28\", \n",
      "                \"note_date\": \"2020-12-28\", \n",
      "                \"note_date\": \"202\n",
      "No valid JSON content found in response\n",
      "Note processed in 22.33 seconds\n",
      "Memory cleaned\n",
      "\n",
      "Processing note 363/363\n",
      "Creating prompt...\n",
      "{\n",
      "    \"person_id\": 190554294, \n",
      "    \"note_date\": \"2020-12-09\", \n",
      "    \"CLASSIFICATION\": 1\n",
      "}\n",
      "Note processed in 2.43 seconds\n"
     ]
    },
    {
     "name": "stderr",
     "output_type": "stream",
     "text": [
      "Processing notes: 100%|███████████████████████| 363/363 [22:07<00:00,  3.66s/it]"
     ]
    },
    {
     "name": "stdout",
     "output_type": "stream",
     "text": [
      "Memory cleaned\n",
      "Memory cleaned\n",
      "Processing completed successfully\n"
     ]
    },
    {
     "name": "stderr",
     "output_type": "stream",
     "text": [
      "\n",
      "W1205 18:52:17.178000 140073902388992 torch/_inductor/compile_worker/subproc_pool.py:126] SubprocPool unclean exit\n"
     ]
    }
   ],
   "source": [
    "from unsloth.chat_templates import get_chat_template\n",
    "from unsloth import FastLanguageModel\n",
    "import torch\n",
    "import pandas as pd\n",
    "from tqdm import tqdm\n",
    "import gc\n",
    "import re\n",
    "import time\n",
    "from typing import Dict, Any\n",
    "import logging\n",
    "import sys\n",
    "import json\n",
    "\n",
    "class SinglePassProcessor:\n",
    "    def __init__(self, model, tokenizer):\n",
    "        self.model = model\n",
    "        self.tokenizer = tokenizer\n",
    "        self.model.eval()\n",
    "        \n",
    "    def process_note(self, person_id, note_date, note_text, strong_evidence_example, weak_evidence_example, phenotype):\n",
    "        \"\"\"Process a note in a single model pass\"\"\" \n",
    "        print(\"Creating prompt...\")\n",
    "        with torch.no_grad():\n",
    "                prompt = f\"\"\"[INST]\n",
    "                Task: You are a clinical expert analyzing patient notes for evidence of recent suicide attempt. Your main task is to carefully read the notes and classify them as either indicating a suicide attempt or not indicating a suicide attempt. \n",
    "\n",
    "                CLASSIFICATION must be a single number:\n",
    "                   0: Does not indicate suicide attempt\n",
    "                   1: Indicates suicide attempt\n",
    "                \n",
    "                Example clinical notes, analyses, and responses:\n",
    "                {weak_evidence_example}\n",
    "                {strong_evidence_example}\n",
    "                \n",
    "                Analyze the following clinical note: \"{note_text}\"\n",
    "\n",
    "                IMPORTANT: YOU MUST FORMAT YOUR RESPONSE INTO A JSON FORMAT EXACTLY AS FOLLOWS:\n",
    "                {{\n",
    "                \"person_id\": {person_id}, \n",
    "                \"note_date\": \"{note_date}\", \n",
    "                \"CLASSIFICATION\": <Single number only: must be 0 or 1>\n",
    "                }}\n",
    "                IMPORTANT: ONLY OUTPUT THE JSON FORMAT RESPONSE, NOTHING ELSE.\n",
    "                [/INST]\n",
    "                \"\"\"\n",
    "                \n",
    "                messages = [{\"role\": \"user\", \"content\": prompt}]\n",
    "                \n",
    "                inputs = self.tokenizer.apply_chat_template(\n",
    "                                messages,\n",
    "                                tokenize=True,\n",
    "                                add_generation_prompt=True,\n",
    "                                return_tensors=\"pt\",\n",
    "                            ).to(\"cuda\")\n",
    "                input_length = inputs.size(1)\n",
    "                \n",
    "                # Generate model outputs\n",
    "                outputs = self.model.generate(\n",
    "                    input_ids=inputs,\n",
    "                    max_new_tokens=100,\n",
    "                    use_cache=True,\n",
    "                    temperature=0.1\n",
    "                )\n",
    "    \n",
    "                generated_tokens = outputs[:, input_length:]\n",
    "                # Decode and store the result\n",
    "                response = self.tokenizer.batch_decode(generated_tokens, skip_special_tokens=True)[0]\n",
    "                \n",
    "                return response\n",
    "\n",
    "def main():\n",
    "    def append_to_json_file(response_str, file_path):\n",
    "        try:\n",
    "            # Find the JSON content using regex\n",
    "            json_pattern = r'\\{.*\\}'\n",
    "            json_match = re.search(json_pattern, response_str, re.DOTALL)\n",
    "            print(response_str)\n",
    "            if json_match:\n",
    "                json_content = json_match.group(0).strip()\n",
    "                \n",
    "                # Load existing array if file exists, or create new array\n",
    "                try:\n",
    "                    with open(file_path, 'r') as file:\n",
    "                        results = json.load(file)\n",
    "                except (FileNotFoundError, json.JSONDecodeError):\n",
    "                    results = []\n",
    "                \n",
    "                # Append new content\n",
    "                results.append(json.loads(json_content))\n",
    "                \n",
    "                # Write back the updated array\n",
    "                with open(file_path, 'w') as file:\n",
    "                    json.dump(results, file, indent=2)\n",
    "            else:\n",
    "                print(\"No valid JSON content found in response\")\n",
    "        except Exception as e:\n",
    "            print(f\"Error writing to file: {str(e)}\")\n",
    "            \n",
    "    try:\n",
    "        max_seq_length = 2048\n",
    "        dtype = None\n",
    "        load_in_4bit = False\n",
    "        \n",
    "        finetuned_model, tokenizer = FastLanguageModel.from_pretrained(\n",
    "            # model_name = \"../Llama3_2_1B/\",\n",
    "            model_name = \"../Llama3_2_3B/\",\n",
    "            # model_name = \"../Llama3_2_3B_FineTuned/llama-3.2-lora_model\",\n",
    "            max_seq_length = max_seq_length,\n",
    "            dtype = dtype,\n",
    "            load_in_4bit = load_in_4bit\n",
    "        )\n",
    "        \n",
    "        tokenizer = get_chat_template(\n",
    "            tokenizer,\n",
    "            chat_template = \"llama-3.1\",\n",
    "        )\n",
    "        \n",
    "        FastLanguageModel.for_inference(finetuned_model)\n",
    "        \n",
    "        phenotype = \"suicide_attempt\"\n",
    "        with open(f\"../data/{phenotype}/weak_evidence_short.txt\", \"r\") as f:\n",
    "            weak_evidence_example = f.read()\n",
    "        with open(f\"../data/{phenotype}/strong_evidence_short.txt\", \"r\") as f:\n",
    "            strong_evidence_example = f.read()\n",
    "\n",
    "        df = pd.read_csv(f\"../data/{phenotype}/FDA_Chart_Cleaned.csv\")\n",
    "        \n",
    "        # Filepath to the text file\n",
    "        # output_file_path = f\"../data/{phenotype}/Llama3_2_1B_Instruct_3_SA_3_SI_context_SA_output.json\"\n",
    "        output_file_path = f\"../data/{phenotype}/Llama3_2_3B_Instruct_3_SA_3_SI_context_SA_output.json\"\n",
    "        # output_file_path = f\"../data/{phenotype}/Llama3_2_3B_Finetuned_3_SA_3_SI_context_SA_output.json\"\n",
    "\n",
    "        print(\"Initializing processor...\")\n",
    "        processor = SinglePassProcessor(finetuned_model, tokenizer)\n",
    "        print(\"Processor initialized\")\n",
    "\n",
    "        # Process notes with progress bar\n",
    "        for index in tqdm(range(len(df)), desc=\"Processing notes\"):          \n",
    "            try: \n",
    "                if index == 139:\n",
    "                    continue  \n",
    "\n",
    "                print(f\"\\nProcessing note {index + 1}/{len(df)}\")\n",
    "                person_id = df.iloc[index][\"person_id\"]\n",
    "                note_date = df.iloc[index][\"note_date\"]\n",
    "                note_text = df.iloc[index][\"note_text\"]\n",
    "                \n",
    "                # Process note in a single pass with timing\n",
    "                start_time = time.time()\n",
    "                response = processor.process_note(\n",
    "                    person_id,\n",
    "                    note_date,\n",
    "                    note_text,\n",
    "                    strong_evidence_example,\n",
    "                    weak_evidence_example,\n",
    "                    phenotype\n",
    "                )\n",
    "                append_to_json_file(response, output_file_path)\n",
    "\n",
    "                end_time = time.time()\n",
    "                processing_time = end_time - start_time\n",
    "                print(f\"Note processed in {processing_time:.2f} seconds\")\n",
    "                \n",
    "                # Memory cleanup\n",
    "                gc.collect()\n",
    "                if torch.cuda.is_available():\n",
    "                    torch.cuda.empty_cache()\n",
    "                    print(\"Memory cleaned\")\n",
    "                    \n",
    "            except Exception as e:\n",
    "                print(f\"Error processing note at index {index}: {str(e)}\")\n",
    "                import traceback\n",
    "                traceback.print_exc()\n",
    "                continue\n",
    "\n",
    "        gc.collect()\n",
    "        if torch.cuda.is_available():\n",
    "            torch.cuda.empty_cache()\n",
    "            print(\"Memory cleaned\")\n",
    "        print(\"Processing completed successfully\")\n",
    "        \n",
    "    except Exception as e:\n",
    "        print(f\"An error occurred: {str(e)}\")\n",
    "        import traceback\n",
    "        traceback.print_exc()\n",
    "\n",
    "if __name__ == \"__main__\":\n",
    "    main()"
   ]
  }
 ],
 "metadata": {
  "kernelspec": {
   "display_name": "Python 3 (ipykernel)",
   "language": "python",
   "name": "python3"
  },
  "language_info": {
   "codemirror_mode": {
    "name": "ipython",
    "version": 3
   },
   "file_extension": ".py",
   "mimetype": "text/x-python",
   "name": "python",
   "nbconvert_exporter": "python",
   "pygments_lexer": "ipython3",
   "version": "3.11.9"
  }
 },
 "nbformat": 4,
 "nbformat_minor": 5
}
