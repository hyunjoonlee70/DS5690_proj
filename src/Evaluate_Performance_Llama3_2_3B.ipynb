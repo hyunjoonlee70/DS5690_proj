{
 "cells": [
  {
   "cell_type": "code",
   "execution_count": 1,
   "id": "d2351740-60ba-4477-bc2b-a0aa1833baf5",
   "metadata": {},
   "outputs": [
    {
     "name": "stderr",
     "output_type": "stream",
     "text": [
      "\n",
      "Attaching package: ‘dplyr’\n",
      "\n",
      "\n",
      "The following objects are masked from ‘package:stats’:\n",
      "\n",
      "    filter, lag\n",
      "\n",
      "\n",
      "The following objects are masked from ‘package:base’:\n",
      "\n",
      "    intersect, setdiff, setequal, union\n",
      "\n",
      "\n",
      "\n",
      "Attaching package: ‘data.table’\n",
      "\n",
      "\n",
      "The following objects are masked from ‘package:dplyr’:\n",
      "\n",
      "    between, first, last\n",
      "\n",
      "\n"
     ]
    }
   ],
   "source": [
    "library(dplyr)\n",
    "library(data.table)\n",
    "library(jsonlite)"
   ]
  },
  {
   "cell_type": "code",
   "execution_count": 2,
   "id": "c4d5d7ae-dfaa-4434-bf19-eafb9dba9930",
   "metadata": {},
   "outputs": [],
   "source": [
    "sisard_full_results <- fread(\"../data/suicide_attempt/sisard_full_results.csv\")\n",
    "Llama3_2_3B_Instruct_initial <- as.data.table(fromJSON(\"../data/suicide_attempt/Llama3_2_3B_Instruct_3_SA_context_output.json\"))\n",
    "Llama3_2_3B_Instruct_short_context <- as.data.table(fromJSON(\"../data/suicide_attempt/Llama3_2_3B_Instruct_3_SA_3_SI_context_SA_output.json\"))\n",
    "Llama3_2_3B_Instruct_long_context <- as.data.table(fromJSON(\"../data/suicide_attempt/Llama3_2_3B_Instruct_10_SA_10_SI_context_SA_output.json\"))\n",
    "Llama3_2_3B_Instruct_SI_only_context <- as.data.table(fromJSON(\"../data/suicide_attempt/Llama3_2_3B_Instruct_3_SI_context_SA_output.json\"))\n",
    "Llama3_2_3B_Instruct_1_SA_10_SI_context <- as.data.table(fromJSON(\"../data/suicide_attempt/Llama3_2_3B_Instruct_1_SA_10_SI_context_SA_output.json\"))"
   ]
  },
  {
   "cell_type": "code",
   "execution_count": 3,
   "id": "32b3ce70-49af-4651-80c5-056d08d50b3b",
   "metadata": {},
   "outputs": [],
   "source": [
    "sisard_full_results$score_date <- format(as.Date(sisard_full_results$score_date, format = \"%m/%d/%y\"), \"%Y-%m-%d\")\n",
    "sisard_full_results$score_date <- as.Date(sisard_full_results$score_date)\n",
    "sa_true_label <- sisard_full_results %>% distinct(person_id, score_date, .keep_all = TRUE) %>% select(person_id, score_date, score, si, sa) %>% filter(sa != 0 & !is.na(sa))\n",
    "sa_true_label$adi_label <- ifelse(sa_true_label$score >= 70, 1, 0)\n",
    "sa_true_label$si <- ifelse(sa_true_label$si == 1, 1, 0)\n",
    "sa_true_label$sa <- ifelse(sa_true_label$sa == 2, 1, 0)\n",
    "\n",
    "sa_true_label <- sa_true_label %>% select(-score)\n",
    "colnames(sa_true_label) <- c(\"person_id\", \"date\", \"si_true_label\" ,\"true_label\", \"adi_label\")\n",
    "# sa_true_label <- sa_true_label %>% filter(!(si_true_label == 1 & true_label == 0))"
   ]
  },
  {
   "cell_type": "code",
   "execution_count": 4,
   "id": "338783c9-97aa-4ffe-9025-1f1438391ab8",
   "metadata": {},
   "outputs": [
    {
     "data": {
      "text/html": [
       "354"
      ],
      "text/latex": [
       "354"
      ],
      "text/markdown": [
       "354"
      ],
      "text/plain": [
       "[1] 354"
      ]
     },
     "metadata": {},
     "output_type": "display_data"
    },
    {
     "data": {
      "text/html": [
       "355"
      ],
      "text/latex": [
       "355"
      ],
      "text/markdown": [
       "355"
      ],
      "text/plain": [
       "[1] 355"
      ]
     },
     "metadata": {},
     "output_type": "display_data"
    },
    {
     "data": {
      "text/html": [
       "357"
      ],
      "text/latex": [
       "357"
      ],
      "text/markdown": [
       "357"
      ],
      "text/plain": [
       "[1] 357"
      ]
     },
     "metadata": {},
     "output_type": "display_data"
    },
    {
     "data": {
      "text/html": [
       "339"
      ],
      "text/latex": [
       "339"
      ],
      "text/markdown": [
       "339"
      ],
      "text/plain": [
       "[1] 339"
      ]
     },
     "metadata": {},
     "output_type": "display_data"
    },
    {
     "data": {
      "text/html": [
       "358"
      ],
      "text/latex": [
       "358"
      ],
      "text/markdown": [
       "358"
      ],
      "text/plain": [
       "[1] 358"
      ]
     },
     "metadata": {},
     "output_type": "display_data"
    }
   ],
   "source": [
    "# Llama 3.2 3B Instruct Initial\n",
    "Llama3_2_3B_Instruct_initial$note_date <- as.Date(Llama3_2_3B_Instruct_initial$note_date, format = \"%Y-%m-%d\") \n",
    "Llama3_2_3B_Instruct_initial <- Llama3_2_3B_Instruct_initial %>% select(person_id, note_date, CLASSIFICATION)\n",
    "colnames(Llama3_2_3B_Instruct_initial) <- c(\"person_id\", \"date\", \"pred_label\")\n",
    "\n",
    "Llama3_2_3B_Instruct_initial$person_id <- as.numeric(Llama3_2_3B_Instruct_initial$person_id)\n",
    "Llama3_2_3B_Instruct_initial$date <- as.Date(Llama3_2_3B_Instruct_initial$date)\n",
    "Llama3_2_3B_Instruct_initial$pred_label <- as.numeric(Llama3_2_3B_Instruct_initial$pred_label)\n",
    "nrow(Llama3_2_3B_Instruct_initial)\n",
    "\n",
    "# Llama 3.2 3B Instruct Short context\n",
    "Llama3_2_3B_Instruct_short_context$note_date <- as.Date(Llama3_2_3B_Instruct_short_context$note_date, format = \"%Y-%m-%d\") \n",
    "Llama3_2_3B_Instruct_short_context <- Llama3_2_3B_Instruct_short_context %>% select(person_id, note_date, CLASSIFICATION)\n",
    "colnames(Llama3_2_3B_Instruct_short_context) <- c(\"person_id\", \"date\", \"pred_label\")\n",
    "\n",
    "Llama3_2_3B_Instruct_short_context$person_id <- as.numeric(Llama3_2_3B_Instruct_short_context$person_id)\n",
    "Llama3_2_3B_Instruct_short_context$date <- as.Date(Llama3_2_3B_Instruct_short_context$date)\n",
    "Llama3_2_3B_Instruct_short_context$pred_label <- as.numeric(Llama3_2_3B_Instruct_short_context$pred_label)\n",
    "nrow(Llama3_2_3B_Instruct_short_context)\n",
    "\n",
    "# Llama 3.2 3B Instruct long context\n",
    "Llama3_2_3B_Instruct_long_context$note_date <- as.Date(Llama3_2_3B_Instruct_long_context$note_date, format = \"%Y-%m-%d\") \n",
    "Llama3_2_3B_Instruct_long_context <- Llama3_2_3B_Instruct_long_context %>% select(person_id, note_date, CLASSIFICATION)\n",
    "colnames(Llama3_2_3B_Instruct_long_context) <- c(\"person_id\", \"date\", \"pred_label\")\n",
    "\n",
    "Llama3_2_3B_Instruct_long_context$person_id <- as.numeric(Llama3_2_3B_Instruct_long_context$person_id)\n",
    "Llama3_2_3B_Instruct_long_context$date <- as.Date(Llama3_2_3B_Instruct_long_context$date)\n",
    "Llama3_2_3B_Instruct_long_context$pred_label <- as.numeric(Llama3_2_3B_Instruct_long_context$pred_label)\n",
    "nrow(Llama3_2_3B_Instruct_long_context)\n",
    "\n",
    "# Llama 3.2 3B Instruct SI only context\n",
    "Llama3_2_3B_Instruct_SI_only_context$note_date <- as.Date(Llama3_2_3B_Instruct_SI_only_context$note_date, format = \"%Y-%m-%d\") \n",
    "Llama3_2_3B_Instruct_SI_only_context <- Llama3_2_3B_Instruct_SI_only_context %>% select(person_id, note_date, CLASSIFICATION)\n",
    "colnames(Llama3_2_3B_Instruct_SI_only_context) <- c(\"person_id\", \"date\", \"pred_label\")\n",
    "\n",
    "Llama3_2_3B_Instruct_SI_only_context$person_id <- as.numeric(Llama3_2_3B_Instruct_SI_only_context$person_id)\n",
    "Llama3_2_3B_Instruct_SI_only_context$date <- as.Date(Llama3_2_3B_Instruct_SI_only_context$date)\n",
    "Llama3_2_3B_Instruct_SI_only_context$pred_label <- as.numeric(Llama3_2_3B_Instruct_SI_only_context$pred_label)\n",
    "nrow(Llama3_2_3B_Instruct_SI_only_context)\n",
    "\n",
    "# Llama 3.2 3B Instruct 1 SA 20 SI context\n",
    "Llama3_2_3B_Instruct_1_SA_10_SI_context$note_date <- as.Date(Llama3_2_3B_Instruct_1_SA_10_SI_context$note_date, format = \"%Y-%m-%d\") \n",
    "Llama3_2_3B_Instruct_1_SA_10_SI_context <- Llama3_2_3B_Instruct_1_SA_10_SI_context %>% select(person_id, note_date, CLASSIFICATION)\n",
    "colnames(Llama3_2_3B_Instruct_1_SA_10_SI_context) <- c(\"person_id\", \"date\", \"pred_label\")\n",
    "\n",
    "Llama3_2_3B_Instruct_1_SA_10_SI_context$person_id <- as.numeric(Llama3_2_3B_Instruct_1_SA_10_SI_context$person_id)\n",
    "Llama3_2_3B_Instruct_1_SA_10_SI_context$date <- as.Date(Llama3_2_3B_Instruct_1_SA_10_SI_context$date)\n",
    "Llama3_2_3B_Instruct_1_SA_10_SI_context$pred_label <- as.numeric(Llama3_2_3B_Instruct_1_SA_10_SI_context$pred_label)\n",
    "nrow(Llama3_2_3B_Instruct_1_SA_10_SI_context)"
   ]
  },
  {
   "cell_type": "code",
   "execution_count": 5,
   "id": "8cc51dcd-bb27-4c78-9229-c8bbf992952d",
   "metadata": {},
   "outputs": [
    {
     "name": "stdout",
     "output_type": "stream",
     "text": [
      "[1] 41\n",
      "[1] 36\n",
      "[1] 30\n",
      "[1] 62\n",
      "[1] 29\n"
     ]
    }
   ],
   "source": [
    "results_table_3B_initial <- left_join(sa_true_label, Llama3_2_3B_Instruct_initial, by = c(\"person_id\", \"date\"))\n",
    "results_table_3B_short_context <- left_join(sa_true_label, Llama3_2_3B_Instruct_short_context, by = c(\"person_id\", \"date\"))\n",
    "results_table_3B_long_context <- left_join(sa_true_label, Llama3_2_3B_Instruct_long_context, by = c(\"person_id\", \"date\"))\n",
    "results_table_3B_SI_only_context <- left_join(sa_true_label, Llama3_2_3B_Instruct_SI_only_context, by = c(\"person_id\", \"date\"))\n",
    "results_table_3B_1_SA_10_SI_context <- left_join(sa_true_label, Llama3_2_3B_Instruct_1_SA_10_SI_context, by = c(\"person_id\", \"date\"))\n",
    "\n",
    "results_table_3B_initial_na.rm <- results_table_3B_initial %>% filter(!is.na(pred_label))\n",
    "results_table_3B_short_context_na.rm <- results_table_3B_short_context %>% filter(!is.na(pred_label))\n",
    "results_table_3B_long_context_na.rm <- results_table_3B_long_context %>% filter(!is.na(pred_label))\n",
    "results_table_3B_SI_only_context_na.rm <- results_table_3B_SI_only_context %>% filter(!is.na(pred_label))\n",
    "results_table_3B_1_SA_10_SI_context_na.rm <- results_table_3B_1_SA_10_SI_context %>% filter(!is.na(pred_label))\n",
    "\n",
    "print(363 - nrow(results_table_3B_initial_na.rm))\n",
    "print(363 - nrow(results_table_3B_short_context_na.rm))\n",
    "print(363 - nrow(results_table_3B_long_context_na.rm))\n",
    "print(363 - nrow(results_table_3B_SI_only_context_na.rm))\n",
    "print(363 - nrow(results_table_3B_1_SA_10_SI_context_na.rm))\n",
    "\n",
    "# print(288 - nrow(results_table_1B_na.rm))\n",
    "# print(288 - nrow(results_table_3B_na.rm))\n",
    "# print(288 - nrow(results_table_3B_FineTuned_na.rm))\n",
    "# print(288 - nrow(results_table_BRIM))"
   ]
  },
  {
   "cell_type": "code",
   "execution_count": 6,
   "id": "4bb4e3d6-e59a-48c7-9cd0-788942b46343",
   "metadata": {},
   "outputs": [
    {
     "name": "stdout",
     "output_type": "stream",
     "text": [
      "         Actual\n",
      "Predicted   0   1\n",
      "        0 124 127\n",
      "        1  18  73\n",
      "[1] \"Llama 3.2 1B Instruct\"\n",
      "Sensitivity (Recall): 0.365 \n",
      "Specificity: 0.8732394 \n",
      "Accuracy: 0.5760234 \n",
      "Precision: 0.8021978 \n",
      "F1: 0.5017182 \n"
     ]
    }
   ],
   "source": [
    "conf_matrix_ADI <- table(Predicted = sa_true_label$adi_label, \n",
    "                         Actual = sa_true_label$true_label)\n",
    "print(conf_matrix_ADI)\n",
    "\n",
    "# Extract values from the table\n",
    "TN <- conf_matrix_ADI[1, 1]\n",
    "FP <- conf_matrix_ADI[2, 1]\n",
    "FN <- conf_matrix_ADI[1, 2]\n",
    "TP <- conf_matrix_ADI[2, 2]\n",
    "\n",
    "# Calculate performance metrics\n",
    "sensitivity <- TP / (TP + FN)  # True Positive Rate\n",
    "specificity <- TN / (TN + FP)  # True Negative Rate\n",
    "accuracy <- (TP + TN) / (TP + TN + FP + FN)  # Overall Accuracy\n",
    "precision <- TP / (TP + FP)  # Positive Predictive Value\n",
    "F1 <- 2 * (precision * sensitivity) / (precision + sensitivity)\n",
    "\n",
    "print(\"Llama 3.2 1B Instruct\")\n",
    "# Print the metrics\n",
    "cat(\"Sensitivity (Recall):\", sensitivity, \"\\n\")\n",
    "cat(\"Specificity:\", specificity, \"\\n\")\n",
    "cat(\"Accuracy:\", accuracy, \"\\n\")\n",
    "cat(\"Precision:\", precision, \"\\n\")\n",
    "cat(\"F1:\", F1, \"\\n\")"
   ]
  },
  {
   "cell_type": "code",
   "execution_count": 7,
   "id": "cc00f679-552e-4954-bbcf-861732504dbd",
   "metadata": {},
   "outputs": [
    {
     "name": "stdout",
     "output_type": "stream",
     "text": [
      "         Actual\n",
      "Predicted   0   1\n",
      "        0  11   5\n",
      "        1 123 183\n",
      "[1] \"Llama 3.2 3B Instruct Initial (3 SA examples)\"\n",
      "Sensitivity (Recall): 0.9734043 \n",
      "Specificity: 0.08208955 \n",
      "Accuracy: 0.6024845 \n",
      "Precision: 0.5980392 \n",
      "F1: 0.7408907 \n"
     ]
    }
   ],
   "source": [
    "conf_matrix_3B_initial <- table(Predicted = results_table_3B_initial_na.rm$pred_label, \n",
    "                        Actual = results_table_3B_initial_na.rm$true_label)\n",
    "print(conf_matrix_3B_initial)\n",
    "\n",
    "# Extract values from the table\n",
    "TN <- conf_matrix_3B_initial[1, 1]\n",
    "FP <- conf_matrix_3B_initial[2, 1]\n",
    "FN <- conf_matrix_3B_initial[1, 2]\n",
    "TP <- conf_matrix_3B_initial[2, 2]\n",
    "\n",
    "# Calculate performance metrics\n",
    "sensitivity <- TP / (TP + FN)  # True Positive Rate\n",
    "specificity <- TN / (TN + FP)  # True Negative Rate\n",
    "accuracy <- (TP + TN) / (TP + TN + FP + FN)  # Overall Accuracy\n",
    "precision <- TP / (TP + FP)  # Positive Predictive Value\n",
    "F1 <- 2 * (precision * sensitivity) / (precision + sensitivity)\n",
    "\n",
    "print(\"Llama 3.2 3B Instruct Initial (3 SA examples)\")\n",
    "# Print the metrics\n",
    "cat(\"Sensitivity (Recall):\", sensitivity, \"\\n\")\n",
    "cat(\"Specificity:\", specificity, \"\\n\")\n",
    "cat(\"Accuracy:\", accuracy, \"\\n\")\n",
    "cat(\"Precision:\", precision, \"\\n\")\n",
    "cat(\"F1:\", F1, \"\\n\")"
   ]
  },
  {
   "cell_type": "code",
   "execution_count": 8,
   "id": "1be5f0d5-d9ed-4b2f-8588-e1873e8e5eed",
   "metadata": {},
   "outputs": [
    {
     "name": "stdout",
     "output_type": "stream",
     "text": [
      "         Actual\n",
      "Predicted   0   1\n",
      "        0 120 136\n",
      "        1   9  36\n",
      "[1] \"Llama 3.2 3B Instruct (3 SI examples)\"\n",
      "Sensitivity (Recall): 0.2093023 \n",
      "Specificity: 0.9302326 \n",
      "Accuracy: 0.5182724 \n",
      "Precision: 0.8 \n",
      "F1: 0.3317972 \n"
     ]
    }
   ],
   "source": [
    "conf_matrix_3B_SI_only_context <- table(Predicted = results_table_3B_SI_only_context_na.rm$pred_label, \n",
    "                                     Actual = results_table_3B_SI_only_context_na.rm$true_label)\n",
    "print(conf_matrix_3B_SI_only_context)\n",
    "\n",
    "# Extract values from the table\n",
    "TN <- conf_matrix_3B_SI_only_context[1, 1]\n",
    "FP <- conf_matrix_3B_SI_only_context[2, 1]\n",
    "FN <- conf_matrix_3B_SI_only_context[1, 2]\n",
    "TP <- conf_matrix_3B_SI_only_context[2, 2]\n",
    "\n",
    "# Calculate performance metrics\n",
    "sensitivity <- TP / (TP + FN)  # True Positive Rate\n",
    "specificity <- TN / (TN + FP)  # True Negative Rate\n",
    "accuracy <- (TP + TN) / (TP + TN + FP + FN)  # Overall Accuracy\n",
    "precision <- TP / (TP + FP)  # Positive Predictive Value\n",
    "F1 <- 2 * (precision * sensitivity) / (precision + sensitivity)\n",
    "\n",
    "print(\"Llama 3.2 3B Instruct (3 SI examples)\")\n",
    "# Print the metrics\n",
    "cat(\"Sensitivity (Recall):\", sensitivity, \"\\n\")\n",
    "cat(\"Specificity:\", specificity, \"\\n\")\n",
    "cat(\"Accuracy:\", accuracy, \"\\n\")\n",
    "cat(\"Precision:\", precision, \"\\n\")\n",
    "cat(\"F1:\", F1, \"\\n\")"
   ]
  },
  {
   "cell_type": "code",
   "execution_count": 9,
   "id": "6d4e8aa1-4449-45e6-aa76-3e3b6af444a1",
   "metadata": {},
   "outputs": [
    {
     "name": "stdout",
     "output_type": "stream",
     "text": [
      "         Actual\n",
      "Predicted   0   1\n",
      "        0  34  30\n",
      "        1  99 164\n",
      "[1] \"Llama 3.2 3B Instruct (3 SA examples and 3 SI examples)\"\n",
      "Sensitivity (Recall): 0.8453608 \n",
      "Specificity: 0.2556391 \n",
      "Accuracy: 0.6055046 \n",
      "Precision: 0.6235741 \n",
      "F1: 0.7177243 \n"
     ]
    }
   ],
   "source": [
    "conf_matrix_3B_short_context <- table(Predicted = results_table_3B_short_context_na.rm$pred_label, \n",
    "                                      Actual = results_table_3B_short_context_na.rm$true_label)\n",
    "print(conf_matrix_3B_short_context)\n",
    "\n",
    "# Extract values from the table\n",
    "TN <- conf_matrix_3B_short_context[1, 1]\n",
    "FP <- conf_matrix_3B_short_context[2, 1]\n",
    "FN <- conf_matrix_3B_short_context[1, 2]\n",
    "TP <- conf_matrix_3B_short_context[2, 2]\n",
    "\n",
    "# Calculate performance metrics\n",
    "sensitivity <- TP / (TP + FN)  # True Positive Rate\n",
    "specificity <- TN / (TN + FP)  # True Negative Rate\n",
    "accuracy <- (TP + TN) / (TP + TN + FP + FN)  # Overall Accuracy\n",
    "precision <- TP / (TP + FP)  # Positive Predictive Value\n",
    "F1 <- 2 * (precision * sensitivity) / (precision + sensitivity)\n",
    "\n",
    "print(\"Llama 3.2 3B Instruct (3 SA examples and 3 SI examples)\")\n",
    "# Print the metrics\n",
    "cat(\"Sensitivity (Recall):\", sensitivity, \"\\n\")\n",
    "cat(\"Specificity:\", specificity, \"\\n\")\n",
    "cat(\"Accuracy:\", accuracy, \"\\n\")\n",
    "cat(\"Precision:\", precision, \"\\n\")\n",
    "cat(\"F1:\", F1, \"\\n\")"
   ]
  },
  {
   "cell_type": "code",
   "execution_count": 10,
   "id": "2925fd53-9ce9-4960-93db-1a237e339654",
   "metadata": {},
   "outputs": [
    {
     "name": "stdout",
     "output_type": "stream",
     "text": [
      "         Actual\n",
      "Predicted   0   1\n",
      "        0  25  13\n",
      "        1 113 182\n",
      "[1] \"Llama 3.2 3B Instruct (10 SA examples and 10 SI examples)\"\n",
      "Sensitivity (Recall): 0.9333333 \n",
      "Specificity: 0.1811594 \n",
      "Accuracy: 0.6216216 \n",
      "Precision: 0.6169492 \n",
      "F1: 0.7428571 \n"
     ]
    }
   ],
   "source": [
    "conf_matrix_3B_long_context <- table(Predicted = results_table_3B_long_context_na.rm$pred_label, \n",
    "                                     Actual = results_table_3B_long_context_na.rm$true_label)\n",
    "print(conf_matrix_3B_long_context)\n",
    "\n",
    "# Extract values from the table\n",
    "TN <- conf_matrix_3B_long_context[1, 1]\n",
    "FP <- conf_matrix_3B_long_context[2, 1]\n",
    "FN <- conf_matrix_3B_long_context[1, 2]\n",
    "TP <- conf_matrix_3B_long_context[2, 2]\n",
    "\n",
    "# Calculate performance metrics\n",
    "sensitivity <- TP / (TP + FN)  # True Positive Rate\n",
    "specificity <- TN / (TN + FP)  # True Negative Rate\n",
    "accuracy <- (TP + TN) / (TP + TN + FP + FN)  # Overall Accuracy\n",
    "precision <- TP / (TP + FP)  # Positive Predictive Value\n",
    "F1 <- 2 * (precision * sensitivity) / (precision + sensitivity)\n",
    "\n",
    "print(\"Llama 3.2 3B Instruct (10 SA examples and 10 SI examples)\")\n",
    "# Print the metrics\n",
    "cat(\"Sensitivity (Recall):\", sensitivity, \"\\n\")\n",
    "cat(\"Specificity:\", specificity, \"\\n\")\n",
    "cat(\"Accuracy:\", accuracy, \"\\n\")\n",
    "cat(\"Precision:\", precision, \"\\n\")\n",
    "cat(\"F1:\", F1, \"\\n\")"
   ]
  },
  {
   "cell_type": "code",
   "execution_count": 12,
   "id": "b333370c-4f24-4509-b0f2-835df59e3f46",
   "metadata": {},
   "outputs": [
    {
     "name": "stdout",
     "output_type": "stream",
     "text": [
      "         Actual\n",
      "Predicted   0   1\n",
      "        0  38  12\n",
      "        1  99 185\n",
      "[1] \"Llama 3.2 3B Instruct (1 SA examples and 10 SI examples)\"\n",
      "Sensitivity (Recall): 0.9390863 \n",
      "Specificity: 0.2773723 \n",
      "Accuracy: 0.6676647 \n",
      "Precision: 0.6514085 \n",
      "F1: 0.7692308 \n"
     ]
    }
   ],
   "source": [
    "conf_matrix_3B_1_SA_10_SI_context <- table(Predicted = results_table_3B_1_SA_10_SI_context_na.rm$pred_label, \n",
    "                                        Actual = results_table_3B_1_SA_10_SI_context_na.rm$true_label)\n",
    "print(conf_matrix_3B_1_SA_10_SI_context)\n",
    "\n",
    "# Extract values from the table\n",
    "TN <- conf_matrix_3B_1_SA_10_SI_context[1, 1]\n",
    "FP <- conf_matrix_3B_1_SA_10_SI_context[2, 1]\n",
    "FN <- conf_matrix_3B_1_SA_10_SI_context[1, 2]\n",
    "TP <- conf_matrix_3B_1_SA_10_SI_context[2, 2]\n",
    "\n",
    "# Calculate performance metrics\n",
    "sensitivity <- TP / (TP + FN)  # True Positive Rate\n",
    "specificity <- TN / (TN + FP)  # True Negative Rate\n",
    "accuracy <- (TP + TN) / (TP + TN + FP + FN)  # Overall Accuracy\n",
    "precision <- TP / (TP + FP)  # Positive Predictive Value\n",
    "F1 <- 2 * (precision * sensitivity) / (precision + sensitivity)\n",
    "\n",
    "print(\"Llama 3.2 3B Instruct (1 SA examples and 10 SI examples)\")\n",
    "# Print the metrics\n",
    "cat(\"Sensitivity (Recall):\", sensitivity, \"\\n\")\n",
    "cat(\"Specificity:\", specificity, \"\\n\")\n",
    "cat(\"Accuracy:\", accuracy, \"\\n\")\n",
    "cat(\"Precision:\", precision, \"\\n\")\n",
    "cat(\"F1:\", F1, \"\\n\")"
   ]
  }
 ],
 "metadata": {
  "kernelspec": {
   "display_name": "R",
   "language": "R",
   "name": "ir"
  },
  "language_info": {
   "codemirror_mode": "r",
   "file_extension": ".r",
   "mimetype": "text/x-r-source",
   "name": "R",
   "pygments_lexer": "r",
   "version": "4.4.2"
  }
 },
 "nbformat": 4,
 "nbformat_minor": 5
}
